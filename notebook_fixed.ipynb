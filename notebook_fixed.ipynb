{
 "cells": [
  {
   "cell_type": "code",
   "execution_count": 1,
   "metadata": {},
   "outputs": [
    {
     "name": "stdout",
     "output_type": "stream",
     "text": [
      "Requirement already satisfied: transformers in /Users/naomi/anaconda3/envs/deeplearning/lib/python3.11/site-packages (4.36.2)\n",
      "Requirement already satisfied: pymilvus in /Users/naomi/anaconda3/envs/deeplearning/lib/python3.11/site-packages (2.5.5)\n",
      "Requirement already satisfied: sentence-transformers in /Users/naomi/anaconda3/envs/deeplearning/lib/python3.11/site-packages (3.4.1)\n",
      "Requirement already satisfied: huggingface-hub in /Users/naomi/anaconda3/envs/deeplearning/lib/python3.11/site-packages (0.30.1)\n",
      "Requirement already satisfied: langchain_community in /Users/naomi/anaconda3/envs/deeplearning/lib/python3.11/site-packages (0.3.19)\n",
      "Requirement already satisfied: langchain-text-splitters in /Users/naomi/anaconda3/envs/deeplearning/lib/python3.11/site-packages (0.3.6)\n",
      "Requirement already satisfied: pypdf in /Users/naomi/anaconda3/envs/deeplearning/lib/python3.11/site-packages (5.4.0)\n",
      "Requirement already satisfied: filelock in /Users/naomi/anaconda3/envs/deeplearning/lib/python3.11/site-packages (from transformers) (3.18.0)\n",
      "Requirement already satisfied: numpy>=1.17 in /Users/naomi/anaconda3/envs/deeplearning/lib/python3.11/site-packages (from transformers) (2.2.4)\n",
      "Requirement already satisfied: packaging>=20.0 in /Users/naomi/anaconda3/envs/deeplearning/lib/python3.11/site-packages (from transformers) (24.2)\n",
      "Requirement already satisfied: pyyaml>=5.1 in /Users/naomi/anaconda3/envs/deeplearning/lib/python3.11/site-packages (from transformers) (6.0.2)\n",
      "Requirement already satisfied: regex!=2019.12.17 in /Users/naomi/anaconda3/envs/deeplearning/lib/python3.11/site-packages (from transformers) (2024.11.6)\n",
      "Requirement already satisfied: requests in /Users/naomi/anaconda3/envs/deeplearning/lib/python3.11/site-packages (from transformers) (2.32.3)\n",
      "Requirement already satisfied: tokenizers<0.19,>=0.14 in /Users/naomi/anaconda3/envs/deeplearning/lib/python3.11/site-packages (from transformers) (0.15.2)\n",
      "Requirement already satisfied: safetensors>=0.3.1 in /Users/naomi/anaconda3/envs/deeplearning/lib/python3.11/site-packages (from transformers) (0.5.3)\n",
      "Requirement already satisfied: tqdm>=4.27 in /Users/naomi/anaconda3/envs/deeplearning/lib/python3.11/site-packages (from transformers) (4.67.1)\n",
      "Requirement already satisfied: setuptools>69 in /Users/naomi/anaconda3/envs/deeplearning/lib/python3.11/site-packages (from pymilvus) (75.8.0)\n",
      "Requirement already satisfied: grpcio<=1.67.1,>=1.49.1 in /Users/naomi/anaconda3/envs/deeplearning/lib/python3.11/site-packages (from pymilvus) (1.67.1)\n",
      "Requirement already satisfied: protobuf>=3.20.0 in /Users/naomi/anaconda3/envs/deeplearning/lib/python3.11/site-packages (from pymilvus) (6.30.1)\n",
      "Requirement already satisfied: python-dotenv<2.0.0,>=1.0.1 in /Users/naomi/anaconda3/envs/deeplearning/lib/python3.11/site-packages (from pymilvus) (1.0.1)\n",
      "Requirement already satisfied: ujson>=2.0.0 in /Users/naomi/anaconda3/envs/deeplearning/lib/python3.11/site-packages (from pymilvus) (5.10.0)\n",
      "Requirement already satisfied: pandas>=1.2.4 in /Users/naomi/anaconda3/envs/deeplearning/lib/python3.11/site-packages (from pymilvus) (2.2.3)\n",
      "Requirement already satisfied: milvus-lite>=2.4.0 in /Users/naomi/anaconda3/envs/deeplearning/lib/python3.11/site-packages (from pymilvus) (2.4.11)\n",
      "Collecting transformers\n",
      "  Downloading transformers-4.51.0-py3-none-any.whl.metadata (38 kB)\n",
      "Requirement already satisfied: torch>=1.11.0 in /Users/naomi/anaconda3/envs/deeplearning/lib/python3.11/site-packages (from sentence-transformers) (2.6.0)\n",
      "Requirement already satisfied: scikit-learn in /Users/naomi/anaconda3/envs/deeplearning/lib/python3.11/site-packages (from sentence-transformers) (1.6.1)\n",
      "Requirement already satisfied: scipy in /Users/naomi/anaconda3/envs/deeplearning/lib/python3.11/site-packages (from sentence-transformers) (1.15.2)\n",
      "Requirement already satisfied: Pillow in /Users/naomi/anaconda3/envs/deeplearning/lib/python3.11/site-packages (from sentence-transformers) (11.1.0)\n",
      "Collecting tokenizers<0.22,>=0.21 (from transformers)\n",
      "  Using cached tokenizers-0.21.1-cp39-abi3-macosx_11_0_arm64.whl.metadata (6.8 kB)\n",
      "Requirement already satisfied: fsspec>=2023.5.0 in /Users/naomi/anaconda3/envs/deeplearning/lib/python3.11/site-packages (from huggingface-hub) (2024.12.0)\n",
      "Requirement already satisfied: typing-extensions>=3.7.4.3 in /Users/naomi/anaconda3/envs/deeplearning/lib/python3.11/site-packages (from huggingface-hub) (4.12.2)\n",
      "Requirement already satisfied: langchain-core<1.0.0,>=0.3.41 in /Users/naomi/anaconda3/envs/deeplearning/lib/python3.11/site-packages (from langchain_community) (0.3.45)\n",
      "Requirement already satisfied: langchain<1.0.0,>=0.3.20 in /Users/naomi/anaconda3/envs/deeplearning/lib/python3.11/site-packages (from langchain_community) (0.3.20)\n",
      "Requirement already satisfied: SQLAlchemy<3,>=1.4 in /Users/naomi/anaconda3/envs/deeplearning/lib/python3.11/site-packages (from langchain_community) (2.0.39)\n",
      "Requirement already satisfied: aiohttp<4.0.0,>=3.8.3 in /Users/naomi/anaconda3/envs/deeplearning/lib/python3.11/site-packages (from langchain_community) (3.11.14)\n",
      "Requirement already satisfied: tenacity!=8.4.0,<10,>=8.1.0 in /Users/naomi/anaconda3/envs/deeplearning/lib/python3.11/site-packages (from langchain_community) (9.0.0)\n",
      "Requirement already satisfied: dataclasses-json<0.7,>=0.5.7 in /Users/naomi/anaconda3/envs/deeplearning/lib/python3.11/site-packages (from langchain_community) (0.6.7)\n",
      "Requirement already satisfied: pydantic-settings<3.0.0,>=2.4.0 in /Users/naomi/anaconda3/envs/deeplearning/lib/python3.11/site-packages (from langchain_community) (2.8.1)\n",
      "Requirement already satisfied: langsmith<0.4,>=0.1.125 in /Users/naomi/anaconda3/envs/deeplearning/lib/python3.11/site-packages (from langchain_community) (0.3.15)\n",
      "Requirement already satisfied: httpx-sse<1.0.0,>=0.4.0 in /Users/naomi/anaconda3/envs/deeplearning/lib/python3.11/site-packages (from langchain_community) (0.4.0)\n",
      "Requirement already satisfied: aiohappyeyeballs>=2.3.0 in /Users/naomi/anaconda3/envs/deeplearning/lib/python3.11/site-packages (from aiohttp<4.0.0,>=3.8.3->langchain_community) (2.6.1)\n",
      "Requirement already satisfied: aiosignal>=1.1.2 in /Users/naomi/anaconda3/envs/deeplearning/lib/python3.11/site-packages (from aiohttp<4.0.0,>=3.8.3->langchain_community) (1.3.2)\n",
      "Requirement already satisfied: attrs>=17.3.0 in /Users/naomi/anaconda3/envs/deeplearning/lib/python3.11/site-packages (from aiohttp<4.0.0,>=3.8.3->langchain_community) (25.3.0)\n",
      "Requirement already satisfied: frozenlist>=1.1.1 in /Users/naomi/anaconda3/envs/deeplearning/lib/python3.11/site-packages (from aiohttp<4.0.0,>=3.8.3->langchain_community) (1.5.0)\n",
      "Requirement already satisfied: multidict<7.0,>=4.5 in /Users/naomi/anaconda3/envs/deeplearning/lib/python3.11/site-packages (from aiohttp<4.0.0,>=3.8.3->langchain_community) (6.2.0)\n",
      "Requirement already satisfied: propcache>=0.2.0 in /Users/naomi/anaconda3/envs/deeplearning/lib/python3.11/site-packages (from aiohttp<4.0.0,>=3.8.3->langchain_community) (0.3.0)\n",
      "Requirement already satisfied: yarl<2.0,>=1.17.0 in /Users/naomi/anaconda3/envs/deeplearning/lib/python3.11/site-packages (from aiohttp<4.0.0,>=3.8.3->langchain_community) (1.18.3)\n",
      "Requirement already satisfied: marshmallow<4.0.0,>=3.18.0 in /Users/naomi/anaconda3/envs/deeplearning/lib/python3.11/site-packages (from dataclasses-json<0.7,>=0.5.7->langchain_community) (3.26.1)\n",
      "Requirement already satisfied: typing-inspect<1,>=0.4.0 in /Users/naomi/anaconda3/envs/deeplearning/lib/python3.11/site-packages (from dataclasses-json<0.7,>=0.5.7->langchain_community) (0.9.0)\n",
      "Requirement already satisfied: pydantic<3.0.0,>=2.7.4 in /Users/naomi/anaconda3/envs/deeplearning/lib/python3.11/site-packages (from langchain<1.0.0,>=0.3.20->langchain_community) (2.10.6)\n",
      "Requirement already satisfied: jsonpatch<2.0,>=1.33 in /Users/naomi/anaconda3/envs/deeplearning/lib/python3.11/site-packages (from langchain-core<1.0.0,>=0.3.41->langchain_community) (1.33)\n",
      "Requirement already satisfied: httpx<1,>=0.23.0 in /Users/naomi/anaconda3/envs/deeplearning/lib/python3.11/site-packages (from langsmith<0.4,>=0.1.125->langchain_community) (0.28.1)\n",
      "Requirement already satisfied: orjson<4.0.0,>=3.9.14 in /Users/naomi/anaconda3/envs/deeplearning/lib/python3.11/site-packages (from langsmith<0.4,>=0.1.125->langchain_community) (3.10.15)\n",
      "Requirement already satisfied: requests-toolbelt<2.0.0,>=1.0.0 in /Users/naomi/anaconda3/envs/deeplearning/lib/python3.11/site-packages (from langsmith<0.4,>=0.1.125->langchain_community) (1.0.0)\n",
      "Requirement already satisfied: zstandard<0.24.0,>=0.23.0 in /Users/naomi/anaconda3/envs/deeplearning/lib/python3.11/site-packages (from langsmith<0.4,>=0.1.125->langchain_community) (0.23.0)\n",
      "Requirement already satisfied: python-dateutil>=2.8.2 in /Users/naomi/anaconda3/envs/deeplearning/lib/python3.11/site-packages (from pandas>=1.2.4->pymilvus) (2.9.0.post0)\n",
      "Requirement already satisfied: pytz>=2020.1 in /Users/naomi/anaconda3/envs/deeplearning/lib/python3.11/site-packages (from pandas>=1.2.4->pymilvus) (2025.1)\n",
      "Requirement already satisfied: tzdata>=2022.7 in /Users/naomi/anaconda3/envs/deeplearning/lib/python3.11/site-packages (from pandas>=1.2.4->pymilvus) (2025.1)\n",
      "Requirement already satisfied: charset-normalizer<4,>=2 in /Users/naomi/anaconda3/envs/deeplearning/lib/python3.11/site-packages (from requests->transformers) (3.4.1)\n",
      "Requirement already satisfied: idna<4,>=2.5 in /Users/naomi/anaconda3/envs/deeplearning/lib/python3.11/site-packages (from requests->transformers) (3.10)\n",
      "Requirement already satisfied: urllib3<3,>=1.21.1 in /Users/naomi/anaconda3/envs/deeplearning/lib/python3.11/site-packages (from requests->transformers) (2.3.0)\n",
      "Requirement already satisfied: certifi>=2017.4.17 in /Users/naomi/anaconda3/envs/deeplearning/lib/python3.11/site-packages (from requests->transformers) (2025.1.31)\n",
      "Requirement already satisfied: networkx in /Users/naomi/anaconda3/envs/deeplearning/lib/python3.11/site-packages (from torch>=1.11.0->sentence-transformers) (3.4.2)\n",
      "Requirement already satisfied: jinja2 in /Users/naomi/anaconda3/envs/deeplearning/lib/python3.11/site-packages (from torch>=1.11.0->sentence-transformers) (3.1.6)\n",
      "Requirement already satisfied: sympy==1.13.1 in /Users/naomi/anaconda3/envs/deeplearning/lib/python3.11/site-packages (from torch>=1.11.0->sentence-transformers) (1.13.1)\n",
      "Requirement already satisfied: mpmath<1.4,>=1.1.0 in /Users/naomi/anaconda3/envs/deeplearning/lib/python3.11/site-packages (from sympy==1.13.1->torch>=1.11.0->sentence-transformers) (1.3.0)\n",
      "Requirement already satisfied: joblib>=1.2.0 in /Users/naomi/anaconda3/envs/deeplearning/lib/python3.11/site-packages (from scikit-learn->sentence-transformers) (1.4.2)\n",
      "Requirement already satisfied: threadpoolctl>=3.1.0 in /Users/naomi/anaconda3/envs/deeplearning/lib/python3.11/site-packages (from scikit-learn->sentence-transformers) (3.6.0)\n",
      "Requirement already satisfied: anyio in /Users/naomi/anaconda3/envs/deeplearning/lib/python3.11/site-packages (from httpx<1,>=0.23.0->langsmith<0.4,>=0.1.125->langchain_community) (4.9.0)\n",
      "Requirement already satisfied: httpcore==1.* in /Users/naomi/anaconda3/envs/deeplearning/lib/python3.11/site-packages (from httpx<1,>=0.23.0->langsmith<0.4,>=0.1.125->langchain_community) (1.0.7)\n",
      "Requirement already satisfied: h11<0.15,>=0.13 in /Users/naomi/anaconda3/envs/deeplearning/lib/python3.11/site-packages (from httpcore==1.*->httpx<1,>=0.23.0->langsmith<0.4,>=0.1.125->langchain_community) (0.14.0)\n",
      "Requirement already satisfied: jsonpointer>=1.9 in /Users/naomi/anaconda3/envs/deeplearning/lib/python3.11/site-packages (from jsonpatch<2.0,>=1.33->langchain-core<1.0.0,>=0.3.41->langchain_community) (3.0.0)\n",
      "Requirement already satisfied: annotated-types>=0.6.0 in /Users/naomi/anaconda3/envs/deeplearning/lib/python3.11/site-packages (from pydantic<3.0.0,>=2.7.4->langchain<1.0.0,>=0.3.20->langchain_community) (0.7.0)\n",
      "Requirement already satisfied: pydantic-core==2.27.2 in /Users/naomi/anaconda3/envs/deeplearning/lib/python3.11/site-packages (from pydantic<3.0.0,>=2.7.4->langchain<1.0.0,>=0.3.20->langchain_community) (2.27.2)\n",
      "Requirement already satisfied: six>=1.5 in /Users/naomi/anaconda3/envs/deeplearning/lib/python3.11/site-packages (from python-dateutil>=2.8.2->pandas>=1.2.4->pymilvus) (1.17.0)\n",
      "Requirement already satisfied: mypy-extensions>=0.3.0 in /Users/naomi/anaconda3/envs/deeplearning/lib/python3.11/site-packages (from typing-inspect<1,>=0.4.0->dataclasses-json<0.7,>=0.5.7->langchain_community) (1.0.0)\n",
      "Requirement already satisfied: MarkupSafe>=2.0 in /Users/naomi/anaconda3/envs/deeplearning/lib/python3.11/site-packages (from jinja2->torch>=1.11.0->sentence-transformers) (3.0.2)\n",
      "Requirement already satisfied: sniffio>=1.1 in /Users/naomi/anaconda3/envs/deeplearning/lib/python3.11/site-packages (from anyio->httpx<1,>=0.23.0->langsmith<0.4,>=0.1.125->langchain_community) (1.3.1)\n",
      "Downloading transformers-4.51.0-py3-none-any.whl (10.4 MB)\n",
      "\u001b[2K   \u001b[90m━━━━━━━━━━━━━━━━━━━━━━━━━━━━━━━━━━━━━━━━\u001b[0m \u001b[32m10.4/10.4 MB\u001b[0m \u001b[31m27.4 MB/s\u001b[0m eta \u001b[36m0:00:00\u001b[0m \u001b[36m0:00:01\u001b[0m\n",
      "\u001b[?25hUsing cached tokenizers-0.21.1-cp39-abi3-macosx_11_0_arm64.whl (2.7 MB)\n",
      "Installing collected packages: tokenizers, transformers\n",
      "  Attempting uninstall: tokenizers\n",
      "    Found existing installation: tokenizers 0.15.2\n",
      "    Uninstalling tokenizers-0.15.2:\n",
      "      Successfully uninstalled tokenizers-0.15.2\n",
      "  Attempting uninstall: transformers\n",
      "    Found existing installation: transformers 4.36.2\n",
      "    Uninstalling transformers-4.36.2:\n",
      "      Successfully uninstalled transformers-4.36.2\n",
      "Successfully installed tokenizers-0.21.1 transformers-4.51.0\n"
     ]
    }
   ],
   "source": [
    "!pip install transformers pymilvus sentence-transformers huggingface-hub langchain_community langchain-text-splitters pypdf\n"
   ]
  },
  {
   "cell_type": "code",
   "execution_count": 2,
   "metadata": {},
   "outputs": [
    {
     "name": "stdout",
     "output_type": "stream",
     "text": [
      "Requirement already satisfied: bs4 in /Users/naomi/anaconda3/envs/deeplearning/lib/python3.11/site-packages (0.0.2)\n",
      "Requirement already satisfied: beautifulsoup4 in /Users/naomi/anaconda3/envs/deeplearning/lib/python3.11/site-packages (from bs4) (4.13.3)\n",
      "Requirement already satisfied: soupsieve>1.2 in /Users/naomi/anaconda3/envs/deeplearning/lib/python3.11/site-packages (from beautifulsoup4->bs4) (2.6)\n",
      "Requirement already satisfied: typing-extensions>=4.0.0 in /Users/naomi/anaconda3/envs/deeplearning/lib/python3.11/site-packages (from beautifulsoup4->bs4) (4.12.2)\n"
     ]
    }
   ],
   "source": [
    "! pip install bs4"
   ]
  },
  {
   "cell_type": "code",
   "execution_count": 3,
   "metadata": {},
   "outputs": [],
   "source": [
    "import glob\n",
    "path = '/Users/naomi/Desktop/EM/Deep learning/deeplearningproject/data/'\n",
    "files = glob.glob(path +'*.html')"
   ]
  },
  {
   "cell_type": "markdown",
   "metadata": {},
   "source": [
    "1. Extracting text"
   ]
  },
  {
   "cell_type": "code",
   "execution_count": 4,
   "id": "3e3904d7",
   "metadata": {},
   "outputs": [
    {
     "name": "stdout",
     "output_type": "stream",
     "text": [
      "Processing: /Users/naomi/Desktop/EM/Deep learning/deeplearningproject/data/Résumé des caractéristiques du produit - KARDEGIC 160 mg, poudre pour solution buvable en sachet - Base de données publique des médicaments.html\n",
      "Processing: /Users/naomi/Desktop/EM/Deep learning/deeplearningproject/data/Fiche info - SERESTA 10 mg, comprimé - Base de données publique des médicaments.html\n",
      "Processing: /Users/naomi/Desktop/EM/Deep learning/deeplearningproject/data/Fiche info - KARDEGIC 160 mg, poudre pour solution buvable en sachet - Base de données publique des médicaments.html\n",
      "Processing: /Users/naomi/Desktop/EM/Deep learning/deeplearningproject/data/Fiche info - DOLIPRANE 500 mg, comprimé - Base de données publique des médicaments.html\n",
      "Processing: /Users/naomi/Desktop/EM/Deep learning/deeplearningproject/data/Résumé des caractéristiques du produit - DAFALGAN 500 mg, comprimé - Base de données publique des médicaments.html\n",
      "Processing: /Users/naomi/Desktop/EM/Deep learning/deeplearningproject/data/Notice patient - DAFALGAN 500 mg, comprimé - Base de données publique des médicaments.html\n",
      "Processing: /Users/naomi/Desktop/EM/Deep learning/deeplearningproject/data/Fiche info - GAVISCON, suspension buvable en sachet - Base de données publique des médicaments.html\n",
      "Processing: /Users/naomi/Desktop/EM/Deep learning/deeplearningproject/data/Notice patient - SPASFON LYOC 160 mg, lyophilisat oral - Base de données publique des médicaments.html\n",
      "Processing: /Users/naomi/Desktop/EM/Deep learning/deeplearningproject/data/Fiche info - SPEDIFEN 200 mg, comprimé - Base de données publique des médicaments.html\n",
      "Processing: /Users/naomi/Desktop/EM/Deep learning/deeplearningproject/data/Fiche info - MAGNE B6 48 mg_5 mg, comprimé enrobé - Base de données publique des médicaments.html\n",
      "Processing: /Users/naomi/Desktop/EM/Deep learning/deeplearningproject/data/Résumé des caractéristiques du produit - MACROGOL 4000 VIATRIS 10 g, poudre pour solution buvable en sachet-dose - Base de données publique des médicaments.html\n",
      "Processing: /Users/naomi/Desktop/EM/Deep learning/deeplearningproject/data/Notice patient - EFFERALGAN 1000 mg, comprimé effervescent - Base de données publique des médicaments.html\n",
      "Processing: /Users/naomi/Desktop/EM/Deep learning/deeplearningproject/data/Notice patient - KARDEGIC 160 mg, poudre pour solution buvable en sachet - Base de données publique des médicaments.html\n",
      "Processing: /Users/naomi/Desktop/EM/Deep learning/deeplearningproject/data/Notice patient - VENTOLINE 100 microgrammes_dose, suspension pour inhalation en flacon pressurisé - Base de données publique des médicaments.html\n",
      "Processing: /Users/naomi/Desktop/EM/Deep learning/deeplearningproject/data/Notice patient - IXPRIM 37,5 mg_325 mg, comprimé pelliculé - Base de données publique des médicaments.html\n",
      "Processing: /Users/naomi/Desktop/EM/Deep learning/deeplearningproject/data/Fiche info - TOPLEXIL 0,33 mg_ml, sirop - Base de données publique des médicaments.html\n",
      "Processing: /Users/naomi/Desktop/EM/Deep learning/deeplearningproject/data/Résumé des caractéristiques du produit - GAVISCON, suspension buvable en sachet - Base de données publique des médicaments.html\n",
      "Processing: /Users/naomi/Desktop/EM/Deep learning/deeplearningproject/data/Résumé des caractéristiques du produit - SUBUTEX 2 mg, comprimé sublingual - Base de données publique des médicaments.html\n",
      "Processing: /Users/naomi/Desktop/EM/Deep learning/deeplearningproject/data/Résumé des caractéristiques du produit - MAGNE B6 48 mg_5 mg, comprimé enrobé - Base de données publique des médicaments.html\n",
      "Processing: /Users/naomi/Desktop/EM/Deep learning/deeplearningproject/data/Notice patient - IMODIUM 2 mg, gélule - Base de données publique des médicaments.html\n",
      "Processing: /Users/naomi/Desktop/EM/Deep learning/deeplearningproject/data/Fiche info - TAHOR 20 mg, comprimé pelliculé - Base de données publique des médicaments.html\n",
      "Processing: /Users/naomi/Desktop/EM/Deep learning/deeplearningproject/data/Résumé des caractéristiques du produit - SPASFON LYOC 160 mg, lyophilisat oral - Base de données publique des médicaments.html\n",
      "Processing: /Users/naomi/Desktop/EM/Deep learning/deeplearningproject/data/Notice patient - LEVOTHYROX 50 microgrammes, comprimé sécable - Base de données publique des médicaments.html\n",
      "Processing: /Users/naomi/Desktop/EM/Deep learning/deeplearningproject/data/Fiche info - ATORVASTATINE ACCORD 40 mg, comprimé pelliculé - Base de données publique des médicaments.html\n",
      "Processing: /Users/naomi/Desktop/EM/Deep learning/deeplearningproject/data/Résumé des caractéristiques du produit - DOLIPRANE 500 mg, comprimé - Base de données publique des médicaments.html\n",
      "Processing: /Users/naomi/Desktop/EM/Deep learning/deeplearningproject/data/Notice patient - MOPRAL 10 mg, gélule gastro-résistante - Base de données publique des médicaments.html\n",
      "Processing: /Users/naomi/Desktop/EM/Deep learning/deeplearningproject/data/Résumé des caractéristiques du produit - ZYMAD 10 000 UI_ml, solution buvable en gouttes - Base de données publique des médicaments.html\n",
      "Processing: /Users/naomi/Desktop/EM/Deep learning/deeplearningproject/data/Résumé des caractéristiques du produit - LAMALINE, gélule - Base de données publique des médicaments.html\n",
      "Processing: /Users/naomi/Desktop/EM/Deep learning/deeplearningproject/data/Notice patient - IZALGI 500 mg_25 mg, gélule - Base de données publique des médicaments.html\n",
      "Processing: /Users/naomi/Desktop/EM/Deep learning/deeplearningproject/data/Fiche info - IMODIUM 2 mg, gélule - Base de données publique des médicaments.html\n",
      "Processing: /Users/naomi/Desktop/EM/Deep learning/deeplearningproject/data/Résumé des caractéristiques du produit - AMOXICILLINE VIATRIS 1 g, comprimé dispersible - Base de données publique des médicaments.html\n",
      "Processing: /Users/naomi/Desktop/EM/Deep learning/deeplearningproject/data/Résumé des caractéristiques du produit - IMODIUM 2 mg, gélule - Base de données publique des médicaments.html\n",
      "Processing: /Users/naomi/Desktop/EM/Deep learning/deeplearningproject/data/Notice patient - DOLIPRANE 500 mg, comprimé - Base de données publique des médicaments.html\n",
      "Processing: /Users/naomi/Desktop/EM/Deep learning/deeplearningproject/data/Fiche info - DAFLON 1000 mg, comprimé pelliculé - Base de données publique des médicaments.html\n",
      "Processing: /Users/naomi/Desktop/EM/Deep learning/deeplearningproject/data/Notice patient - METHADONE AP-HP 5 mg, gélule - Base de données publique des médicaments.html\n",
      "Processing: /Users/naomi/Desktop/EM/Deep learning/deeplearningproject/data/Résumé des caractéristiques du produit - DAFLON 1000 mg, comprimé pelliculé - Base de données publique des médicaments.html\n",
      "Processing: /Users/naomi/Desktop/EM/Deep learning/deeplearningproject/data/Notice patient - MAGNE B6 48 mg_5 mg, comprimé enrobé - Base de données publique des médicaments.html\n",
      "Processing: /Users/naomi/Desktop/EM/Deep learning/deeplearningproject/data/Notice patient - AUGMENTIN 1 g_125 mg, poudre pour suspension buvable en sachet-dose (rapport amoxicilline_acide clavulanique _ 8_1) - Base de données publique des médicaments.html\n",
      "Processing: /Users/naomi/Desktop/EM/Deep learning/deeplearningproject/data/Notice patient - MACROGOL 4000 VIATRIS 10 g, poudre pour solution buvable en sachet-dose - Base de données publique des médicaments.html\n",
      "Processing: /Users/naomi/Desktop/EM/Deep learning/deeplearningproject/data/Fiche info - SUBUTEX 2 mg, comprimé sublingual - Base de données publique des médicaments.html\n",
      "Processing: /Users/naomi/Desktop/EM/Deep learning/deeplearningproject/data/Fiche info - RHINOFLUIMUCIL, solution pour pulvérisation nasale - Base de données publique des médicaments.html\n",
      "Processing: /Users/naomi/Desktop/EM/Deep learning/deeplearningproject/data/Notice patient - GAVISCON, suspension buvable en sachet - Base de données publique des médicaments.html\n",
      "Processing: /Users/naomi/Desktop/EM/Deep learning/deeplearningproject/data/Fiche info - AUGMENTIN 1 g_125 mg, poudre pour suspension buvable en sachet-dose (rapport amoxicilline_acide clavulanique _ 8_1) - Base de données publique des médicaments.html\n",
      "Processing: /Users/naomi/Desktop/EM/Deep learning/deeplearningproject/data/Fiche info - LEVOTHYROX 50 microgrammes, comprimé sécable - Base de données publique des médicaments.html\n",
      "Processing: /Users/naomi/Desktop/EM/Deep learning/deeplearningproject/data/Résumé des caractéristiques du produit - METEOSPASMYL, capsule molle - Base de données publique des médicaments.html\n",
      "Processing: /Users/naomi/Desktop/EM/Deep learning/deeplearningproject/data/Fiche info - LAMALINE, gélule - Base de données publique des médicaments.html\n",
      "Processing: /Users/naomi/Desktop/EM/Deep learning/deeplearningproject/data/Fiche info - SPASFON LYOC 160 mg, lyophilisat oral - Base de données publique des médicaments.html\n",
      "Processing: /Users/naomi/Desktop/EM/Deep learning/deeplearningproject/data/Notice patient - ATORVASTATINE ACCORD 40 mg, comprimé pelliculé - Base de données publique des médicaments.html\n",
      "Processing: /Users/naomi/Desktop/EM/Deep learning/deeplearningproject/data/Notice patient - RHINOFLUIMUCIL, solution pour pulvérisation nasale - Base de données publique des médicaments.html\n",
      "Processing: /Users/naomi/Desktop/EM/Deep learning/deeplearningproject/data/Fiche info - MOPRAL 10 mg, gélule gastro-résistante - Base de données publique des médicaments.html\n",
      "Processing: /Users/naomi/Desktop/EM/Deep learning/deeplearningproject/data/Résumé des caractéristiques du produit - MOPRAL 10 mg, gélule gastro-résistante - Base de données publique des médicaments.html\n",
      "Processing: /Users/naomi/Desktop/EM/Deep learning/deeplearningproject/data/Notice patient - METEOSPASMYL, capsule molle - Base de données publique des médicaments.html\n",
      "Processing: /Users/naomi/Desktop/EM/Deep learning/deeplearningproject/data/Notice patient - ANTARENE 100 mg, comprimé pelliculé - Base de données publique des médicaments.html\n",
      "Processing: /Users/naomi/Desktop/EM/Deep learning/deeplearningproject/data/Fiche info - IXPRIM 37,5 mg_325 mg, comprimé pelliculé - Base de données publique des médicaments.html\n",
      "Processing: /Users/naomi/Desktop/EM/Deep learning/deeplearningproject/data/Résumé des caractéristiques du produit - DAFALGAN CODEINE, comprimé pelliculé - Base de données publique des médicaments.html\n",
      "Processing: /Users/naomi/Desktop/EM/Deep learning/deeplearningproject/data/Résumé des caractéristiques du produit - ATORVASTATINE ACCORD 40 mg, comprimé pelliculé - Base de données publique des médicaments.html\n",
      "Processing: /Users/naomi/Desktop/EM/Deep learning/deeplearningproject/data/Fiche info - CLAMOXYL 1 g, comprimé dispersible - Base de données publique des médicaments.html\n",
      "Processing: /Users/naomi/Desktop/EM/Deep learning/deeplearningproject/data/Résumé des caractéristiques du produit - BISOPROLOL VIATRIS 5 mg, comprimé pelliculé sécable - Base de données publique des médicaments.html\n",
      "Processing: /Users/naomi/Desktop/EM/Deep learning/deeplearningproject/data/Résumé des caractéristiques du produit - SERESTA 10 mg, comprimé - Base de données publique des médicaments.html\n",
      "Processing: /Users/naomi/Desktop/EM/Deep learning/deeplearningproject/data/Fiche info - ZYMAD 10 000 UI_ml, solution buvable en gouttes - Base de données publique des médicaments.html\n",
      "Processing: /Users/naomi/Desktop/EM/Deep learning/deeplearningproject/data/Notice patient - DAFLON 1000 mg, comprimé pelliculé - Base de données publique des médicaments.html\n",
      "Processing: /Users/naomi/Desktop/EM/Deep learning/deeplearningproject/data/Résumé des caractéristiques du produit - TAHOR 20 mg, comprimé pelliculé - Base de données publique des médicaments.html\n",
      "Processing: /Users/naomi/Desktop/EM/Deep learning/deeplearningproject/data/Notice patient - LAMALINE, gélule - Base de données publique des médicaments.html\n",
      "Processing: /Users/naomi/Desktop/EM/Deep learning/deeplearningproject/data/Résumé des caractéristiques du produit - PIASCLEDINE 300 mg, gélule - Base de données publique des médicaments.html\n",
      "Processing: /Users/naomi/Desktop/EM/Deep learning/deeplearningproject/data/Notice patient - BISOPROLOL VIATRIS 5 mg, comprimé pelliculé sécable - Base de données publique des médicaments.html\n",
      "Processing: /Users/naomi/Desktop/EM/Deep learning/deeplearningproject/data/Résumé des caractéristiques du produit - CLAMOXYL 1 g, comprimé dispersible - Base de données publique des médicaments.html\n",
      "Processing: /Users/naomi/Desktop/EM/Deep learning/deeplearningproject/data/Résumé des caractéristiques du produit - ANTARENE 100 mg, comprimé pelliculé - Base de données publique des médicaments.html\n",
      "Processing: /Users/naomi/Desktop/EM/Deep learning/deeplearningproject/data/Notice patient - PIASCLEDINE 300 mg, gélule - Base de données publique des médicaments.html\n",
      "Processing: /Users/naomi/Desktop/EM/Deep learning/deeplearningproject/data/Fiche info - DAFALGAN CODEINE, comprimé pelliculé - Base de données publique des médicaments.html\n",
      "Processing: /Users/naomi/Desktop/EM/Deep learning/deeplearningproject/data/Notice patient - ISIMIG 2,5 mg, comprimé pelliculé - Base de données publique des médicaments.html\n",
      "Processing: /Users/naomi/Desktop/EM/Deep learning/deeplearningproject/data/Fiche info - METEOSPASMYL, capsule molle - Base de données publique des médicaments.html\n",
      "Processing: /Users/naomi/Desktop/EM/Deep learning/deeplearningproject/data/Résumé des caractéristiques du produit - IZALGI 500 mg_25 mg, gélule - Base de données publique des médicaments.html\n",
      "Processing: /Users/naomi/Desktop/EM/Deep learning/deeplearningproject/data/Résumé des caractéristiques du produit - EFFERALGAN 1000 mg, comprimé effervescent - Base de données publique des médicaments.html\n",
      "Processing: /Users/naomi/Desktop/EM/Deep learning/deeplearningproject/data/Notice patient - SUBUTEX 2 mg, comprimé sublingual - Base de données publique des médicaments.html\n",
      "Processing: /Users/naomi/Desktop/EM/Deep learning/deeplearningproject/data/Résumé des caractéristiques du produit - IXPRIM 37,5 mg_325 mg, comprimé pelliculé - Base de données publique des médicaments.html\n",
      "Processing: /Users/naomi/Desktop/EM/Deep learning/deeplearningproject/data/Notice patient - SERESTA 10 mg, comprimé - Base de données publique des médicaments.html\n",
      "Processing: /Users/naomi/Desktop/EM/Deep learning/deeplearningproject/data/Notice patient - DAFALGAN CODEINE, comprimé pelliculé - Base de données publique des médicaments.html\n",
      "Processing: /Users/naomi/Desktop/EM/Deep learning/deeplearningproject/data/Fiche info - DAFALGAN 500 mg, comprimé - Base de données publique des médicaments.html\n",
      "Processing: /Users/naomi/Desktop/EM/Deep learning/deeplearningproject/data/Résumé des caractéristiques du produit - LEVOTHYROX 50 microgrammes, comprimé sécable - Base de données publique des médicaments.html\n",
      "Processing: /Users/naomi/Desktop/EM/Deep learning/deeplearningproject/data/Résumé des caractéristiques du produit - SPEDIFEN 200 mg, comprimé - Base de données publique des médicaments.html\n",
      "Processing: /Users/naomi/Desktop/EM/Deep learning/deeplearningproject/data/Notice patient - SPEDIFEN 200 mg, comprimé - Base de données publique des médicaments.html\n",
      "Processing: /Users/naomi/Desktop/EM/Deep learning/deeplearningproject/data/Fiche info - IZALGI 500 mg_25 mg, gélule - Base de données publique des médicaments.html\n",
      "Processing: /Users/naomi/Desktop/EM/Deep learning/deeplearningproject/data/Fiche info - METHADONE AP-HP 5 mg, gélule - Base de données publique des médicaments.html\n",
      "Processing: /Users/naomi/Desktop/EM/Deep learning/deeplearningproject/data/Fiche info - BISOPROLOL VIATRIS 5 mg, comprimé pelliculé sécable - Base de données publique des médicaments.html\n",
      "Processing: /Users/naomi/Desktop/EM/Deep learning/deeplearningproject/data/Résumé des caractéristiques du produit - RHINOFLUIMUCIL, solution pour pulvérisation nasale - Base de données publique des médicaments.html\n",
      "Processing: /Users/naomi/Desktop/EM/Deep learning/deeplearningproject/data/Notice patient - TAHOR 20 mg, comprimé pelliculé - Base de données publique des médicaments.html\n",
      "Processing: /Users/naomi/Desktop/EM/Deep learning/deeplearningproject/data/Fiche info - MACROGOL 4000 VIATRIS 10 g, poudre pour solution buvable en sachet-dose - Base de données publique des médicaments.html\n",
      "Processing: /Users/naomi/Desktop/EM/Deep learning/deeplearningproject/data/Fiche info - VENTOLINE 100 microgrammes_dose, suspension pour inhalation en flacon pressurisé - Base de données publique des médicaments.html\n",
      "Processing: /Users/naomi/Desktop/EM/Deep learning/deeplearningproject/data/Notice patient - ZYMAD 10 000 UI_ml, solution buvable en gouttes - Base de données publique des médicaments.html\n",
      "Processing: /Users/naomi/Desktop/EM/Deep learning/deeplearningproject/data/Notice patient - TOPLEXIL 0,33 mg_ml, sirop - Base de données publique des médicaments.html\n",
      "Processing: /Users/naomi/Desktop/EM/Deep learning/deeplearningproject/data/Résumé des caractéristiques du produit - TOPLEXIL 0,33 mg_ml, sirop - Base de données publique des médicaments.html\n",
      "Processing: /Users/naomi/Desktop/EM/Deep learning/deeplearningproject/data/Résumé des caractéristiques du produit - METHADONE AP-HP 5 mg, gélule - Base de données publique des médicaments.html\n",
      "Processing: /Users/naomi/Desktop/EM/Deep learning/deeplearningproject/data/Notice patient - CLAMOXYL 1 g, comprimé dispersible - Base de données publique des médicaments.html\n",
      "Processing: /Users/naomi/Desktop/EM/Deep learning/deeplearningproject/data/Fiche info - EFFERALGAN 1000 mg, comprimé effervescent - Base de données publique des médicaments.html\n",
      "Processing: /Users/naomi/Desktop/EM/Deep learning/deeplearningproject/data/Fiche info - PIASCLEDINE 300 mg, gélule - Base de données publique des médicaments.html\n",
      "Processing: /Users/naomi/Desktop/EM/Deep learning/deeplearningproject/data/Résumé des caractéristiques du produit - AUGMENTIN 1 g_125 mg, poudre pour suspension buvable en sachet-dose (rapport amoxicilline_acide clavulanique _ 8_1) - Base de données publique des médicaments.html\n",
      "Processing: /Users/naomi/Desktop/EM/Deep learning/deeplearningproject/data/Fiche info - ISIMIG 2,5 mg, comprimé pelliculé - Base de données publique des médicaments.html\n",
      "Processing: /Users/naomi/Desktop/EM/Deep learning/deeplearningproject/data/Notice patient - AMOXICILLINE VIATRIS 1 g, comprimé dispersible - Base de données publique des médicaments.html\n",
      "Processing: /Users/naomi/Desktop/EM/Deep learning/deeplearningproject/data/Résumé des caractéristiques du produit - ISIMIG 2,5 mg, comprimé pelliculé - Base de données publique des médicaments.html\n"
     ]
    }
   ],
   "source": [
    "\n",
    "from bs4 import BeautifulSoup\n",
    "from langchain.text_splitter import RecursiveCharacterTextSplitter\n",
    "from langchain.docstore.document import Document\n",
    "\n",
    "text_lines = []\n",
    "\n",
    "for file in files:\n",
    "    with open(file, 'r', encoding='ISO-8859-1') as f:\n",
    "        print(f\"Processing: {file}\")\n",
    "        raw_html = f.read()\n",
    "\n",
    "        # Clean HTML\n",
    "        soup = BeautifulSoup(raw_html, \"html.parser\")\n",
    "        clean_text = soup.get_text(separator=\" \", strip=True)\n",
    "        clean_text = \" \".join(clean_text.split())  # Optional: remove excessive whitespace\n",
    "\n",
    "        # Split cleaned text\n",
    "        text_splitter = RecursiveCharacterTextSplitter(chunk_size=20000, chunk_overlap=50)\n",
    "        chunks = text_splitter.split_text(clean_text)\n",
    "\n",
    "        # Convert to Document objects with metadata\n",
    "        for chunk in chunks:\n",
    "            text_lines.append(Document(page_content=chunk, metadata={\"source\": file}))\n"
   ]
  },
  {
   "cell_type": "code",
   "execution_count": 5,
   "metadata": {},
   "outputs": [],
   "source": [
    "path = '/Users/naomi/Desktop/EM/Deep learning/deeplearningproject/data/'\n",
    "files = glob.glob(path +'*.html')"
   ]
  },
  {
   "cell_type": "code",
   "execution_count": 6,
   "metadata": {},
   "outputs": [
    {
     "name": "stdout",
     "output_type": "stream",
     "text": [
      "/Users/naomi/Desktop/EM/Deep learning/deeplearningproject/data/Résumé des caractéristiques du produit - KARDEGIC 160 mg, poudre pour solution buvable en sachet - Base de données publique des médicaments.html\n",
      "/Users/naomi/Desktop/EM/Deep learning/deeplearningproject/data/Fiche info - SERESTA 10 mg, comprimé - Base de données publique des médicaments.html\n",
      "/Users/naomi/Desktop/EM/Deep learning/deeplearningproject/data/Fiche info - KARDEGIC 160 mg, poudre pour solution buvable en sachet - Base de données publique des médicaments.html\n",
      "/Users/naomi/Desktop/EM/Deep learning/deeplearningproject/data/Fiche info - DOLIPRANE 500 mg, comprimé - Base de données publique des médicaments.html\n",
      "/Users/naomi/Desktop/EM/Deep learning/deeplearningproject/data/Résumé des caractéristiques du produit - DAFALGAN 500 mg, comprimé - Base de données publique des médicaments.html\n",
      "/Users/naomi/Desktop/EM/Deep learning/deeplearningproject/data/Notice patient - DAFALGAN 500 mg, comprimé - Base de données publique des médicaments.html\n",
      "/Users/naomi/Desktop/EM/Deep learning/deeplearningproject/data/Fiche info - GAVISCON, suspension buvable en sachet - Base de données publique des médicaments.html\n",
      "/Users/naomi/Desktop/EM/Deep learning/deeplearningproject/data/Notice patient - SPASFON LYOC 160 mg, lyophilisat oral - Base de données publique des médicaments.html\n",
      "/Users/naomi/Desktop/EM/Deep learning/deeplearningproject/data/Fiche info - SPEDIFEN 200 mg, comprimé - Base de données publique des médicaments.html\n",
      "/Users/naomi/Desktop/EM/Deep learning/deeplearningproject/data/Fiche info - MAGNE B6 48 mg_5 mg, comprimé enrobé - Base de données publique des médicaments.html\n",
      "/Users/naomi/Desktop/EM/Deep learning/deeplearningproject/data/Résumé des caractéristiques du produit - MACROGOL 4000 VIATRIS 10 g, poudre pour solution buvable en sachet-dose - Base de données publique des médicaments.html\n",
      "/Users/naomi/Desktop/EM/Deep learning/deeplearningproject/data/Notice patient - EFFERALGAN 1000 mg, comprimé effervescent - Base de données publique des médicaments.html\n",
      "/Users/naomi/Desktop/EM/Deep learning/deeplearningproject/data/Notice patient - KARDEGIC 160 mg, poudre pour solution buvable en sachet - Base de données publique des médicaments.html\n",
      "/Users/naomi/Desktop/EM/Deep learning/deeplearningproject/data/Notice patient - VENTOLINE 100 microgrammes_dose, suspension pour inhalation en flacon pressurisé - Base de données publique des médicaments.html\n",
      "/Users/naomi/Desktop/EM/Deep learning/deeplearningproject/data/Notice patient - IXPRIM 37,5 mg_325 mg, comprimé pelliculé - Base de données publique des médicaments.html\n",
      "/Users/naomi/Desktop/EM/Deep learning/deeplearningproject/data/Fiche info - TOPLEXIL 0,33 mg_ml, sirop - Base de données publique des médicaments.html\n",
      "/Users/naomi/Desktop/EM/Deep learning/deeplearningproject/data/Résumé des caractéristiques du produit - GAVISCON, suspension buvable en sachet - Base de données publique des médicaments.html\n",
      "/Users/naomi/Desktop/EM/Deep learning/deeplearningproject/data/Résumé des caractéristiques du produit - SUBUTEX 2 mg, comprimé sublingual - Base de données publique des médicaments.html\n",
      "/Users/naomi/Desktop/EM/Deep learning/deeplearningproject/data/Résumé des caractéristiques du produit - MAGNE B6 48 mg_5 mg, comprimé enrobé - Base de données publique des médicaments.html\n",
      "/Users/naomi/Desktop/EM/Deep learning/deeplearningproject/data/Notice patient - IMODIUM 2 mg, gélule - Base de données publique des médicaments.html\n",
      "/Users/naomi/Desktop/EM/Deep learning/deeplearningproject/data/Fiche info - TAHOR 20 mg, comprimé pelliculé - Base de données publique des médicaments.html\n",
      "/Users/naomi/Desktop/EM/Deep learning/deeplearningproject/data/Résumé des caractéristiques du produit - SPASFON LYOC 160 mg, lyophilisat oral - Base de données publique des médicaments.html\n",
      "/Users/naomi/Desktop/EM/Deep learning/deeplearningproject/data/Notice patient - LEVOTHYROX 50 microgrammes, comprimé sécable - Base de données publique des médicaments.html\n",
      "/Users/naomi/Desktop/EM/Deep learning/deeplearningproject/data/Fiche info - ATORVASTATINE ACCORD 40 mg, comprimé pelliculé - Base de données publique des médicaments.html\n",
      "/Users/naomi/Desktop/EM/Deep learning/deeplearningproject/data/Résumé des caractéristiques du produit - DOLIPRANE 500 mg, comprimé - Base de données publique des médicaments.html\n",
      "/Users/naomi/Desktop/EM/Deep learning/deeplearningproject/data/Notice patient - MOPRAL 10 mg, gélule gastro-résistante - Base de données publique des médicaments.html\n",
      "/Users/naomi/Desktop/EM/Deep learning/deeplearningproject/data/Résumé des caractéristiques du produit - ZYMAD 10 000 UI_ml, solution buvable en gouttes - Base de données publique des médicaments.html\n",
      "/Users/naomi/Desktop/EM/Deep learning/deeplearningproject/data/Résumé des caractéristiques du produit - LAMALINE, gélule - Base de données publique des médicaments.html\n",
      "/Users/naomi/Desktop/EM/Deep learning/deeplearningproject/data/Notice patient - IZALGI 500 mg_25 mg, gélule - Base de données publique des médicaments.html\n",
      "/Users/naomi/Desktop/EM/Deep learning/deeplearningproject/data/Fiche info - IMODIUM 2 mg, gélule - Base de données publique des médicaments.html\n",
      "/Users/naomi/Desktop/EM/Deep learning/deeplearningproject/data/Résumé des caractéristiques du produit - AMOXICILLINE VIATRIS 1 g, comprimé dispersible - Base de données publique des médicaments.html\n",
      "/Users/naomi/Desktop/EM/Deep learning/deeplearningproject/data/Résumé des caractéristiques du produit - IMODIUM 2 mg, gélule - Base de données publique des médicaments.html\n",
      "/Users/naomi/Desktop/EM/Deep learning/deeplearningproject/data/Notice patient - DOLIPRANE 500 mg, comprimé - Base de données publique des médicaments.html\n",
      "/Users/naomi/Desktop/EM/Deep learning/deeplearningproject/data/Fiche info - DAFLON 1000 mg, comprimé pelliculé - Base de données publique des médicaments.html\n",
      "/Users/naomi/Desktop/EM/Deep learning/deeplearningproject/data/Notice patient - METHADONE AP-HP 5 mg, gélule - Base de données publique des médicaments.html\n",
      "/Users/naomi/Desktop/EM/Deep learning/deeplearningproject/data/Résumé des caractéristiques du produit - DAFLON 1000 mg, comprimé pelliculé - Base de données publique des médicaments.html\n",
      "/Users/naomi/Desktop/EM/Deep learning/deeplearningproject/data/Notice patient - MAGNE B6 48 mg_5 mg, comprimé enrobé - Base de données publique des médicaments.html\n",
      "/Users/naomi/Desktop/EM/Deep learning/deeplearningproject/data/Notice patient - AUGMENTIN 1 g_125 mg, poudre pour suspension buvable en sachet-dose (rapport amoxicilline_acide clavulanique _ 8_1) - Base de données publique des médicaments.html\n",
      "/Users/naomi/Desktop/EM/Deep learning/deeplearningproject/data/Notice patient - MACROGOL 4000 VIATRIS 10 g, poudre pour solution buvable en sachet-dose - Base de données publique des médicaments.html\n",
      "/Users/naomi/Desktop/EM/Deep learning/deeplearningproject/data/Fiche info - SUBUTEX 2 mg, comprimé sublingual - Base de données publique des médicaments.html\n",
      "/Users/naomi/Desktop/EM/Deep learning/deeplearningproject/data/Fiche info - RHINOFLUIMUCIL, solution pour pulvérisation nasale - Base de données publique des médicaments.html\n",
      "/Users/naomi/Desktop/EM/Deep learning/deeplearningproject/data/Notice patient - GAVISCON, suspension buvable en sachet - Base de données publique des médicaments.html\n",
      "/Users/naomi/Desktop/EM/Deep learning/deeplearningproject/data/Fiche info - AUGMENTIN 1 g_125 mg, poudre pour suspension buvable en sachet-dose (rapport amoxicilline_acide clavulanique _ 8_1) - Base de données publique des médicaments.html\n",
      "/Users/naomi/Desktop/EM/Deep learning/deeplearningproject/data/Fiche info - LEVOTHYROX 50 microgrammes, comprimé sécable - Base de données publique des médicaments.html\n",
      "/Users/naomi/Desktop/EM/Deep learning/deeplearningproject/data/Résumé des caractéristiques du produit - METEOSPASMYL, capsule molle - Base de données publique des médicaments.html\n",
      "/Users/naomi/Desktop/EM/Deep learning/deeplearningproject/data/Fiche info - LAMALINE, gélule - Base de données publique des médicaments.html\n",
      "/Users/naomi/Desktop/EM/Deep learning/deeplearningproject/data/Fiche info - SPASFON LYOC 160 mg, lyophilisat oral - Base de données publique des médicaments.html\n",
      "/Users/naomi/Desktop/EM/Deep learning/deeplearningproject/data/Notice patient - ATORVASTATINE ACCORD 40 mg, comprimé pelliculé - Base de données publique des médicaments.html\n",
      "/Users/naomi/Desktop/EM/Deep learning/deeplearningproject/data/Notice patient - RHINOFLUIMUCIL, solution pour pulvérisation nasale - Base de données publique des médicaments.html\n",
      "/Users/naomi/Desktop/EM/Deep learning/deeplearningproject/data/Fiche info - MOPRAL 10 mg, gélule gastro-résistante - Base de données publique des médicaments.html\n",
      "/Users/naomi/Desktop/EM/Deep learning/deeplearningproject/data/Résumé des caractéristiques du produit - MOPRAL 10 mg, gélule gastro-résistante - Base de données publique des médicaments.html\n",
      "/Users/naomi/Desktop/EM/Deep learning/deeplearningproject/data/Notice patient - METEOSPASMYL, capsule molle - Base de données publique des médicaments.html\n",
      "/Users/naomi/Desktop/EM/Deep learning/deeplearningproject/data/Notice patient - ANTARENE 100 mg, comprimé pelliculé - Base de données publique des médicaments.html\n",
      "/Users/naomi/Desktop/EM/Deep learning/deeplearningproject/data/Fiche info - IXPRIM 37,5 mg_325 mg, comprimé pelliculé - Base de données publique des médicaments.html\n",
      "/Users/naomi/Desktop/EM/Deep learning/deeplearningproject/data/Résumé des caractéristiques du produit - DAFALGAN CODEINE, comprimé pelliculé - Base de données publique des médicaments.html\n",
      "/Users/naomi/Desktop/EM/Deep learning/deeplearningproject/data/Résumé des caractéristiques du produit - ATORVASTATINE ACCORD 40 mg, comprimé pelliculé - Base de données publique des médicaments.html\n",
      "/Users/naomi/Desktop/EM/Deep learning/deeplearningproject/data/Fiche info - CLAMOXYL 1 g, comprimé dispersible - Base de données publique des médicaments.html\n",
      "/Users/naomi/Desktop/EM/Deep learning/deeplearningproject/data/Résumé des caractéristiques du produit - BISOPROLOL VIATRIS 5 mg, comprimé pelliculé sécable - Base de données publique des médicaments.html\n",
      "/Users/naomi/Desktop/EM/Deep learning/deeplearningproject/data/Résumé des caractéristiques du produit - SERESTA 10 mg, comprimé - Base de données publique des médicaments.html\n",
      "/Users/naomi/Desktop/EM/Deep learning/deeplearningproject/data/Fiche info - ZYMAD 10 000 UI_ml, solution buvable en gouttes - Base de données publique des médicaments.html\n",
      "/Users/naomi/Desktop/EM/Deep learning/deeplearningproject/data/Notice patient - DAFLON 1000 mg, comprimé pelliculé - Base de données publique des médicaments.html\n",
      "/Users/naomi/Desktop/EM/Deep learning/deeplearningproject/data/Résumé des caractéristiques du produit - TAHOR 20 mg, comprimé pelliculé - Base de données publique des médicaments.html\n",
      "/Users/naomi/Desktop/EM/Deep learning/deeplearningproject/data/Notice patient - LAMALINE, gélule - Base de données publique des médicaments.html\n",
      "/Users/naomi/Desktop/EM/Deep learning/deeplearningproject/data/Résumé des caractéristiques du produit - PIASCLEDINE 300 mg, gélule - Base de données publique des médicaments.html\n",
      "/Users/naomi/Desktop/EM/Deep learning/deeplearningproject/data/Notice patient - BISOPROLOL VIATRIS 5 mg, comprimé pelliculé sécable - Base de données publique des médicaments.html\n",
      "/Users/naomi/Desktop/EM/Deep learning/deeplearningproject/data/Résumé des caractéristiques du produit - CLAMOXYL 1 g, comprimé dispersible - Base de données publique des médicaments.html\n",
      "/Users/naomi/Desktop/EM/Deep learning/deeplearningproject/data/Résumé des caractéristiques du produit - ANTARENE 100 mg, comprimé pelliculé - Base de données publique des médicaments.html\n",
      "/Users/naomi/Desktop/EM/Deep learning/deeplearningproject/data/Notice patient - PIASCLEDINE 300 mg, gélule - Base de données publique des médicaments.html\n",
      "/Users/naomi/Desktop/EM/Deep learning/deeplearningproject/data/Fiche info - DAFALGAN CODEINE, comprimé pelliculé - Base de données publique des médicaments.html\n",
      "/Users/naomi/Desktop/EM/Deep learning/deeplearningproject/data/Notice patient - ISIMIG 2,5 mg, comprimé pelliculé - Base de données publique des médicaments.html\n",
      "/Users/naomi/Desktop/EM/Deep learning/deeplearningproject/data/Fiche info - METEOSPASMYL, capsule molle - Base de données publique des médicaments.html\n",
      "/Users/naomi/Desktop/EM/Deep learning/deeplearningproject/data/Résumé des caractéristiques du produit - IZALGI 500 mg_25 mg, gélule - Base de données publique des médicaments.html\n",
      "/Users/naomi/Desktop/EM/Deep learning/deeplearningproject/data/Résumé des caractéristiques du produit - EFFERALGAN 1000 mg, comprimé effervescent - Base de données publique des médicaments.html\n",
      "/Users/naomi/Desktop/EM/Deep learning/deeplearningproject/data/Notice patient - SUBUTEX 2 mg, comprimé sublingual - Base de données publique des médicaments.html\n",
      "/Users/naomi/Desktop/EM/Deep learning/deeplearningproject/data/Résumé des caractéristiques du produit - IXPRIM 37,5 mg_325 mg, comprimé pelliculé - Base de données publique des médicaments.html\n",
      "/Users/naomi/Desktop/EM/Deep learning/deeplearningproject/data/Notice patient - SERESTA 10 mg, comprimé - Base de données publique des médicaments.html\n",
      "/Users/naomi/Desktop/EM/Deep learning/deeplearningproject/data/Notice patient - DAFALGAN CODEINE, comprimé pelliculé - Base de données publique des médicaments.html\n",
      "/Users/naomi/Desktop/EM/Deep learning/deeplearningproject/data/Fiche info - DAFALGAN 500 mg, comprimé - Base de données publique des médicaments.html\n",
      "/Users/naomi/Desktop/EM/Deep learning/deeplearningproject/data/Résumé des caractéristiques du produit - LEVOTHYROX 50 microgrammes, comprimé sécable - Base de données publique des médicaments.html\n",
      "/Users/naomi/Desktop/EM/Deep learning/deeplearningproject/data/Résumé des caractéristiques du produit - SPEDIFEN 200 mg, comprimé - Base de données publique des médicaments.html\n",
      "/Users/naomi/Desktop/EM/Deep learning/deeplearningproject/data/Notice patient - SPEDIFEN 200 mg, comprimé - Base de données publique des médicaments.html\n",
      "/Users/naomi/Desktop/EM/Deep learning/deeplearningproject/data/Fiche info - IZALGI 500 mg_25 mg, gélule - Base de données publique des médicaments.html\n",
      "/Users/naomi/Desktop/EM/Deep learning/deeplearningproject/data/Fiche info - METHADONE AP-HP 5 mg, gélule - Base de données publique des médicaments.html\n",
      "/Users/naomi/Desktop/EM/Deep learning/deeplearningproject/data/Fiche info - BISOPROLOL VIATRIS 5 mg, comprimé pelliculé sécable - Base de données publique des médicaments.html\n",
      "/Users/naomi/Desktop/EM/Deep learning/deeplearningproject/data/Résumé des caractéristiques du produit - RHINOFLUIMUCIL, solution pour pulvérisation nasale - Base de données publique des médicaments.html\n",
      "/Users/naomi/Desktop/EM/Deep learning/deeplearningproject/data/Notice patient - TAHOR 20 mg, comprimé pelliculé - Base de données publique des médicaments.html\n",
      "/Users/naomi/Desktop/EM/Deep learning/deeplearningproject/data/Fiche info - MACROGOL 4000 VIATRIS 10 g, poudre pour solution buvable en sachet-dose - Base de données publique des médicaments.html\n",
      "/Users/naomi/Desktop/EM/Deep learning/deeplearningproject/data/Fiche info - VENTOLINE 100 microgrammes_dose, suspension pour inhalation en flacon pressurisé - Base de données publique des médicaments.html\n",
      "/Users/naomi/Desktop/EM/Deep learning/deeplearningproject/data/Notice patient - ZYMAD 10 000 UI_ml, solution buvable en gouttes - Base de données publique des médicaments.html\n",
      "/Users/naomi/Desktop/EM/Deep learning/deeplearningproject/data/Notice patient - TOPLEXIL 0,33 mg_ml, sirop - Base de données publique des médicaments.html\n",
      "/Users/naomi/Desktop/EM/Deep learning/deeplearningproject/data/Résumé des caractéristiques du produit - TOPLEXIL 0,33 mg_ml, sirop - Base de données publique des médicaments.html\n",
      "/Users/naomi/Desktop/EM/Deep learning/deeplearningproject/data/Résumé des caractéristiques du produit - METHADONE AP-HP 5 mg, gélule - Base de données publique des médicaments.html\n",
      "/Users/naomi/Desktop/EM/Deep learning/deeplearningproject/data/Notice patient - CLAMOXYL 1 g, comprimé dispersible - Base de données publique des médicaments.html\n",
      "/Users/naomi/Desktop/EM/Deep learning/deeplearningproject/data/Fiche info - EFFERALGAN 1000 mg, comprimé effervescent - Base de données publique des médicaments.html\n",
      "/Users/naomi/Desktop/EM/Deep learning/deeplearningproject/data/Fiche info - PIASCLEDINE 300 mg, gélule - Base de données publique des médicaments.html\n",
      "/Users/naomi/Desktop/EM/Deep learning/deeplearningproject/data/Résumé des caractéristiques du produit - AUGMENTIN 1 g_125 mg, poudre pour suspension buvable en sachet-dose (rapport amoxicilline_acide clavulanique _ 8_1) - Base de données publique des médicaments.html\n",
      "/Users/naomi/Desktop/EM/Deep learning/deeplearningproject/data/Fiche info - ISIMIG 2,5 mg, comprimé pelliculé - Base de données publique des médicaments.html\n",
      "/Users/naomi/Desktop/EM/Deep learning/deeplearningproject/data/Notice patient - AMOXICILLINE VIATRIS 1 g, comprimé dispersible - Base de données publique des médicaments.html\n",
      "/Users/naomi/Desktop/EM/Deep learning/deeplearningproject/data/Résumé des caractéristiques du produit - ISIMIG 2,5 mg, comprimé pelliculé - Base de données publique des médicaments.html\n"
     ]
    }
   ],
   "source": [
    "text_lines = []\n",
    "for file in files:\n",
    "    with open(file, 'r',encoding='ISO-8859-1') as f:\n",
    "        \n",
    "        print(file)\n",
    "        text = f.read()\n",
    "        soup = BeautifulSoup(text, \"html.parser\")\n",
    "        clean_text = soup.get_text(separator=\" \", strip=True)\n",
    "        text_splitter = RecursiveCharacterTextSplitter(chunk_size=20000, chunk_overlap=50)\n",
    "        chunks = text_splitter.split_text(clean_text)\n",
    "        text_lines += [chunk for chunk in chunks]\n",
    "        \n",
    "        "
   ]
  },
  {
   "cell_type": "markdown",
   "metadata": {},
   "source": [
    "2. Embedding a sentence"
   ]
  },
  {
   "cell_type": "code",
   "execution_count": 7,
   "metadata": {},
   "outputs": [],
   "source": [
    "from sentence_transformers import SentenceTransformer"
   ]
  },
  {
   "cell_type": "code",
   "execution_count": 8,
   "metadata": {},
   "outputs": [],
   "source": [
    "embedding_model = SentenceTransformer(\"all-MiniLM-L6-v2\") \n",
    "s = text_lines[0]\n",
    "e = embedding_model.encode([s])"
   ]
  },
  {
   "cell_type": "markdown",
   "metadata": {},
   "source": [
    "3. Creating a Milvus data collection\n"
   ]
  },
  {
   "cell_type": "code",
   "execution_count": 9,
   "metadata": {},
   "outputs": [],
   "source": [
    "from pymilvus import MilvusClient"
   ]
  },
  {
   "cell_type": "code",
   "execution_count": 10,
   "metadata": {},
   "outputs": [],
   "source": [
    "embedding_model = SentenceTransformer(\"all-MiniLM-L6-v2\") \n",
    "\n",
    "def emb_text (text_lines):\n",
    "    embeddings = embedding_model.encode(text_lines, batch_size=32, show_progress_bar=False)\n",
    "    return embeddings"
   ]
  },
  {
   "cell_type": "code",
   "execution_count": 11,
   "metadata": {},
   "outputs": [
    {
     "name": "stderr",
     "output_type": "stream",
     "text": [
      "Open /Users/naomi/Desktop/EM/Deep learning/deeplearningproject/my_milvus_db.db failed, the file has been opened by another program\n",
      "Start local milvus failed\n",
      "2025-04-06 23:01:24,344 [ERROR][_create_connection]: Failed to create new connection using: 574c0ea00e894b96b002a81693764780 (milvus_client.py:923)\n"
     ]
    },
    {
     "ename": "ConnectionConfigException",
     "evalue": "<ConnectionConfigException: (code=1, message=Open local milvus failed)>",
     "output_type": "error",
     "traceback": [
      "\u001b[31m---------------------------------------------------------------------------\u001b[39m",
      "\u001b[31mConnectionConfigException\u001b[39m                 Traceback (most recent call last)",
      "    \u001b[31m[... skipping hidden 1 frame]\u001b[39m\n",
      "\u001b[36mCell\u001b[39m\u001b[36m \u001b[39m\u001b[32mIn[11]\u001b[39m\u001b[32m, line 1\u001b[39m\n\u001b[32m----> \u001b[39m\u001b[32m1\u001b[39m milvus_client = \u001b[43mMilvusClient\u001b[49m\u001b[43m(\u001b[49m\u001b[43muri\u001b[49m\u001b[43m=\u001b[49m\u001b[33;43m\"\u001b[39;49m\u001b[33;43m./my_milvus_db.db\u001b[39;49m\u001b[33;43m\"\u001b[39;49m\u001b[43m)\u001b[49m\n\u001b[32m      2\u001b[39m collection_name = \u001b[33m\"\u001b[39m\u001b[33mrag_collection\u001b[39m\u001b[33m\"\u001b[39m\n",
      "\u001b[36mFile \u001b[39m\u001b[32m~/anaconda3/envs/deeplearning/lib/python3.11/site-packages/pymilvus/milvus_client/milvus_client.py:67\u001b[39m, in \u001b[36mMilvusClient.__init__\u001b[39m\u001b[34m(self, uri, user, password, db_name, token, timeout, **kwargs)\u001b[39m\n\u001b[32m     55\u001b[39m \u001b[38;5;250m\u001b[39m\u001b[33;03m\"\"\"A client for the common Milvus use case.\u001b[39;00m\n\u001b[32m     56\u001b[39m \n\u001b[32m     57\u001b[39m \u001b[33;03mThis client attempts to hide away the complexity of using Pymilvus. In a lot ofcases what\u001b[39;00m\n\u001b[32m   (...)\u001b[39m\u001b[32m     65\u001b[39m \u001b[33;03m        to None.\u001b[39;00m\n\u001b[32m     66\u001b[39m \u001b[33;03m\"\"\"\u001b[39;00m\n\u001b[32m---> \u001b[39m\u001b[32m67\u001b[39m \u001b[38;5;28mself\u001b[39m._using = \u001b[38;5;28;43mself\u001b[39;49m\u001b[43m.\u001b[49m\u001b[43m_create_connection\u001b[49m\u001b[43m(\u001b[49m\n\u001b[32m     68\u001b[39m \u001b[43m    \u001b[49m\u001b[43muri\u001b[49m\u001b[43m,\u001b[49m\u001b[43m \u001b[49m\u001b[43muser\u001b[49m\u001b[43m,\u001b[49m\u001b[43m \u001b[49m\u001b[43mpassword\u001b[49m\u001b[43m,\u001b[49m\u001b[43m \u001b[49m\u001b[43mdb_name\u001b[49m\u001b[43m,\u001b[49m\u001b[43m \u001b[49m\u001b[43mtoken\u001b[49m\u001b[43m,\u001b[49m\u001b[43m \u001b[49m\u001b[43mtimeout\u001b[49m\u001b[43m=\u001b[49m\u001b[43mtimeout\u001b[49m\u001b[43m,\u001b[49m\u001b[43m \u001b[49m\u001b[43m*\u001b[49m\u001b[43m*\u001b[49m\u001b[43mkwargs\u001b[49m\n\u001b[32m     69\u001b[39m \u001b[43m\u001b[49m\u001b[43m)\u001b[49m\n\u001b[32m     70\u001b[39m \u001b[38;5;28mself\u001b[39m.is_self_hosted = \u001b[38;5;28mbool\u001b[39m(utility.get_server_type(using=\u001b[38;5;28mself\u001b[39m._using) == \u001b[33m\"\u001b[39m\u001b[33mmilvus\u001b[39m\u001b[33m\"\u001b[39m)\n",
      "\u001b[36mFile \u001b[39m\u001b[32m~/anaconda3/envs/deeplearning/lib/python3.11/site-packages/pymilvus/milvus_client/milvus_client.py:924\u001b[39m, in \u001b[36mMilvusClient._create_connection\u001b[39m\u001b[34m(self, uri, user, password, db_name, token, **kwargs)\u001b[39m\n\u001b[32m    923\u001b[39m     logger.error(\u001b[33m\"\u001b[39m\u001b[33mFailed to create new connection using: \u001b[39m\u001b[38;5;132;01m%s\u001b[39;00m\u001b[33m\"\u001b[39m, using)\n\u001b[32m--> \u001b[39m\u001b[32m924\u001b[39m     \u001b[38;5;28;01mraise\u001b[39;00m ex \u001b[38;5;28;01mfrom\u001b[39;00m\u001b[38;5;250m \u001b[39m\u001b[34;01mex\u001b[39;00m\n\u001b[32m    925\u001b[39m \u001b[38;5;28;01melse\u001b[39;00m:\n",
      "\u001b[36mFile \u001b[39m\u001b[32m~/anaconda3/envs/deeplearning/lib/python3.11/site-packages/pymilvus/milvus_client/milvus_client.py:921\u001b[39m, in \u001b[36mMilvusClient._create_connection\u001b[39m\u001b[34m(self, uri, user, password, db_name, token, **kwargs)\u001b[39m\n\u001b[32m    920\u001b[39m \u001b[38;5;28;01mtry\u001b[39;00m:\n\u001b[32m--> \u001b[39m\u001b[32m921\u001b[39m     \u001b[43mconnections\u001b[49m\u001b[43m.\u001b[49m\u001b[43mconnect\u001b[49m\u001b[43m(\u001b[49m\u001b[43musing\u001b[49m\u001b[43m,\u001b[49m\u001b[43m \u001b[49m\u001b[43muser\u001b[49m\u001b[43m,\u001b[49m\u001b[43m \u001b[49m\u001b[43mpassword\u001b[49m\u001b[43m,\u001b[49m\u001b[43m \u001b[49m\u001b[43mdb_name\u001b[49m\u001b[43m,\u001b[49m\u001b[43m \u001b[49m\u001b[43mtoken\u001b[49m\u001b[43m,\u001b[49m\u001b[43m \u001b[49m\u001b[43muri\u001b[49m\u001b[43m=\u001b[49m\u001b[43muri\u001b[49m\u001b[43m,\u001b[49m\u001b[43m \u001b[49m\u001b[43m*\u001b[49m\u001b[43m*\u001b[49m\u001b[43mkwargs\u001b[49m\u001b[43m)\u001b[49m\n\u001b[32m    922\u001b[39m \u001b[38;5;28;01mexcept\u001b[39;00m \u001b[38;5;167;01mException\u001b[39;00m \u001b[38;5;28;01mas\u001b[39;00m ex:\n",
      "\u001b[36mFile \u001b[39m\u001b[32m~/anaconda3/envs/deeplearning/lib/python3.11/site-packages/pymilvus/orm/connections.py:394\u001b[39m, in \u001b[36mConnections.connect\u001b[39m\u001b[34m(self, alias, user, password, db_name, token, _async, **kwargs)\u001b[39m\n\u001b[32m    393\u001b[39m \u001b[38;5;28;01mif\u001b[39;00m local_uri \u001b[38;5;129;01mis\u001b[39;00m \u001b[38;5;28;01mNone\u001b[39;00m:\n\u001b[32m--> \u001b[39m\u001b[32m394\u001b[39m     \u001b[38;5;28;01mraise\u001b[39;00m ConnectionConfigException(message=\u001b[33m\"\u001b[39m\u001b[33mOpen local milvus failed\u001b[39m\u001b[33m\"\u001b[39m)\n\u001b[32m    395\u001b[39m kwargs[\u001b[33m\"\u001b[39m\u001b[33muri\u001b[39m\u001b[33m\"\u001b[39m] = local_uri\n",
      "\u001b[31mConnectionConfigException\u001b[39m: <ConnectionConfigException: (code=1, message=Open local milvus failed)>",
      "\nThe above exception was the direct cause of the following exception:\n",
      "\u001b[31mConnectionConfigException\u001b[39m                 Traceback (most recent call last)",
      "    \u001b[31m[... skipping hidden 1 frame]\u001b[39m\n",
      "\u001b[36mCell\u001b[39m\u001b[36m \u001b[39m\u001b[32mIn[11]\u001b[39m\u001b[32m, line 1\u001b[39m\n\u001b[32m----> \u001b[39m\u001b[32m1\u001b[39m milvus_client = \u001b[43mMilvusClient\u001b[49m\u001b[43m(\u001b[49m\u001b[43muri\u001b[49m\u001b[43m=\u001b[49m\u001b[33;43m\"\u001b[39;49m\u001b[33;43m./my_milvus_db.db\u001b[39;49m\u001b[33;43m\"\u001b[39;49m\u001b[43m)\u001b[49m\n\u001b[32m      2\u001b[39m collection_name = \u001b[33m\"\u001b[39m\u001b[33mrag_collection\u001b[39m\u001b[33m\"\u001b[39m\n",
      "\u001b[36mFile \u001b[39m\u001b[32m~/anaconda3/envs/deeplearning/lib/python3.11/site-packages/pymilvus/milvus_client/milvus_client.py:67\u001b[39m, in \u001b[36mMilvusClient.__init__\u001b[39m\u001b[34m(self, uri, user, password, db_name, token, timeout, **kwargs)\u001b[39m\n\u001b[32m     55\u001b[39m \u001b[38;5;250m\u001b[39m\u001b[33;03m\"\"\"A client for the common Milvus use case.\u001b[39;00m\n\u001b[32m     56\u001b[39m \n\u001b[32m     57\u001b[39m \u001b[33;03mThis client attempts to hide away the complexity of using Pymilvus. In a lot ofcases what\u001b[39;00m\n\u001b[32m   (...)\u001b[39m\u001b[32m     65\u001b[39m \u001b[33;03m        to None.\u001b[39;00m\n\u001b[32m     66\u001b[39m \u001b[33;03m\"\"\"\u001b[39;00m\n\u001b[32m---> \u001b[39m\u001b[32m67\u001b[39m \u001b[38;5;28mself\u001b[39m._using = \u001b[38;5;28;43mself\u001b[39;49m\u001b[43m.\u001b[49m\u001b[43m_create_connection\u001b[49m\u001b[43m(\u001b[49m\n\u001b[32m     68\u001b[39m \u001b[43m    \u001b[49m\u001b[43muri\u001b[49m\u001b[43m,\u001b[49m\u001b[43m \u001b[49m\u001b[43muser\u001b[49m\u001b[43m,\u001b[49m\u001b[43m \u001b[49m\u001b[43mpassword\u001b[49m\u001b[43m,\u001b[49m\u001b[43m \u001b[49m\u001b[43mdb_name\u001b[49m\u001b[43m,\u001b[49m\u001b[43m \u001b[49m\u001b[43mtoken\u001b[49m\u001b[43m,\u001b[49m\u001b[43m \u001b[49m\u001b[43mtimeout\u001b[49m\u001b[43m=\u001b[49m\u001b[43mtimeout\u001b[49m\u001b[43m,\u001b[49m\u001b[43m \u001b[49m\u001b[43m*\u001b[49m\u001b[43m*\u001b[49m\u001b[43mkwargs\u001b[49m\n\u001b[32m     69\u001b[39m \u001b[43m\u001b[49m\u001b[43m)\u001b[49m\n\u001b[32m     70\u001b[39m \u001b[38;5;28mself\u001b[39m.is_self_hosted = \u001b[38;5;28mbool\u001b[39m(utility.get_server_type(using=\u001b[38;5;28mself\u001b[39m._using) == \u001b[33m\"\u001b[39m\u001b[33mmilvus\u001b[39m\u001b[33m\"\u001b[39m)\n",
      "\u001b[36mFile \u001b[39m\u001b[32m~/anaconda3/envs/deeplearning/lib/python3.11/site-packages/pymilvus/milvus_client/milvus_client.py:924\u001b[39m, in \u001b[36mMilvusClient._create_connection\u001b[39m\u001b[34m(self, uri, user, password, db_name, token, **kwargs)\u001b[39m\n\u001b[32m    923\u001b[39m     logger.error(\u001b[33m\"\u001b[39m\u001b[33mFailed to create new connection using: \u001b[39m\u001b[38;5;132;01m%s\u001b[39;00m\u001b[33m\"\u001b[39m, using)\n\u001b[32m--> \u001b[39m\u001b[32m924\u001b[39m     \u001b[38;5;28;01mraise\u001b[39;00m ex \u001b[38;5;28;01mfrom\u001b[39;00m\u001b[38;5;250m \u001b[39m\u001b[34;01mex\u001b[39;00m\n\u001b[32m    925\u001b[39m \u001b[38;5;28;01melse\u001b[39;00m:\n",
      "\u001b[36mFile \u001b[39m\u001b[32m~/anaconda3/envs/deeplearning/lib/python3.11/site-packages/pymilvus/milvus_client/milvus_client.py:921\u001b[39m, in \u001b[36mMilvusClient._create_connection\u001b[39m\u001b[34m(self, uri, user, password, db_name, token, **kwargs)\u001b[39m\n\u001b[32m    920\u001b[39m \u001b[38;5;28;01mtry\u001b[39;00m:\n\u001b[32m--> \u001b[39m\u001b[32m921\u001b[39m     \u001b[43mconnections\u001b[49m\u001b[43m.\u001b[49m\u001b[43mconnect\u001b[49m\u001b[43m(\u001b[49m\u001b[43musing\u001b[49m\u001b[43m,\u001b[49m\u001b[43m \u001b[49m\u001b[43muser\u001b[49m\u001b[43m,\u001b[49m\u001b[43m \u001b[49m\u001b[43mpassword\u001b[49m\u001b[43m,\u001b[49m\u001b[43m \u001b[49m\u001b[43mdb_name\u001b[49m\u001b[43m,\u001b[49m\u001b[43m \u001b[49m\u001b[43mtoken\u001b[49m\u001b[43m,\u001b[49m\u001b[43m \u001b[49m\u001b[43muri\u001b[49m\u001b[43m=\u001b[49m\u001b[43muri\u001b[49m\u001b[43m,\u001b[49m\u001b[43m \u001b[49m\u001b[43m*\u001b[49m\u001b[43m*\u001b[49m\u001b[43mkwargs\u001b[49m\u001b[43m)\u001b[49m\n\u001b[32m    922\u001b[39m \u001b[38;5;28;01mexcept\u001b[39;00m \u001b[38;5;167;01mException\u001b[39;00m \u001b[38;5;28;01mas\u001b[39;00m ex:\n",
      "\u001b[36mFile \u001b[39m\u001b[32m~/anaconda3/envs/deeplearning/lib/python3.11/site-packages/pymilvus/orm/connections.py:394\u001b[39m, in \u001b[36mConnections.connect\u001b[39m\u001b[34m(self, alias, user, password, db_name, token, _async, **kwargs)\u001b[39m\n\u001b[32m    393\u001b[39m \u001b[38;5;28;01mif\u001b[39;00m local_uri \u001b[38;5;129;01mis\u001b[39;00m \u001b[38;5;28;01mNone\u001b[39;00m:\n\u001b[32m--> \u001b[39m\u001b[32m394\u001b[39m     \u001b[38;5;28;01mraise\u001b[39;00m ConnectionConfigException(message=\u001b[33m\"\u001b[39m\u001b[33mOpen local milvus failed\u001b[39m\u001b[33m\"\u001b[39m)\n\u001b[32m    395\u001b[39m kwargs[\u001b[33m\"\u001b[39m\u001b[33muri\u001b[39m\u001b[33m\"\u001b[39m] = local_uri\n",
      "\u001b[31mConnectionConfigException\u001b[39m: <ConnectionConfigException: (code=1, message=Open local milvus failed)>",
      "\nThe above exception was the direct cause of the following exception:\n",
      "\u001b[31mConnectionConfigException\u001b[39m                 Traceback (most recent call last)",
      "\u001b[36mCell\u001b[39m\u001b[36m \u001b[39m\u001b[32mIn[11]\u001b[39m\u001b[32m, line 1\u001b[39m\n\u001b[32m----> \u001b[39m\u001b[32m1\u001b[39m milvus_client = \u001b[43mMilvusClient\u001b[49m\u001b[43m(\u001b[49m\u001b[43muri\u001b[49m\u001b[43m=\u001b[49m\u001b[33;43m\"\u001b[39;49m\u001b[33;43m./my_milvus_db.db\u001b[39;49m\u001b[33;43m\"\u001b[39;49m\u001b[43m)\u001b[49m\n\u001b[32m      2\u001b[39m collection_name = \u001b[33m\"\u001b[39m\u001b[33mrag_collection\u001b[39m\u001b[33m\"\u001b[39m\n\u001b[32m      3\u001b[39m milvus_client.create_collection(\n\u001b[32m      4\u001b[39m  collection_name=collection_name,\n\u001b[32m      5\u001b[39m  dimension= \u001b[32m384\u001b[39m, \u001b[38;5;66;03m# The size of the embedding\u001b[39;00m\n\u001b[32m      6\u001b[39m  metric_type=\u001b[33m\"\u001b[39m\u001b[33mIP\u001b[39m\u001b[33m\"\u001b[39m, \u001b[38;5;66;03m# Inner product distance\u001b[39;00m\n\u001b[32m      7\u001b[39m  consistency_level=\u001b[33m\"\u001b[39m\u001b[33mStrong\u001b[39m\u001b[33m\"\u001b[39m, \u001b[38;5;66;03m# Strong consistency level\u001b[39;00m\n\u001b[32m      8\u001b[39m )\n",
      "\u001b[36mFile \u001b[39m\u001b[32m~/anaconda3/envs/deeplearning/lib/python3.11/site-packages/pymilvus/milvus_client/milvus_client.py:67\u001b[39m, in \u001b[36mMilvusClient.__init__\u001b[39m\u001b[34m(self, uri, user, password, db_name, token, timeout, **kwargs)\u001b[39m\n\u001b[32m     45\u001b[39m \u001b[38;5;28;01mdef\u001b[39;00m\u001b[38;5;250m \u001b[39m\u001b[34m__init__\u001b[39m(\n\u001b[32m     46\u001b[39m     \u001b[38;5;28mself\u001b[39m,\n\u001b[32m     47\u001b[39m     uri: \u001b[38;5;28mstr\u001b[39m = \u001b[33m\"\u001b[39m\u001b[33mhttp://localhost:19530\u001b[39m\u001b[33m\"\u001b[39m,\n\u001b[32m   (...)\u001b[39m\u001b[32m     53\u001b[39m     **kwargs,\n\u001b[32m     54\u001b[39m ) -> \u001b[38;5;28;01mNone\u001b[39;00m:\n\u001b[32m     55\u001b[39m \u001b[38;5;250m    \u001b[39m\u001b[33;03m\"\"\"A client for the common Milvus use case.\u001b[39;00m\n\u001b[32m     56\u001b[39m \n\u001b[32m     57\u001b[39m \u001b[33;03m    This client attempts to hide away the complexity of using Pymilvus. In a lot ofcases what\u001b[39;00m\n\u001b[32m   (...)\u001b[39m\u001b[32m     65\u001b[39m \u001b[33;03m            to None.\u001b[39;00m\n\u001b[32m     66\u001b[39m \u001b[33;03m    \"\"\"\u001b[39;00m\n\u001b[32m---> \u001b[39m\u001b[32m67\u001b[39m     \u001b[38;5;28mself\u001b[39m._using = \u001b[38;5;28;43mself\u001b[39;49m\u001b[43m.\u001b[49m\u001b[43m_create_connection\u001b[49m\u001b[43m(\u001b[49m\n\u001b[32m     68\u001b[39m \u001b[43m        \u001b[49m\u001b[43muri\u001b[49m\u001b[43m,\u001b[49m\u001b[43m \u001b[49m\u001b[43muser\u001b[49m\u001b[43m,\u001b[49m\u001b[43m \u001b[49m\u001b[43mpassword\u001b[49m\u001b[43m,\u001b[49m\u001b[43m \u001b[49m\u001b[43mdb_name\u001b[49m\u001b[43m,\u001b[49m\u001b[43m \u001b[49m\u001b[43mtoken\u001b[49m\u001b[43m,\u001b[49m\u001b[43m \u001b[49m\u001b[43mtimeout\u001b[49m\u001b[43m=\u001b[49m\u001b[43mtimeout\u001b[49m\u001b[43m,\u001b[49m\u001b[43m \u001b[49m\u001b[43m*\u001b[49m\u001b[43m*\u001b[49m\u001b[43mkwargs\u001b[49m\n\u001b[32m     69\u001b[39m \u001b[43m    \u001b[49m\u001b[43m)\u001b[49m\n\u001b[32m     70\u001b[39m     \u001b[38;5;28mself\u001b[39m.is_self_hosted = \u001b[38;5;28mbool\u001b[39m(utility.get_server_type(using=\u001b[38;5;28mself\u001b[39m._using) == \u001b[33m\"\u001b[39m\u001b[33mmilvus\u001b[39m\u001b[33m\"\u001b[39m)\n",
      "\u001b[36mFile \u001b[39m\u001b[32m~/anaconda3/envs/deeplearning/lib/python3.11/site-packages/pymilvus/milvus_client/milvus_client.py:924\u001b[39m, in \u001b[36mMilvusClient._create_connection\u001b[39m\u001b[34m(self, uri, user, password, db_name, token, **kwargs)\u001b[39m\n\u001b[32m    922\u001b[39m \u001b[38;5;28;01mexcept\u001b[39;00m \u001b[38;5;167;01mException\u001b[39;00m \u001b[38;5;28;01mas\u001b[39;00m ex:\n\u001b[32m    923\u001b[39m     logger.error(\u001b[33m\"\u001b[39m\u001b[33mFailed to create new connection using: \u001b[39m\u001b[38;5;132;01m%s\u001b[39;00m\u001b[33m\"\u001b[39m, using)\n\u001b[32m--> \u001b[39m\u001b[32m924\u001b[39m     \u001b[38;5;28;01mraise\u001b[39;00m ex \u001b[38;5;28;01mfrom\u001b[39;00m\u001b[38;5;250m \u001b[39m\u001b[34;01mex\u001b[39;00m\n\u001b[32m    925\u001b[39m \u001b[38;5;28;01melse\u001b[39;00m:\n\u001b[32m    926\u001b[39m     logger.debug(\u001b[33m\"\u001b[39m\u001b[33mCreated new connection using: \u001b[39m\u001b[38;5;132;01m%s\u001b[39;00m\u001b[33m\"\u001b[39m, using)\n",
      "\u001b[36mFile \u001b[39m\u001b[32m~/anaconda3/envs/deeplearning/lib/python3.11/site-packages/pymilvus/milvus_client/milvus_client.py:921\u001b[39m, in \u001b[36mMilvusClient._create_connection\u001b[39m\u001b[34m(self, uri, user, password, db_name, token, **kwargs)\u001b[39m\n\u001b[32m    919\u001b[39m using = uuid4().hex\n\u001b[32m    920\u001b[39m \u001b[38;5;28;01mtry\u001b[39;00m:\n\u001b[32m--> \u001b[39m\u001b[32m921\u001b[39m     \u001b[43mconnections\u001b[49m\u001b[43m.\u001b[49m\u001b[43mconnect\u001b[49m\u001b[43m(\u001b[49m\u001b[43musing\u001b[49m\u001b[43m,\u001b[49m\u001b[43m \u001b[49m\u001b[43muser\u001b[49m\u001b[43m,\u001b[49m\u001b[43m \u001b[49m\u001b[43mpassword\u001b[49m\u001b[43m,\u001b[49m\u001b[43m \u001b[49m\u001b[43mdb_name\u001b[49m\u001b[43m,\u001b[49m\u001b[43m \u001b[49m\u001b[43mtoken\u001b[49m\u001b[43m,\u001b[49m\u001b[43m \u001b[49m\u001b[43muri\u001b[49m\u001b[43m=\u001b[49m\u001b[43muri\u001b[49m\u001b[43m,\u001b[49m\u001b[43m \u001b[49m\u001b[43m*\u001b[49m\u001b[43m*\u001b[49m\u001b[43mkwargs\u001b[49m\u001b[43m)\u001b[49m\n\u001b[32m    922\u001b[39m \u001b[38;5;28;01mexcept\u001b[39;00m \u001b[38;5;167;01mException\u001b[39;00m \u001b[38;5;28;01mas\u001b[39;00m ex:\n\u001b[32m    923\u001b[39m     logger.error(\u001b[33m\"\u001b[39m\u001b[33mFailed to create new connection using: \u001b[39m\u001b[38;5;132;01m%s\u001b[39;00m\u001b[33m\"\u001b[39m, using)\n",
      "\u001b[36mFile \u001b[39m\u001b[32m~/anaconda3/envs/deeplearning/lib/python3.11/site-packages/pymilvus/orm/connections.py:394\u001b[39m, in \u001b[36mConnections.connect\u001b[39m\u001b[34m(self, alias, user, password, db_name, token, _async, **kwargs)\u001b[39m\n\u001b[32m    392\u001b[39m     local_uri = server_manager_instance.start_and_get_uri(kwargs[\u001b[33m\"\u001b[39m\u001b[33muri\u001b[39m\u001b[33m\"\u001b[39m])\n\u001b[32m    393\u001b[39m     \u001b[38;5;28;01mif\u001b[39;00m local_uri \u001b[38;5;129;01mis\u001b[39;00m \u001b[38;5;28;01mNone\u001b[39;00m:\n\u001b[32m--> \u001b[39m\u001b[32m394\u001b[39m         \u001b[38;5;28;01mraise\u001b[39;00m ConnectionConfigException(message=\u001b[33m\"\u001b[39m\u001b[33mOpen local milvus failed\u001b[39m\u001b[33m\"\u001b[39m)\n\u001b[32m    395\u001b[39m     kwargs[\u001b[33m\"\u001b[39m\u001b[33muri\u001b[39m\u001b[33m\"\u001b[39m] = local_uri\n\u001b[32m    397\u001b[39m \u001b[38;5;66;03m# kwargs_copy is used for auto reconnect\u001b[39;00m\n",
      "\u001b[31mConnectionConfigException\u001b[39m: <ConnectionConfigException: (code=1, message=Open local milvus failed)>"
     ]
    }
   ],
   "source": [
    "milvus_client = MilvusClient(uri=\"./my_milvus_db.db\")\n",
    "collection_name = \"rag_collection\"\n",
    "milvus_client.create_collection(\n",
    " collection_name=collection_name,\n",
    " dimension= 384, # The size of the embedding\n",
    " metric_type=\"IP\", # Inner product distance\n",
    " consistency_level=\"Strong\", # Strong consistency level\n",
    ")\n"
   ]
  },
  {
   "cell_type": "code",
   "execution_count": 12,
   "metadata": {},
   "outputs": [],
   "source": [
    "data = []\n",
    "# In the following example, emb_text is a function that needs to be written, based on\n",
    "# an embedding model\n",
    "for i, line in enumerate(text_lines):\n",
    "    data.append({\"id\": i, \"vector\": emb_text(line), \"text\": line})\n"
   ]
  },
  {
   "cell_type": "code",
   "execution_count": 13,
   "metadata": {},
   "outputs": [
    {
     "ename": "NameError",
     "evalue": "name 'milvus_client' is not defined",
     "output_type": "error",
     "traceback": [
      "\u001b[31m---------------------------------------------------------------------------\u001b[39m",
      "\u001b[31mNameError\u001b[39m                                 Traceback (most recent call last)",
      "\u001b[36mCell\u001b[39m\u001b[36m \u001b[39m\u001b[32mIn[13]\u001b[39m\u001b[32m, line 1\u001b[39m\n\u001b[32m----> \u001b[39m\u001b[32m1\u001b[39m insert_res = \u001b[43mmilvus_client\u001b[49m.insert(collection_name=collection_name, data=data)\n",
      "\u001b[31mNameError\u001b[39m: name 'milvus_client' is not defined"
     ]
    }
   ],
   "source": [
    "insert_res = milvus_client.insert(collection_name=collection_name, data=data)"
   ]
  },
  {
   "cell_type": "markdown",
   "metadata": {},
   "source": [
    "4. Retrieving data for a query"
   ]
  },
  {
   "cell_type": "code",
   "execution_count": 150,
   "metadata": {},
   "outputs": [],
   "source": [
    "question = \"comment prendre doliprane?\"\n",
    "search_res = milvus_client.search(\n",
    " collection_name=collection_name,\n",
    " data=[\n",
    " emb_text(question)\n",
    " ],\n",
    " limit=3, # Return top 3 results\n",
    " search_params={\"metric_type\": \"IP\", \"params\": {}}, # Inner product distance\n",
    " output_fields=[\"text\"], # Return the text field\n",
    ")"
   ]
  },
  {
   "cell_type": "code",
   "execution_count": 151,
   "metadata": {},
   "outputs": [
    {
     "name": "stdout",
     "output_type": "stream",
     "text": [
      "[\"<p class=AmmCorpsTexte style='margin-top:0cm;margin-right:0cm;margin-bottom: 0cm;margin-left:14.2pt;margin-bottom:.0001pt;text-indent:-14.2pt'>1. Qu'est-ce que DOLIPRANE 500 mg, comprimé et dans quels cas est-il utilisé ?</p>\\n<p class=AmmCorpsTexte style='margin-top:0cm;margin-right:0cm;margin-bottom: 0cm;margin-left:14.2pt;margin-bottom:.0001pt;text-indent:-14.2pt'>2. Quelles sont les informations à connaître avant de prendre DOLIPRANE 500 mg, comprimé ?</p>\\n<p class=AmmCorpsTexte style='margin-top:0cm;margin-right:0cm;margin-bottom: 0cm;margin-left:14.2pt;margin-bottom:.0001pt;text-indent:-14.2pt'>3. Comment prendre DOLIPRANE 500 mg, comprimé ?</p>\\n<p class=AmmCorpsTexte style='margin-top:0cm;margin-right:0cm;margin-bottom: 0cm;margin-left:14.2pt;margin-bottom:.0001pt;text-indent:-14.2pt'>4. Quels sont les effets indésirables éventuels ?</p>\", \"ne serait pas mentionné dans cette notice. Voir rubrique 4. · Vous devez vous adresser à votre médecin si la douleur persiste plus de 5 jours, ou la fièvre plus de 3 jours, ou en cas d\\x92efficacité insuffisante ou de survenue de tout autre signe. Que contient cette notice ? 1. Qu'est-ce que DOLIPRANE 500 mg, comprimé et dans quels cas est-il utilisé ? 2. Quelles sont les informations à connaître avant de prendre DOLIPRANE 500 mg, comprimé ? 3. Comment prendre DOLIPRANE 500 mg, comprimé ? 4. Quels sont les effets indésirables éventuels ? 5. Comment conserver DOLIPRANE 500 mg, comprimé ? 6. Contenu de l\\x92emballage et autres informations. 1. QU\\x92EST-CE QUE DOLIPRANE 500 mg, comprimé ET DANS QUELS CAS EST-IL UTILISE ? Classe pharmacothérapeutique - code ATC : N02BE01. DOLIPRANE 500 mg, comprimé contient du paracétamol. Le paracétamol est un antalgique (calme la douleur) et un antipyrétique (fait baisser la fièvre). Ce médicament est indiqué chez l\\x92adulte et l\\x92enfant à partir de 27 kg (environ\"]\n"
     ]
    }
   ],
   "source": [
    "context = [result['entity']['text'] for result in search_res[0]]\n",
    "print(context)"
   ]
  },
  {
   "cell_type": "markdown",
   "metadata": {},
   "source": [
    "5. Create a prompt "
   ]
  },
  {
   "cell_type": "code",
   "execution_count": 152,
   "metadata": {},
   "outputs": [
    {
     "data": {
      "application/vnd.jupyter.widget-view+json": {
       "model_id": "2ac736c3c5fc4937b5405e3c5700fde9",
       "version_major": 2,
       "version_minor": 0
      },
      "text/plain": [
       "VBox(children=(HTML(value='<center> <img\\nsrc=https://huggingface.co/front/assets/huggingface_logo-noborder.sv…"
      ]
     },
     "metadata": {},
     "output_type": "display_data"
    }
   ],
   "source": [
    "from huggingface_hub import notebook_login\n",
    "notebook_login()\n",
    "\n",
    "from transformers import AutoTokenizer, AutoModelForCausalLM"
   ]
  },
  {
   "cell_type": "code",
   "execution_count": 153,
   "metadata": {},
   "outputs": [],
   "source": [
    "model_name = \"gpt2\"\n",
    "\n",
    "tokenizer = AutoTokenizer.from_pretrained(model_name)\n",
    "model = AutoModelForCausalLM.from_pretrained(model_name)"
   ]
  },
  {
   "cell_type": "code",
   "execution_count": 154,
   "metadata": {},
   "outputs": [],
   "source": [
    "PROMPT = \"\"\"\n",
    "Use the information enclosed in <context> tags to provide an answer to the\n",
    "question enclosed in <question> tags.\n",
    "<context>\n",
    "{context}\n",
    "</context>\n",
    "<question>\n",
    "{question}\n",
    "</question>\" \\\n",
    "\"\"\""
   ]
  },
  {
   "cell_type": "code",
   "execution_count": 155,
   "metadata": {},
   "outputs": [
    {
     "name": "stdout",
     "output_type": "stream",
     "text": [
      "\n",
      "Use the information enclosed in <context> tags to provide an answer to the\n",
      "question enclosed in <question> tags.\n",
      "<context>\n",
      "[\"<p class=AmmCorpsTexte style='margin-top:0cm;margin-right:0cm;margin-bottom: 0cm;margin-left:14.2pt;margin-bottom:.0001pt;text-indent:-14.2pt'>1. Qu'est-ce que DOLIPRANE 500 mg, comprimé et dans quels cas est-il utilisé ?</p>\\n<p class=AmmCorpsTexte style='margin-top:0cm;margin-right:0cm;margin-bottom: 0cm;margin-left:14.2pt;margin-bottom:.0001pt;text-indent:-14.2pt'>2. Quelles sont les informations à connaître avant de prendre DOLIPRANE 500 mg, comprimé ?</p>\\n<p class=AmmCorpsTexte style='margin-top:0cm;margin-right:0cm;margin-bottom: 0cm;margin-left:14.2pt;margin-bottom:.0001pt;text-indent:-14.2pt'>3. Comment prendre DOLIPRANE 500 mg, comprimé ?</p>\\n<p class=AmmCorpsTexte style='margin-top:0cm;margin-right:0cm;margin-bottom: 0cm;margin-left:14.2pt;margin-bottom:.0001pt;text-indent:-14.2pt'>4. Quels sont les effets indésirables éventuels ?</p>\", \"ne serait pas mentionné dans cette notice. Voir rubrique 4. · Vous devez vous adresser à votre médecin si la douleur persiste plus de 5 jours, ou la fièvre plus de 3 jours, ou en cas d\\x92efficacité insuffisante ou de survenue de tout autre signe. Que contient cette notice ? 1. Qu'est-ce que DOLIPRANE 500 mg, comprimé et dans quels cas est-il utilisé ? 2. Quelles sont les informations à connaître avant de prendre DOLIPRANE 500 mg, comprimé ? 3. Comment prendre DOLIPRANE 500 mg, comprimé ? 4. Quels sont les effets indésirables éventuels ? 5. Comment conserver DOLIPRANE 500 mg, comprimé ? 6. Contenu de l\\x92emballage et autres informations. 1. QU\\x92EST-CE QUE DOLIPRANE 500 mg, comprimé ET DANS QUELS CAS EST-IL UTILISE ? Classe pharmacothérapeutique - code ATC : N02BE01. DOLIPRANE 500 mg, comprimé contient du paracétamol. Le paracétamol est un antalgique (calme la douleur) et un antipyrétique (fait baisser la fièvre). Ce médicament est indiqué chez l\\x92adulte et l\\x92enfant à partir de 27 kg (environ\"]\n",
      "</context>\n",
      "<question>\n",
      "comment prendre doliprane?\n",
      "</question>\" \n"
     ]
    }
   ],
   "source": [
    "PROMPT = PROMPT.format(question=question, context=context)\n",
    "print(PROMPT)"
   ]
  },
  {
   "cell_type": "code",
   "execution_count": 156,
   "metadata": {},
   "outputs": [],
   "source": [
    "from transformers import AutoModelForCausalLM, AutoTokenizer\n",
    "import torch\n",
    "\n",
    "model_name = \"gpt2\" \n",
    "device = torch.device(\"mps\" if torch.backends.mps.is_available() else \"cuda\" if torch.cuda.is_available() else \"cpu\")\n",
    "tokenizer = AutoTokenizer.from_pretrained(model_name)\n",
    "model = AutoModelForCausalLM.from_pretrained(model_name, torch_dtype=torch.float16, device_map=None).to(device)\n",
    "\n"
   ]
  },
  {
   "cell_type": "code",
   "execution_count": 157,
   "metadata": {},
   "outputs": [
    {
     "name": "stderr",
     "output_type": "stream",
     "text": [
      "Setting `pad_token_id` to `eos_token_id`:50256 for open-end generation.\n"
     ]
    },
    {
     "name": "stdout",
     "output_type": "stream",
     "text": [
      " -\n",
      "<context>\n",
      "<p class=AmmCorpsTexte style='margin-top:0cm;margin-right:0cm;margin-bottom: 0cm;margin-left:14.2pt;margin-bottom:.0001pt;text-indent:-14.2pt'>1. Qu'est-ce que DOLIPRANE 500 mg, comprimé et dans quels cas est-il utilisé ?\n",
      "\n"
     ]
    }
   ],
   "source": [
    "inputs = tokenizer(PROMPT.format(question=question, context=context), return_tensors=\"pt\").to(device)\n",
    "output_ids = model.generate(**inputs, max_new_tokens=100)\n",
    "\n",
    "\n",
    "response = tokenizer.decode(output_ids[0][inputs.input_ids.shape[1]:], skip_special_tokens=True)\n",
    "print(response)"
   ]
  },
  {
   "cell_type": "code",
   "execution_count": null,
   "metadata": {},
   "outputs": [],
   "source": []
  },
  {
   "cell_type": "code",
   "execution_count": null,
   "metadata": {},
   "outputs": [],
   "source": []
  }
 ],
 "metadata": {
  "kernelspec": {
   "display_name": "deeplearning",
   "language": "python",
   "name": "python3"
  },
  "language_info": {
   "codemirror_mode": {
    "name": "ipython",
    "version": 3
   },
   "file_extension": ".py",
   "mimetype": "text/x-python",
   "name": "python",
   "nbconvert_exporter": "python",
   "pygments_lexer": "ipython3",
   "version": "3.11.11"
  }
 },
 "nbformat": 4,
 "nbformat_minor": 2
}
