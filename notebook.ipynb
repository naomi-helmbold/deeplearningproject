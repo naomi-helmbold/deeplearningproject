{
 "cells": [
  {
   "cell_type": "code",
   "execution_count": 4,
   "metadata": {},
   "outputs": [
    {
     "name": "stdout",
     "output_type": "stream",
     "text": [
      "Collecting transformers\n",
      "  Downloading transformers-4.49.0-py3-none-any.whl.metadata (44 kB)\n",
      "Collecting pymilvus\n",
      "  Downloading pymilvus-2.5.5-py3-none-any.whl.metadata (5.7 kB)\n",
      "Collecting sentence-transformers\n",
      "  Downloading sentence_transformers-3.4.1-py3-none-any.whl.metadata (10 kB)\n",
      "Collecting huggingface-hub\n",
      "  Downloading huggingface_hub-0.29.3-py3-none-any.whl.metadata (13 kB)\n",
      "Collecting langchain_community\n",
      "  Downloading langchain_community-0.3.19-py3-none-any.whl.metadata (2.4 kB)\n",
      "Collecting langchain-text-splitters\n",
      "  Downloading langchain_text_splitters-0.3.6-py3-none-any.whl.metadata (1.9 kB)\n",
      "Collecting pypdf\n",
      "  Downloading pypdf-5.4.0-py3-none-any.whl.metadata (7.3 kB)\n",
      "Collecting filelock (from transformers)\n",
      "  Downloading filelock-3.18.0-py3-none-any.whl.metadata (2.9 kB)\n",
      "Collecting numpy>=1.17 (from transformers)\n",
      "  Downloading numpy-2.2.4-cp311-cp311-macosx_14_0_arm64.whl.metadata (62 kB)\n",
      "Requirement already satisfied: packaging>=20.0 in /Users/naomi/anaconda3/envs/deeplearning/lib/python3.11/site-packages (from transformers) (24.2)\n",
      "Collecting pyyaml>=5.1 (from transformers)\n",
      "  Downloading PyYAML-6.0.2-cp311-cp311-macosx_11_0_arm64.whl.metadata (2.1 kB)\n",
      "Collecting regex!=2019.12.17 (from transformers)\n",
      "  Downloading regex-2024.11.6-cp311-cp311-macosx_11_0_arm64.whl.metadata (40 kB)\n",
      "Collecting requests (from transformers)\n",
      "  Using cached requests-2.32.3-py3-none-any.whl.metadata (4.6 kB)\n",
      "Collecting tokenizers<0.22,>=0.21 (from transformers)\n",
      "  Downloading tokenizers-0.21.1-cp39-abi3-macosx_11_0_arm64.whl.metadata (6.8 kB)\n",
      "Collecting safetensors>=0.4.1 (from transformers)\n",
      "  Downloading safetensors-0.5.3-cp38-abi3-macosx_11_0_arm64.whl.metadata (3.8 kB)\n",
      "Collecting tqdm>=4.27 (from transformers)\n",
      "  Downloading tqdm-4.67.1-py3-none-any.whl.metadata (57 kB)\n",
      "Requirement already satisfied: setuptools>69 in /Users/naomi/anaconda3/envs/deeplearning/lib/python3.11/site-packages (from pymilvus) (75.8.0)\n",
      "Collecting grpcio<=1.67.1,>=1.49.1 (from pymilvus)\n",
      "  Downloading grpcio-1.67.1-cp311-cp311-macosx_10_9_universal2.whl.metadata (3.9 kB)\n",
      "Collecting protobuf>=3.20.0 (from pymilvus)\n",
      "  Downloading protobuf-6.30.1-cp39-abi3-macosx_10_9_universal2.whl.metadata (593 bytes)\n",
      "Collecting python-dotenv<2.0.0,>=1.0.1 (from pymilvus)\n",
      "  Downloading python_dotenv-1.0.1-py3-none-any.whl.metadata (23 kB)\n",
      "Collecting ujson>=2.0.0 (from pymilvus)\n",
      "  Downloading ujson-5.10.0-cp311-cp311-macosx_11_0_arm64.whl.metadata (9.3 kB)\n",
      "Collecting pandas>=1.2.4 (from pymilvus)\n",
      "  Downloading pandas-2.2.3-cp311-cp311-macosx_11_0_arm64.whl.metadata (89 kB)\n",
      "Collecting milvus-lite>=2.4.0 (from pymilvus)\n",
      "  Downloading milvus_lite-2.4.11-py3-none-macosx_11_0_arm64.whl.metadata (9.2 kB)\n",
      "Collecting torch>=1.11.0 (from sentence-transformers)\n",
      "  Downloading torch-2.6.0-cp311-none-macosx_11_0_arm64.whl.metadata (28 kB)\n",
      "Collecting scikit-learn (from sentence-transformers)\n",
      "  Downloading scikit_learn-1.6.1-cp311-cp311-macosx_12_0_arm64.whl.metadata (31 kB)\n",
      "Collecting scipy (from sentence-transformers)\n",
      "  Downloading scipy-1.15.2-cp311-cp311-macosx_14_0_arm64.whl.metadata (61 kB)\n",
      "Collecting Pillow (from sentence-transformers)\n",
      "  Downloading pillow-11.1.0-cp311-cp311-macosx_11_0_arm64.whl.metadata (9.1 kB)\n",
      "Collecting fsspec>=2023.5.0 (from huggingface-hub)\n",
      "  Downloading fsspec-2025.3.0-py3-none-any.whl.metadata (11 kB)\n",
      "Requirement already satisfied: typing-extensions>=3.7.4.3 in /Users/naomi/anaconda3/envs/deeplearning/lib/python3.11/site-packages (from huggingface-hub) (4.12.2)\n",
      "Collecting langchain-core<1.0.0,>=0.3.41 (from langchain_community)\n",
      "  Downloading langchain_core-0.3.45-py3-none-any.whl.metadata (5.9 kB)\n",
      "Collecting langchain<1.0.0,>=0.3.20 (from langchain_community)\n",
      "  Downloading langchain-0.3.20-py3-none-any.whl.metadata (7.7 kB)\n",
      "Collecting SQLAlchemy<3,>=1.4 (from langchain_community)\n",
      "  Downloading sqlalchemy-2.0.39-cp311-cp311-macosx_11_0_arm64.whl.metadata (9.6 kB)\n",
      "Collecting aiohttp<4.0.0,>=3.8.3 (from langchain_community)\n",
      "  Downloading aiohttp-3.11.14-cp311-cp311-macosx_11_0_arm64.whl.metadata (7.7 kB)\n",
      "Collecting tenacity!=8.4.0,<10,>=8.1.0 (from langchain_community)\n",
      "  Downloading tenacity-9.0.0-py3-none-any.whl.metadata (1.2 kB)\n",
      "Collecting dataclasses-json<0.7,>=0.5.7 (from langchain_community)\n",
      "  Downloading dataclasses_json-0.6.7-py3-none-any.whl.metadata (25 kB)\n",
      "Collecting pydantic-settings<3.0.0,>=2.4.0 (from langchain_community)\n",
      "  Downloading pydantic_settings-2.8.1-py3-none-any.whl.metadata (3.5 kB)\n",
      "Collecting langsmith<0.4,>=0.1.125 (from langchain_community)\n",
      "  Downloading langsmith-0.3.15-py3-none-any.whl.metadata (14 kB)\n",
      "Collecting httpx-sse<1.0.0,>=0.4.0 (from langchain_community)\n",
      "  Downloading httpx_sse-0.4.0-py3-none-any.whl.metadata (9.0 kB)\n",
      "Collecting aiohappyeyeballs>=2.3.0 (from aiohttp<4.0.0,>=3.8.3->langchain_community)\n",
      "  Downloading aiohappyeyeballs-2.6.1-py3-none-any.whl.metadata (5.9 kB)\n",
      "Collecting aiosignal>=1.1.2 (from aiohttp<4.0.0,>=3.8.3->langchain_community)\n",
      "  Downloading aiosignal-1.3.2-py2.py3-none-any.whl.metadata (3.8 kB)\n",
      "Collecting attrs>=17.3.0 (from aiohttp<4.0.0,>=3.8.3->langchain_community)\n",
      "  Downloading attrs-25.3.0-py3-none-any.whl.metadata (10 kB)\n",
      "Collecting frozenlist>=1.1.1 (from aiohttp<4.0.0,>=3.8.3->langchain_community)\n",
      "  Downloading frozenlist-1.5.0-cp311-cp311-macosx_11_0_arm64.whl.metadata (13 kB)\n",
      "Collecting multidict<7.0,>=4.5 (from aiohttp<4.0.0,>=3.8.3->langchain_community)\n",
      "  Downloading multidict-6.2.0-cp311-cp311-macosx_11_0_arm64.whl.metadata (4.9 kB)\n",
      "Collecting propcache>=0.2.0 (from aiohttp<4.0.0,>=3.8.3->langchain_community)\n",
      "  Downloading propcache-0.3.0-cp311-cp311-macosx_11_0_arm64.whl.metadata (10 kB)\n",
      "Collecting yarl<2.0,>=1.17.0 (from aiohttp<4.0.0,>=3.8.3->langchain_community)\n",
      "  Downloading yarl-1.18.3-cp311-cp311-macosx_11_0_arm64.whl.metadata (69 kB)\n",
      "Collecting marshmallow<4.0.0,>=3.18.0 (from dataclasses-json<0.7,>=0.5.7->langchain_community)\n",
      "  Downloading marshmallow-3.26.1-py3-none-any.whl.metadata (7.3 kB)\n",
      "Collecting typing-inspect<1,>=0.4.0 (from dataclasses-json<0.7,>=0.5.7->langchain_community)\n",
      "  Downloading typing_inspect-0.9.0-py3-none-any.whl.metadata (1.5 kB)\n",
      "Collecting pydantic<3.0.0,>=2.7.4 (from langchain<1.0.0,>=0.3.20->langchain_community)\n",
      "  Downloading pydantic-2.10.6-py3-none-any.whl.metadata (30 kB)\n",
      "Collecting jsonpatch<2.0,>=1.33 (from langchain-core<1.0.0,>=0.3.41->langchain_community)\n",
      "  Downloading jsonpatch-1.33-py2.py3-none-any.whl.metadata (3.0 kB)\n",
      "Collecting httpx<1,>=0.23.0 (from langsmith<0.4,>=0.1.125->langchain_community)\n",
      "  Downloading httpx-0.28.1-py3-none-any.whl.metadata (7.1 kB)\n",
      "Collecting orjson<4.0.0,>=3.9.14 (from langsmith<0.4,>=0.1.125->langchain_community)\n",
      "  Downloading orjson-3.10.15-cp311-cp311-macosx_10_15_x86_64.macosx_11_0_arm64.macosx_10_15_universal2.whl.metadata (41 kB)\n",
      "Collecting requests-toolbelt<2.0.0,>=1.0.0 (from langsmith<0.4,>=0.1.125->langchain_community)\n",
      "  Using cached requests_toolbelt-1.0.0-py2.py3-none-any.whl.metadata (14 kB)\n",
      "Collecting zstandard<0.24.0,>=0.23.0 (from langsmith<0.4,>=0.1.125->langchain_community)\n",
      "  Downloading zstandard-0.23.0-cp311-cp311-macosx_11_0_arm64.whl.metadata (3.0 kB)\n",
      "Requirement already satisfied: python-dateutil>=2.8.2 in /Users/naomi/anaconda3/envs/deeplearning/lib/python3.11/site-packages (from pandas>=1.2.4->pymilvus) (2.9.0.post0)\n",
      "Collecting pytz>=2020.1 (from pandas>=1.2.4->pymilvus)\n",
      "  Downloading pytz-2025.1-py2.py3-none-any.whl.metadata (22 kB)\n",
      "Collecting tzdata>=2022.7 (from pandas>=1.2.4->pymilvus)\n",
      "  Downloading tzdata-2025.1-py2.py3-none-any.whl.metadata (1.4 kB)\n",
      "Collecting charset-normalizer<4,>=2 (from requests->transformers)\n",
      "  Downloading charset_normalizer-3.4.1-cp311-cp311-macosx_10_9_universal2.whl.metadata (35 kB)\n",
      "Collecting idna<4,>=2.5 (from requests->transformers)\n",
      "  Using cached idna-3.10-py3-none-any.whl.metadata (10 kB)\n",
      "Collecting urllib3<3,>=1.21.1 (from requests->transformers)\n",
      "  Downloading urllib3-2.3.0-py3-none-any.whl.metadata (6.5 kB)\n",
      "Collecting certifi>=2017.4.17 (from requests->transformers)\n",
      "  Downloading certifi-2025.1.31-py3-none-any.whl.metadata (2.5 kB)\n",
      "Collecting networkx (from torch>=1.11.0->sentence-transformers)\n",
      "  Downloading networkx-3.4.2-py3-none-any.whl.metadata (6.3 kB)\n",
      "Collecting jinja2 (from torch>=1.11.0->sentence-transformers)\n",
      "  Downloading jinja2-3.1.6-py3-none-any.whl.metadata (2.9 kB)\n",
      "Collecting sympy==1.13.1 (from torch>=1.11.0->sentence-transformers)\n",
      "  Downloading sympy-1.13.1-py3-none-any.whl.metadata (12 kB)\n",
      "Collecting mpmath<1.4,>=1.1.0 (from sympy==1.13.1->torch>=1.11.0->sentence-transformers)\n",
      "  Using cached mpmath-1.3.0-py3-none-any.whl.metadata (8.6 kB)\n",
      "Collecting joblib>=1.2.0 (from scikit-learn->sentence-transformers)\n",
      "  Using cached joblib-1.4.2-py3-none-any.whl.metadata (5.4 kB)\n",
      "Collecting threadpoolctl>=3.1.0 (from scikit-learn->sentence-transformers)\n",
      "  Downloading threadpoolctl-3.6.0-py3-none-any.whl.metadata (13 kB)\n",
      "Collecting anyio (from httpx<1,>=0.23.0->langsmith<0.4,>=0.1.125->langchain_community)\n",
      "  Downloading anyio-4.9.0-py3-none-any.whl.metadata (4.7 kB)\n",
      "Collecting httpcore==1.* (from httpx<1,>=0.23.0->langsmith<0.4,>=0.1.125->langchain_community)\n",
      "  Downloading httpcore-1.0.7-py3-none-any.whl.metadata (21 kB)\n",
      "Collecting h11<0.15,>=0.13 (from httpcore==1.*->httpx<1,>=0.23.0->langsmith<0.4,>=0.1.125->langchain_community)\n",
      "  Using cached h11-0.14.0-py3-none-any.whl.metadata (8.2 kB)\n",
      "Collecting jsonpointer>=1.9 (from jsonpatch<2.0,>=1.33->langchain-core<1.0.0,>=0.3.41->langchain_community)\n",
      "  Using cached jsonpointer-3.0.0-py2.py3-none-any.whl.metadata (2.3 kB)\n",
      "Collecting annotated-types>=0.6.0 (from pydantic<3.0.0,>=2.7.4->langchain<1.0.0,>=0.3.20->langchain_community)\n",
      "  Downloading annotated_types-0.7.0-py3-none-any.whl.metadata (15 kB)\n",
      "Collecting pydantic-core==2.27.2 (from pydantic<3.0.0,>=2.7.4->langchain<1.0.0,>=0.3.20->langchain_community)\n",
      "  Downloading pydantic_core-2.27.2-cp311-cp311-macosx_11_0_arm64.whl.metadata (6.6 kB)\n",
      "Requirement already satisfied: six>=1.5 in /Users/naomi/anaconda3/envs/deeplearning/lib/python3.11/site-packages (from python-dateutil>=2.8.2->pandas>=1.2.4->pymilvus) (1.17.0)\n",
      "Collecting mypy-extensions>=0.3.0 (from typing-inspect<1,>=0.4.0->dataclasses-json<0.7,>=0.5.7->langchain_community)\n",
      "  Downloading mypy_extensions-1.0.0-py3-none-any.whl.metadata (1.1 kB)\n",
      "Collecting MarkupSafe>=2.0 (from jinja2->torch>=1.11.0->sentence-transformers)\n",
      "  Downloading MarkupSafe-3.0.2-cp311-cp311-macosx_11_0_arm64.whl.metadata (4.0 kB)\n",
      "Collecting sniffio>=1.1 (from anyio->httpx<1,>=0.23.0->langsmith<0.4,>=0.1.125->langchain_community)\n",
      "  Using cached sniffio-1.3.1-py3-none-any.whl.metadata (3.9 kB)\n",
      "Downloading transformers-4.49.0-py3-none-any.whl (10.0 MB)\n",
      "\u001b[2K   \u001b[90m━━━━━━━━━━━━━━━━━━━━━━━━━━━━━━━━━━━━━━━━\u001b[0m \u001b[32m10.0/10.0 MB\u001b[0m \u001b[31m16.0 MB/s\u001b[0m eta \u001b[36m0:00:00\u001b[0m00:01\u001b[0m0:01\u001b[0m\n",
      "\u001b[?25hDownloading pymilvus-2.5.5-py3-none-any.whl (223 kB)\n",
      "Downloading sentence_transformers-3.4.1-py3-none-any.whl (275 kB)\n",
      "Downloading huggingface_hub-0.29.3-py3-none-any.whl (468 kB)\n",
      "Downloading langchain_community-0.3.19-py3-none-any.whl (2.5 MB)\n",
      "\u001b[2K   \u001b[90m━━━━━━━━━━━━━━━━━━━━━━━━━━━━━━━━━━━━━━━━\u001b[0m \u001b[32m2.5/2.5 MB\u001b[0m \u001b[31m18.0 MB/s\u001b[0m eta \u001b[36m0:00:00\u001b[0m\n",
      "\u001b[?25hDownloading langchain_text_splitters-0.3.6-py3-none-any.whl (31 kB)\n",
      "Downloading pypdf-5.4.0-py3-none-any.whl (302 kB)\n",
      "Downloading aiohttp-3.11.14-cp311-cp311-macosx_11_0_arm64.whl (456 kB)\n",
      "Downloading dataclasses_json-0.6.7-py3-none-any.whl (28 kB)\n",
      "Downloading fsspec-2025.3.0-py3-none-any.whl (193 kB)\n",
      "Downloading grpcio-1.67.1-cp311-cp311-macosx_10_9_universal2.whl (11.0 MB)\n",
      "\u001b[2K   \u001b[90m━━━━━━━━━━━━━━━━━━━━━━━━━━━━━━━━━━━━━━━━\u001b[0m \u001b[32m11.0/11.0 MB\u001b[0m \u001b[31m16.5 MB/s\u001b[0m eta \u001b[36m0:00:00\u001b[0ma \u001b[36m0:00:01\u001b[0m\n",
      "\u001b[?25hDownloading httpx_sse-0.4.0-py3-none-any.whl (7.8 kB)\n",
      "Downloading langchain-0.3.20-py3-none-any.whl (1.0 MB)\n",
      "\u001b[2K   \u001b[90m━━━━━━━━━━━━━━━━━━━━━━━━━━━━━━━━━━━━━━━━\u001b[0m \u001b[32m1.0/1.0 MB\u001b[0m \u001b[31m29.4 MB/s\u001b[0m eta \u001b[36m0:00:00\u001b[0m\n",
      "\u001b[?25hDownloading langchain_core-0.3.45-py3-none-any.whl (415 kB)\n",
      "Downloading langsmith-0.3.15-py3-none-any.whl (343 kB)\n",
      "Downloading milvus_lite-2.4.11-py3-none-macosx_11_0_arm64.whl (16.9 MB)\n",
      "\u001b[2K   \u001b[90m━━━━━━━━━━━━━━━━━━━━━━━━━━━━━━━━━━━━━━━━\u001b[0m \u001b[32m16.9/16.9 MB\u001b[0m \u001b[31m15.1 MB/s\u001b[0m eta \u001b[36m0:00:00\u001b[0ma \u001b[36m0:00:01\u001b[0m\n",
      "\u001b[?25hDownloading numpy-2.2.4-cp311-cp311-macosx_14_0_arm64.whl (5.4 MB)\n",
      "\u001b[2K   \u001b[90m━━━━━━━━━━━━━━━━━━━━━━━━━━━━━━━━━━━━━━━━\u001b[0m \u001b[32m5.4/5.4 MB\u001b[0m \u001b[31m11.2 MB/s\u001b[0m eta \u001b[36m0:00:00\u001b[0ma \u001b[36m0:00:01\u001b[0m\n",
      "\u001b[?25hDownloading pandas-2.2.3-cp311-cp311-macosx_11_0_arm64.whl (11.3 MB)\n",
      "\u001b[2K   \u001b[90m━━━━━━━━━━━━━━━━━━━━━━━━━━━━━━━━━━━━━━━━\u001b[0m \u001b[32m11.3/11.3 MB\u001b[0m \u001b[31m12.8 MB/s\u001b[0m eta \u001b[36m0:00:00\u001b[0ma \u001b[36m0:00:01\u001b[0m\n",
      "\u001b[?25hDownloading protobuf-6.30.1-cp39-abi3-macosx_10_9_universal2.whl (417 kB)\n",
      "Downloading pydantic_settings-2.8.1-py3-none-any.whl (30 kB)\n",
      "Downloading python_dotenv-1.0.1-py3-none-any.whl (19 kB)\n",
      "Downloading PyYAML-6.0.2-cp311-cp311-macosx_11_0_arm64.whl (172 kB)\n",
      "Downloading regex-2024.11.6-cp311-cp311-macosx_11_0_arm64.whl (284 kB)\n",
      "Using cached requests-2.32.3-py3-none-any.whl (64 kB)\n",
      "Downloading safetensors-0.5.3-cp38-abi3-macosx_11_0_arm64.whl (418 kB)\n",
      "Downloading sqlalchemy-2.0.39-cp311-cp311-macosx_11_0_arm64.whl (2.1 MB)\n",
      "\u001b[2K   \u001b[90m━━━━━━━━━━━━━━━━━━━━━━━━━━━━━━━━━━━━━━━━\u001b[0m \u001b[32m2.1/2.1 MB\u001b[0m \u001b[31m10.1 MB/s\u001b[0m eta \u001b[36m0:00:00\u001b[0m00:01\u001b[0m\n",
      "\u001b[?25hDownloading tenacity-9.0.0-py3-none-any.whl (28 kB)\n",
      "Downloading tokenizers-0.21.1-cp39-abi3-macosx_11_0_arm64.whl (2.7 MB)\n",
      "\u001b[2K   \u001b[90m━━━━━━━━━━━━━━━━━━━━━━━━━━━━━━━━━━━━━━━━\u001b[0m \u001b[32m2.7/2.7 MB\u001b[0m \u001b[31m12.0 MB/s\u001b[0m eta \u001b[36m0:00:00\u001b[0ma \u001b[36m0:00:01\u001b[0m\n",
      "\u001b[?25hDownloading torch-2.6.0-cp311-none-macosx_11_0_arm64.whl (66.5 MB)\n",
      "\u001b[2K   \u001b[90m━━━━━━━━━━━━━━━━━━━━━━━━━━━━━━━━━━━━━━━━\u001b[0m \u001b[32m66.5/66.5 MB\u001b[0m \u001b[31m15.2 MB/s\u001b[0m eta \u001b[36m0:00:00\u001b[0m00:01\u001b[0m00:01\u001b[0m\n",
      "\u001b[?25hDownloading sympy-1.13.1-py3-none-any.whl (6.2 MB)\n",
      "\u001b[2K   \u001b[90m━━━━━━━━━━━━━━━━━━━━━━━━━━━━━━━━━━━━━━━━\u001b[0m \u001b[32m6.2/6.2 MB\u001b[0m \u001b[31m10.5 MB/s\u001b[0m eta \u001b[36m0:00:00\u001b[0ma \u001b[36m0:00:01\u001b[0m\n",
      "\u001b[?25hDownloading tqdm-4.67.1-py3-none-any.whl (78 kB)\n",
      "Downloading ujson-5.10.0-cp311-cp311-macosx_11_0_arm64.whl (51 kB)\n",
      "Downloading filelock-3.18.0-py3-none-any.whl (16 kB)\n",
      "Downloading pillow-11.1.0-cp311-cp311-macosx_11_0_arm64.whl (3.1 MB)\n",
      "\u001b[2K   \u001b[90m━━━━━━━━━━━━━━━━━━━━━━━━━━━━━━━━━━━━━━━━\u001b[0m \u001b[32m3.1/3.1 MB\u001b[0m \u001b[31m9.2 MB/s\u001b[0m eta \u001b[36m0:00:00\u001b[0mta \u001b[36m0:00:01\u001b[0m\n",
      "\u001b[?25hDownloading scikit_learn-1.6.1-cp311-cp311-macosx_12_0_arm64.whl (11.1 MB)\n",
      "\u001b[2K   \u001b[90m━━━━━━━━━━━━━━━━━━━━━━━━━━━━━━━━━━━━━━━━\u001b[0m \u001b[32m11.1/11.1 MB\u001b[0m \u001b[31m10.0 MB/s\u001b[0m eta \u001b[36m0:00:00\u001b[0m00:01\u001b[0m0:01\u001b[0m\n",
      "\u001b[?25hDownloading scipy-1.15.2-cp311-cp311-macosx_14_0_arm64.whl (22.4 MB)\n",
      "\u001b[2K   \u001b[90m━━━━━━━━━━━━━━━━━━━━━━━━━━━━━━━━━━━━━━━━\u001b[0m \u001b[32m22.4/22.4 MB\u001b[0m \u001b[31m9.3 MB/s\u001b[0m eta \u001b[36m0:00:00\u001b[0ma \u001b[36m0:00:01\u001b[0mm\n",
      "\u001b[?25hDownloading aiohappyeyeballs-2.6.1-py3-none-any.whl (15 kB)\n",
      "Downloading aiosignal-1.3.2-py2.py3-none-any.whl (7.6 kB)\n",
      "Downloading attrs-25.3.0-py3-none-any.whl (63 kB)\n",
      "Downloading certifi-2025.1.31-py3-none-any.whl (166 kB)\n",
      "Downloading charset_normalizer-3.4.1-cp311-cp311-macosx_10_9_universal2.whl (194 kB)\n",
      "Downloading frozenlist-1.5.0-cp311-cp311-macosx_11_0_arm64.whl (52 kB)\n",
      "Downloading httpx-0.28.1-py3-none-any.whl (73 kB)\n",
      "Downloading httpcore-1.0.7-py3-none-any.whl (78 kB)\n",
      "Using cached idna-3.10-py3-none-any.whl (70 kB)\n",
      "Using cached joblib-1.4.2-py3-none-any.whl (301 kB)\n",
      "Downloading jsonpatch-1.33-py2.py3-none-any.whl (12 kB)\n",
      "Downloading marshmallow-3.26.1-py3-none-any.whl (50 kB)\n",
      "Downloading multidict-6.2.0-cp311-cp311-macosx_11_0_arm64.whl (29 kB)\n",
      "Downloading orjson-3.10.15-cp311-cp311-macosx_10_15_x86_64.macosx_11_0_arm64.macosx_10_15_universal2.whl (249 kB)\n",
      "Downloading propcache-0.3.0-cp311-cp311-macosx_11_0_arm64.whl (45 kB)\n",
      "Downloading pydantic-2.10.6-py3-none-any.whl (431 kB)\n",
      "Downloading pydantic_core-2.27.2-cp311-cp311-macosx_11_0_arm64.whl (1.8 MB)\n",
      "\u001b[2K   \u001b[90m━━━━━━━━━━━━━━━━━━━━━━━━━━━━━━━━━━━━━━━━\u001b[0m \u001b[32m1.8/1.8 MB\u001b[0m \u001b[31m11.7 MB/s\u001b[0m eta \u001b[36m0:00:00\u001b[0m\n",
      "\u001b[?25hDownloading pytz-2025.1-py2.py3-none-any.whl (507 kB)\n",
      "Using cached requests_toolbelt-1.0.0-py2.py3-none-any.whl (54 kB)\n",
      "Downloading threadpoolctl-3.6.0-py3-none-any.whl (18 kB)\n",
      "Downloading typing_inspect-0.9.0-py3-none-any.whl (8.8 kB)\n",
      "Downloading tzdata-2025.1-py2.py3-none-any.whl (346 kB)\n",
      "Downloading urllib3-2.3.0-py3-none-any.whl (128 kB)\n",
      "Downloading yarl-1.18.3-cp311-cp311-macosx_11_0_arm64.whl (92 kB)\n",
      "Downloading zstandard-0.23.0-cp311-cp311-macosx_11_0_arm64.whl (633 kB)\n",
      "\u001b[2K   \u001b[90m━━━━━━━━━━━━━━━━━━━━━━━━━━━━━━━━━━━━━━━━\u001b[0m \u001b[32m633.7/633.7 kB\u001b[0m \u001b[31m10.1 MB/s\u001b[0m eta \u001b[36m0:00:00\u001b[0m\n",
      "\u001b[?25hDownloading jinja2-3.1.6-py3-none-any.whl (134 kB)\n",
      "Downloading networkx-3.4.2-py3-none-any.whl (1.7 MB)\n",
      "\u001b[2K   \u001b[90m━━━━━━━━━━━━━━━━━━━━━━━━━━━━━━━━━━━━━━━━\u001b[0m \u001b[32m1.7/1.7 MB\u001b[0m \u001b[31m8.0 MB/s\u001b[0m eta \u001b[36m0:00:00\u001b[0ma \u001b[36m0:00:01\u001b[0m\n",
      "\u001b[?25hDownloading annotated_types-0.7.0-py3-none-any.whl (13 kB)\n",
      "Using cached jsonpointer-3.0.0-py2.py3-none-any.whl (7.6 kB)\n",
      "Downloading MarkupSafe-3.0.2-cp311-cp311-macosx_11_0_arm64.whl (12 kB)\n",
      "Using cached mpmath-1.3.0-py3-none-any.whl (536 kB)\n",
      "Downloading mypy_extensions-1.0.0-py3-none-any.whl (4.7 kB)\n",
      "Downloading anyio-4.9.0-py3-none-any.whl (100 kB)\n",
      "Using cached h11-0.14.0-py3-none-any.whl (58 kB)\n",
      "Using cached sniffio-1.3.1-py3-none-any.whl (10 kB)\n",
      "Installing collected packages: pytz, mpmath, zstandard, urllib3, ujson, tzdata, tqdm, threadpoolctl, tenacity, sympy, SQLAlchemy, sniffio, safetensors, regex, pyyaml, python-dotenv, pypdf, pydantic-core, protobuf, propcache, Pillow, orjson, numpy, networkx, mypy-extensions, multidict, marshmallow, MarkupSafe, jsonpointer, joblib, idna, httpx-sse, h11, grpcio, fsspec, frozenlist, filelock, charset-normalizer, certifi, attrs, annotated-types, aiohappyeyeballs, yarl, typing-inspect, scipy, requests, pydantic, pandas, milvus-lite, jsonpatch, jinja2, httpcore, anyio, aiosignal, torch, scikit-learn, requests-toolbelt, pymilvus, pydantic-settings, huggingface-hub, httpx, dataclasses-json, aiohttp, tokenizers, langsmith, transformers, langchain-core, sentence-transformers, langchain-text-splitters, langchain, langchain_community\n",
      "Successfully installed MarkupSafe-3.0.2 Pillow-11.1.0 SQLAlchemy-2.0.39 aiohappyeyeballs-2.6.1 aiohttp-3.11.14 aiosignal-1.3.2 annotated-types-0.7.0 anyio-4.9.0 attrs-25.3.0 certifi-2025.1.31 charset-normalizer-3.4.1 dataclasses-json-0.6.7 filelock-3.18.0 frozenlist-1.5.0 fsspec-2025.3.0 grpcio-1.67.1 h11-0.14.0 httpcore-1.0.7 httpx-0.28.1 httpx-sse-0.4.0 huggingface-hub-0.29.3 idna-3.10 jinja2-3.1.6 joblib-1.4.2 jsonpatch-1.33 jsonpointer-3.0.0 langchain-0.3.20 langchain-core-0.3.45 langchain-text-splitters-0.3.6 langchain_community-0.3.19 langsmith-0.3.15 marshmallow-3.26.1 milvus-lite-2.4.11 mpmath-1.3.0 multidict-6.2.0 mypy-extensions-1.0.0 networkx-3.4.2 numpy-2.2.4 orjson-3.10.15 pandas-2.2.3 propcache-0.3.0 protobuf-6.30.1 pydantic-2.10.6 pydantic-core-2.27.2 pydantic-settings-2.8.1 pymilvus-2.5.5 pypdf-5.4.0 python-dotenv-1.0.1 pytz-2025.1 pyyaml-6.0.2 regex-2024.11.6 requests-2.32.3 requests-toolbelt-1.0.0 safetensors-0.5.3 scikit-learn-1.6.1 scipy-1.15.2 sentence-transformers-3.4.1 sniffio-1.3.1 sympy-1.13.1 tenacity-9.0.0 threadpoolctl-3.6.0 tokenizers-0.21.1 torch-2.6.0 tqdm-4.67.1 transformers-4.49.0 typing-inspect-0.9.0 tzdata-2025.1 ujson-5.10.0 urllib3-2.3.0 yarl-1.18.3 zstandard-0.23.0\n"
     ]
    }
   ],
   "source": [
    "!pip install transformers pymilvus sentence-transformers huggingface-hub langchain_community langchain-text-splitters pypdf\n"
   ]
  },
  {
   "cell_type": "code",
   "execution_count": 60,
   "metadata": {},
   "outputs": [
    {
     "name": "stderr",
     "output_type": "stream",
     "text": [
      "huggingface/tokenizers: The current process just got forked, after parallelism has already been used. Disabling parallelism to avoid deadlocks...\n",
      "To disable this warning, you can either:\n",
      "\t- Avoid using `tokenizers` before the fork if possible\n",
      "\t- Explicitly set the environment variable TOKENIZERS_PARALLELISM=(true | false)\n"
     ]
    },
    {
     "name": "stdout",
     "output_type": "stream",
     "text": [
      "Collecting bs4\n",
      "  Downloading bs4-0.0.2-py2.py3-none-any.whl.metadata (411 bytes)\n",
      "Collecting beautifulsoup4 (from bs4)\n",
      "  Downloading beautifulsoup4-4.13.3-py3-none-any.whl.metadata (3.8 kB)\n",
      "Collecting soupsieve>1.2 (from beautifulsoup4->bs4)\n",
      "  Using cached soupsieve-2.6-py3-none-any.whl.metadata (4.6 kB)\n",
      "Requirement already satisfied: typing-extensions>=4.0.0 in /Users/naomi/anaconda3/envs/deeplearning/lib/python3.11/site-packages (from beautifulsoup4->bs4) (4.12.2)\n",
      "Downloading bs4-0.0.2-py2.py3-none-any.whl (1.2 kB)\n",
      "Downloading beautifulsoup4-4.13.3-py3-none-any.whl (186 kB)\n",
      "Using cached soupsieve-2.6-py3-none-any.whl (36 kB)\n",
      "Installing collected packages: soupsieve, beautifulsoup4, bs4\n",
      "Successfully installed beautifulsoup4-4.13.3 bs4-0.0.2 soupsieve-2.6\n"
     ]
    }
   ],
   "source": [
    "! pip install bs4"
   ]
  },
  {
   "cell_type": "markdown",
   "metadata": {},
   "source": [
    "1. Extracting text"
   ]
  },
  {
   "cell_type": "code",
   "execution_count": 158,
   "metadata": {},
   "outputs": [],
   "source": [
    "import glob\n",
    "from langchain_text_splitters import RecursiveCharacterTextSplitter\n",
    "from bs4 import BeautifulSoup\n",
    "\n"
   ]
  },
  {
   "cell_type": "code",
   "execution_count": 63,
   "metadata": {},
   "outputs": [],
   "source": [
    "path = '/Users/naomi/Desktop/EM/Deep learning/deeplearningproject/data/'\n",
    "files = glob.glob(path +'*.html')"
   ]
  },
  {
   "cell_type": "code",
   "execution_count": 202,
   "metadata": {},
   "outputs": [
    {
     "name": "stdout",
     "output_type": "stream",
     "text": [
      "Processing: /Users/naomi/Desktop/EM/Deep learning/deeplearningproject/data/Résumé des caractéristiques du produit - KARDEGIC 160 mg, poudre pour solution buvable en sachet - Base de données publique des médicaments.html\n",
      "Processing: /Users/naomi/Desktop/EM/Deep learning/deeplearningproject/data/Fiche info - SERESTA 10 mg, comprimé - Base de données publique des médicaments.html\n",
      "Processing: /Users/naomi/Desktop/EM/Deep learning/deeplearningproject/data/Fiche info - KARDEGIC 160 mg, poudre pour solution buvable en sachet - Base de données publique des médicaments.html\n",
      "Processing: /Users/naomi/Desktop/EM/Deep learning/deeplearningproject/data/Fiche info - DOLIPRANE 500 mg, comprimé - Base de données publique des médicaments.html\n",
      "Processing: /Users/naomi/Desktop/EM/Deep learning/deeplearningproject/data/Résumé des caractéristiques du produit - DAFALGAN 500 mg, comprimé - Base de données publique des médicaments.html\n",
      "Processing: /Users/naomi/Desktop/EM/Deep learning/deeplearningproject/data/Notice patient - DAFALGAN 500 mg, comprimé - Base de données publique des médicaments.html\n",
      "Processing: /Users/naomi/Desktop/EM/Deep learning/deeplearningproject/data/Fiche info - GAVISCON, suspension buvable en sachet - Base de données publique des médicaments.html\n",
      "Processing: /Users/naomi/Desktop/EM/Deep learning/deeplearningproject/data/Notice patient - SPASFON LYOC 160 mg, lyophilisat oral - Base de données publique des médicaments.html\n",
      "Processing: /Users/naomi/Desktop/EM/Deep learning/deeplearningproject/data/Fiche info - SPEDIFEN 200 mg, comprimé - Base de données publique des médicaments.html\n",
      "Processing: /Users/naomi/Desktop/EM/Deep learning/deeplearningproject/data/Fiche info - MAGNE B6 48 mg_5 mg, comprimé enrobé - Base de données publique des médicaments.html\n",
      "Processing: /Users/naomi/Desktop/EM/Deep learning/deeplearningproject/data/Résumé des caractéristiques du produit - MACROGOL 4000 VIATRIS 10 g, poudre pour solution buvable en sachet-dose - Base de données publique des médicaments.html\n",
      "Processing: /Users/naomi/Desktop/EM/Deep learning/deeplearningproject/data/Notice patient - EFFERALGAN 1000 mg, comprimé effervescent - Base de données publique des médicaments.html\n",
      "Processing: /Users/naomi/Desktop/EM/Deep learning/deeplearningproject/data/Notice patient - KARDEGIC 160 mg, poudre pour solution buvable en sachet - Base de données publique des médicaments.html\n",
      "Processing: /Users/naomi/Desktop/EM/Deep learning/deeplearningproject/data/Notice patient - VENTOLINE 100 microgrammes_dose, suspension pour inhalation en flacon pressurisé - Base de données publique des médicaments.html\n",
      "Processing: /Users/naomi/Desktop/EM/Deep learning/deeplearningproject/data/Notice patient - IXPRIM 37,5 mg_325 mg, comprimé pelliculé - Base de données publique des médicaments.html\n",
      "Processing: /Users/naomi/Desktop/EM/Deep learning/deeplearningproject/data/Fiche info - TOPLEXIL 0,33 mg_ml, sirop - Base de données publique des médicaments.html\n",
      "Processing: /Users/naomi/Desktop/EM/Deep learning/deeplearningproject/data/Résumé des caractéristiques du produit - GAVISCON, suspension buvable en sachet - Base de données publique des médicaments.html\n",
      "Processing: /Users/naomi/Desktop/EM/Deep learning/deeplearningproject/data/Résumé des caractéristiques du produit - SUBUTEX 2 mg, comprimé sublingual - Base de données publique des médicaments.html\n",
      "Processing: /Users/naomi/Desktop/EM/Deep learning/deeplearningproject/data/Résumé des caractéristiques du produit - MAGNE B6 48 mg_5 mg, comprimé enrobé - Base de données publique des médicaments.html\n",
      "Processing: /Users/naomi/Desktop/EM/Deep learning/deeplearningproject/data/Notice patient - IMODIUM 2 mg, gélule - Base de données publique des médicaments.html\n",
      "Processing: /Users/naomi/Desktop/EM/Deep learning/deeplearningproject/data/Fiche info - TAHOR 20 mg, comprimé pelliculé - Base de données publique des médicaments.html\n",
      "Processing: /Users/naomi/Desktop/EM/Deep learning/deeplearningproject/data/Résumé des caractéristiques du produit - SPASFON LYOC 160 mg, lyophilisat oral - Base de données publique des médicaments.html\n",
      "Processing: /Users/naomi/Desktop/EM/Deep learning/deeplearningproject/data/Notice patient - LEVOTHYROX 50 microgrammes, comprimé sécable - Base de données publique des médicaments.html\n",
      "Processing: /Users/naomi/Desktop/EM/Deep learning/deeplearningproject/data/Fiche info - ATORVASTATINE ACCORD 40 mg, comprimé pelliculé - Base de données publique des médicaments.html\n",
      "Processing: /Users/naomi/Desktop/EM/Deep learning/deeplearningproject/data/Résumé des caractéristiques du produit - DOLIPRANE 500 mg, comprimé - Base de données publique des médicaments.html\n",
      "Processing: /Users/naomi/Desktop/EM/Deep learning/deeplearningproject/data/Notice patient - MOPRAL 10 mg, gélule gastro-résistante - Base de données publique des médicaments.html\n",
      "Processing: /Users/naomi/Desktop/EM/Deep learning/deeplearningproject/data/Résumé des caractéristiques du produit - ZYMAD 10 000 UI_ml, solution buvable en gouttes - Base de données publique des médicaments.html\n",
      "Processing: /Users/naomi/Desktop/EM/Deep learning/deeplearningproject/data/Résumé des caractéristiques du produit - LAMALINE, gélule - Base de données publique des médicaments.html\n",
      "Processing: /Users/naomi/Desktop/EM/Deep learning/deeplearningproject/data/Notice patient - IZALGI 500 mg_25 mg, gélule - Base de données publique des médicaments.html\n",
      "Processing: /Users/naomi/Desktop/EM/Deep learning/deeplearningproject/data/Fiche info - IMODIUM 2 mg, gélule - Base de données publique des médicaments.html\n",
      "Processing: /Users/naomi/Desktop/EM/Deep learning/deeplearningproject/data/Résumé des caractéristiques du produit - AMOXICILLINE VIATRIS 1 g, comprimé dispersible - Base de données publique des médicaments.html\n",
      "Processing: /Users/naomi/Desktop/EM/Deep learning/deeplearningproject/data/Résumé des caractéristiques du produit - IMODIUM 2 mg, gélule - Base de données publique des médicaments.html\n",
      "Processing: /Users/naomi/Desktop/EM/Deep learning/deeplearningproject/data/Notice patient - DOLIPRANE 500 mg, comprimé - Base de données publique des médicaments.html\n",
      "Processing: /Users/naomi/Desktop/EM/Deep learning/deeplearningproject/data/Fiche info - DAFLON 1000 mg, comprimé pelliculé - Base de données publique des médicaments.html\n",
      "Processing: /Users/naomi/Desktop/EM/Deep learning/deeplearningproject/data/Notice patient - METHADONE AP-HP 5 mg, gélule - Base de données publique des médicaments.html\n",
      "Processing: /Users/naomi/Desktop/EM/Deep learning/deeplearningproject/data/Résumé des caractéristiques du produit - DAFLON 1000 mg, comprimé pelliculé - Base de données publique des médicaments.html\n",
      "Processing: /Users/naomi/Desktop/EM/Deep learning/deeplearningproject/data/Notice patient - MAGNE B6 48 mg_5 mg, comprimé enrobé - Base de données publique des médicaments.html\n",
      "Processing: /Users/naomi/Desktop/EM/Deep learning/deeplearningproject/data/Notice patient - AUGMENTIN 1 g_125 mg, poudre pour suspension buvable en sachet-dose (rapport amoxicilline_acide clavulanique _ 8_1) - Base de données publique des médicaments.html\n",
      "Processing: /Users/naomi/Desktop/EM/Deep learning/deeplearningproject/data/Notice patient - MACROGOL 4000 VIATRIS 10 g, poudre pour solution buvable en sachet-dose - Base de données publique des médicaments.html\n",
      "Processing: /Users/naomi/Desktop/EM/Deep learning/deeplearningproject/data/Fiche info - SUBUTEX 2 mg, comprimé sublingual - Base de données publique des médicaments.html\n",
      "Processing: /Users/naomi/Desktop/EM/Deep learning/deeplearningproject/data/Fiche info - RHINOFLUIMUCIL, solution pour pulvérisation nasale - Base de données publique des médicaments.html\n",
      "Processing: /Users/naomi/Desktop/EM/Deep learning/deeplearningproject/data/Notice patient - GAVISCON, suspension buvable en sachet - Base de données publique des médicaments.html\n",
      "Processing: /Users/naomi/Desktop/EM/Deep learning/deeplearningproject/data/Fiche info - AUGMENTIN 1 g_125 mg, poudre pour suspension buvable en sachet-dose (rapport amoxicilline_acide clavulanique _ 8_1) - Base de données publique des médicaments.html\n",
      "Processing: /Users/naomi/Desktop/EM/Deep learning/deeplearningproject/data/Fiche info - LEVOTHYROX 50 microgrammes, comprimé sécable - Base de données publique des médicaments.html\n",
      "Processing: /Users/naomi/Desktop/EM/Deep learning/deeplearningproject/data/Résumé des caractéristiques du produit - METEOSPASMYL, capsule molle - Base de données publique des médicaments.html\n",
      "Processing: /Users/naomi/Desktop/EM/Deep learning/deeplearningproject/data/Fiche info - LAMALINE, gélule - Base de données publique des médicaments.html\n",
      "Processing: /Users/naomi/Desktop/EM/Deep learning/deeplearningproject/data/Fiche info - SPASFON LYOC 160 mg, lyophilisat oral - Base de données publique des médicaments.html\n",
      "Processing: /Users/naomi/Desktop/EM/Deep learning/deeplearningproject/data/Notice patient - ATORVASTATINE ACCORD 40 mg, comprimé pelliculé - Base de données publique des médicaments.html\n",
      "Processing: /Users/naomi/Desktop/EM/Deep learning/deeplearningproject/data/Notice patient - RHINOFLUIMUCIL, solution pour pulvérisation nasale - Base de données publique des médicaments.html\n",
      "Processing: /Users/naomi/Desktop/EM/Deep learning/deeplearningproject/data/Fiche info - MOPRAL 10 mg, gélule gastro-résistante - Base de données publique des médicaments.html\n",
      "Processing: /Users/naomi/Desktop/EM/Deep learning/deeplearningproject/data/Résumé des caractéristiques du produit - MOPRAL 10 mg, gélule gastro-résistante - Base de données publique des médicaments.html\n",
      "Processing: /Users/naomi/Desktop/EM/Deep learning/deeplearningproject/data/Notice patient - METEOSPASMYL, capsule molle - Base de données publique des médicaments.html\n",
      "Processing: /Users/naomi/Desktop/EM/Deep learning/deeplearningproject/data/Notice patient - ANTARENE 100 mg, comprimé pelliculé - Base de données publique des médicaments.html\n",
      "Processing: /Users/naomi/Desktop/EM/Deep learning/deeplearningproject/data/Fiche info - IXPRIM 37,5 mg_325 mg, comprimé pelliculé - Base de données publique des médicaments.html\n",
      "Processing: /Users/naomi/Desktop/EM/Deep learning/deeplearningproject/data/Résumé des caractéristiques du produit - DAFALGAN CODEINE, comprimé pelliculé - Base de données publique des médicaments.html\n",
      "Processing: /Users/naomi/Desktop/EM/Deep learning/deeplearningproject/data/Résumé des caractéristiques du produit - ATORVASTATINE ACCORD 40 mg, comprimé pelliculé - Base de données publique des médicaments.html\n",
      "Processing: /Users/naomi/Desktop/EM/Deep learning/deeplearningproject/data/Fiche info - CLAMOXYL 1 g, comprimé dispersible - Base de données publique des médicaments.html\n",
      "Processing: /Users/naomi/Desktop/EM/Deep learning/deeplearningproject/data/Résumé des caractéristiques du produit - BISOPROLOL VIATRIS 5 mg, comprimé pelliculé sécable - Base de données publique des médicaments.html\n",
      "Processing: /Users/naomi/Desktop/EM/Deep learning/deeplearningproject/data/Résumé des caractéristiques du produit - SERESTA 10 mg, comprimé - Base de données publique des médicaments.html\n",
      "Processing: /Users/naomi/Desktop/EM/Deep learning/deeplearningproject/data/Fiche info - ZYMAD 10 000 UI_ml, solution buvable en gouttes - Base de données publique des médicaments.html\n",
      "Processing: /Users/naomi/Desktop/EM/Deep learning/deeplearningproject/data/Notice patient - DAFLON 1000 mg, comprimé pelliculé - Base de données publique des médicaments.html\n",
      "Processing: /Users/naomi/Desktop/EM/Deep learning/deeplearningproject/data/Résumé des caractéristiques du produit - TAHOR 20 mg, comprimé pelliculé - Base de données publique des médicaments.html\n",
      "Processing: /Users/naomi/Desktop/EM/Deep learning/deeplearningproject/data/Notice patient - LAMALINE, gélule - Base de données publique des médicaments.html\n",
      "Processing: /Users/naomi/Desktop/EM/Deep learning/deeplearningproject/data/Résumé des caractéristiques du produit - PIASCLEDINE 300 mg, gélule - Base de données publique des médicaments.html\n",
      "Processing: /Users/naomi/Desktop/EM/Deep learning/deeplearningproject/data/Notice patient - BISOPROLOL VIATRIS 5 mg, comprimé pelliculé sécable - Base de données publique des médicaments.html\n",
      "Processing: /Users/naomi/Desktop/EM/Deep learning/deeplearningproject/data/Résumé des caractéristiques du produit - CLAMOXYL 1 g, comprimé dispersible - Base de données publique des médicaments.html\n",
      "Processing: /Users/naomi/Desktop/EM/Deep learning/deeplearningproject/data/Résumé des caractéristiques du produit - ANTARENE 100 mg, comprimé pelliculé - Base de données publique des médicaments.html\n",
      "Processing: /Users/naomi/Desktop/EM/Deep learning/deeplearningproject/data/Notice patient - PIASCLEDINE 300 mg, gélule - Base de données publique des médicaments.html\n",
      "Processing: /Users/naomi/Desktop/EM/Deep learning/deeplearningproject/data/Fiche info - DAFALGAN CODEINE, comprimé pelliculé - Base de données publique des médicaments.html\n",
      "Processing: /Users/naomi/Desktop/EM/Deep learning/deeplearningproject/data/Notice patient - ISIMIG 2,5 mg, comprimé pelliculé - Base de données publique des médicaments.html\n",
      "Processing: /Users/naomi/Desktop/EM/Deep learning/deeplearningproject/data/Fiche info - METEOSPASMYL, capsule molle - Base de données publique des médicaments.html\n",
      "Processing: /Users/naomi/Desktop/EM/Deep learning/deeplearningproject/data/Résumé des caractéristiques du produit - IZALGI 500 mg_25 mg, gélule - Base de données publique des médicaments.html\n",
      "Processing: /Users/naomi/Desktop/EM/Deep learning/deeplearningproject/data/Résumé des caractéristiques du produit - EFFERALGAN 1000 mg, comprimé effervescent - Base de données publique des médicaments.html\n",
      "Processing: /Users/naomi/Desktop/EM/Deep learning/deeplearningproject/data/Notice patient - SUBUTEX 2 mg, comprimé sublingual - Base de données publique des médicaments.html\n",
      "Processing: /Users/naomi/Desktop/EM/Deep learning/deeplearningproject/data/Résumé des caractéristiques du produit - IXPRIM 37,5 mg_325 mg, comprimé pelliculé - Base de données publique des médicaments.html\n",
      "Processing: /Users/naomi/Desktop/EM/Deep learning/deeplearningproject/data/Notice patient - SERESTA 10 mg, comprimé - Base de données publique des médicaments.html\n",
      "Processing: /Users/naomi/Desktop/EM/Deep learning/deeplearningproject/data/Notice patient - DAFALGAN CODEINE, comprimé pelliculé - Base de données publique des médicaments.html\n",
      "Processing: /Users/naomi/Desktop/EM/Deep learning/deeplearningproject/data/Fiche info - DAFALGAN 500 mg, comprimé - Base de données publique des médicaments.html\n",
      "Processing: /Users/naomi/Desktop/EM/Deep learning/deeplearningproject/data/Résumé des caractéristiques du produit - LEVOTHYROX 50 microgrammes, comprimé sécable - Base de données publique des médicaments.html\n",
      "Processing: /Users/naomi/Desktop/EM/Deep learning/deeplearningproject/data/Résumé des caractéristiques du produit - SPEDIFEN 200 mg, comprimé - Base de données publique des médicaments.html\n",
      "Processing: /Users/naomi/Desktop/EM/Deep learning/deeplearningproject/data/Notice patient - SPEDIFEN 200 mg, comprimé - Base de données publique des médicaments.html\n",
      "Processing: /Users/naomi/Desktop/EM/Deep learning/deeplearningproject/data/Fiche info - IZALGI 500 mg_25 mg, gélule - Base de données publique des médicaments.html\n",
      "Processing: /Users/naomi/Desktop/EM/Deep learning/deeplearningproject/data/Fiche info - METHADONE AP-HP 5 mg, gélule - Base de données publique des médicaments.html\n",
      "Processing: /Users/naomi/Desktop/EM/Deep learning/deeplearningproject/data/Fiche info - BISOPROLOL VIATRIS 5 mg, comprimé pelliculé sécable - Base de données publique des médicaments.html\n",
      "Processing: /Users/naomi/Desktop/EM/Deep learning/deeplearningproject/data/Résumé des caractéristiques du produit - RHINOFLUIMUCIL, solution pour pulvérisation nasale - Base de données publique des médicaments.html\n",
      "Processing: /Users/naomi/Desktop/EM/Deep learning/deeplearningproject/data/Notice patient - TAHOR 20 mg, comprimé pelliculé - Base de données publique des médicaments.html\n",
      "Processing: /Users/naomi/Desktop/EM/Deep learning/deeplearningproject/data/Fiche info - MACROGOL 4000 VIATRIS 10 g, poudre pour solution buvable en sachet-dose - Base de données publique des médicaments.html\n",
      "Processing: /Users/naomi/Desktop/EM/Deep learning/deeplearningproject/data/Fiche info - VENTOLINE 100 microgrammes_dose, suspension pour inhalation en flacon pressurisé - Base de données publique des médicaments.html\n",
      "Processing: /Users/naomi/Desktop/EM/Deep learning/deeplearningproject/data/Notice patient - ZYMAD 10 000 UI_ml, solution buvable en gouttes - Base de données publique des médicaments.html\n",
      "Processing: /Users/naomi/Desktop/EM/Deep learning/deeplearningproject/data/Notice patient - TOPLEXIL 0,33 mg_ml, sirop - Base de données publique des médicaments.html\n",
      "Processing: /Users/naomi/Desktop/EM/Deep learning/deeplearningproject/data/Résumé des caractéristiques du produit - TOPLEXIL 0,33 mg_ml, sirop - Base de données publique des médicaments.html\n",
      "Processing: /Users/naomi/Desktop/EM/Deep learning/deeplearningproject/data/Résumé des caractéristiques du produit - METHADONE AP-HP 5 mg, gélule - Base de données publique des médicaments.html\n",
      "Processing: /Users/naomi/Desktop/EM/Deep learning/deeplearningproject/data/Notice patient - CLAMOXYL 1 g, comprimé dispersible - Base de données publique des médicaments.html\n",
      "Processing: /Users/naomi/Desktop/EM/Deep learning/deeplearningproject/data/Fiche info - EFFERALGAN 1000 mg, comprimé effervescent - Base de données publique des médicaments.html\n",
      "Processing: /Users/naomi/Desktop/EM/Deep learning/deeplearningproject/data/Fiche info - PIASCLEDINE 300 mg, gélule - Base de données publique des médicaments.html\n",
      "Processing: /Users/naomi/Desktop/EM/Deep learning/deeplearningproject/data/Résumé des caractéristiques du produit - AUGMENTIN 1 g_125 mg, poudre pour suspension buvable en sachet-dose (rapport amoxicilline_acide clavulanique _ 8_1) - Base de données publique des médicaments.html\n",
      "Processing: /Users/naomi/Desktop/EM/Deep learning/deeplearningproject/data/Fiche info - ISIMIG 2,5 mg, comprimé pelliculé - Base de données publique des médicaments.html\n",
      "Processing: /Users/naomi/Desktop/EM/Deep learning/deeplearningproject/data/Notice patient - AMOXICILLINE VIATRIS 1 g, comprimé dispersible - Base de données publique des médicaments.html\n",
      "Processing: /Users/naomi/Desktop/EM/Deep learning/deeplearningproject/data/Résumé des caractéristiques du produit - ISIMIG 2,5 mg, comprimé pelliculé - Base de données publique des médicaments.html\n",
      "[\"Résumé des caractéristiques du produit - KARDEGIC 160 mg, poudre pour solution buvable en sachet - Base de données publique des médicaments Base de données publique des médicaments Visiter [medicaments.gouv.fr] Accueil | Glossaire | Aide Dernière mise à jour le 03/03/2025 Sommaire KARDEGIC 160 mg, poudre pour solution buvable en sachet - Résumé des caractéristiques du produit ANSM - Mis à jour le : 18/09/2024 1. DENOMINATION DU MEDICAMENT KARDEGIC 160 mg, poudre pour solution buvable en sachet 2. COMPOSITION QUALITATIVE ET QUANTITATIVE Acétylsalicylate de DL-Lysine................................................................................................ 288 mg Quantité correspondant à acide acétylsalicylique.................................................................... 160 mg Pour un sachet. Excipient(s) à effet notoire : Lactose. Pour la liste complète des excipients, voir rubrique 6.1. 3. FORME PHARMACEUTIQUE Poudre pour solution buvable. 4. DONNEES CLINIQUES 4.1. Indications thérapeutiques Prévention des complications cardiovasculaires et cérébrovasculaires liées à l\\x92athérosclérose chez les patients à haut risque vasculaire ayant une pathologie artérielle ischémique confirmée (cf. rubrique 5.1). Réduction de l\\x92occlusion des greffons après pontage aorto-coronaire. Prévention des accidents vasculaires cérébraux chez les patients ayant une fibrillation auriculaire pour lesquels le traitement par antivitamine K est contre-indiqué ou non indiqué, après examen du bénéfice et du risque (cf. rubrique 5.1). 4.2. Posologie et mode d'administration Ce médicament ne sera administré que sur prescription médicale. Réservé à l\\x92adulte. Voie orale. Dans les situations d\\x92urgence Dans les situations d\\x92urgence cardiologique (phase aiguë de l\\x92infarctus du myocarde, angor instable ) le traitement sera entrepris le plus rapidement possible après l\\x92accident inaugural, à doses élevées et de préférence avec une forme d\\x92absorption rapide (cf. 5.1). La posologie recommandée est de 200 à 330 mg le premier jour, soit 2 sachets de KARDEGIC 160 mg par jour, à débuter le plus précocement possible. Le traitement sera ensuite poursuivi à la posologie d\\x92entretien. Dans les situations d\\x92urgence neurologique , dans les 48 heures suivant l\\x92installation des signes d\\x92infarctus cérébral, le traitement pourra être instauré à la posologie de 1 sachet par jour et de préférence avec une forme d\\x92absorption rapide. En traitement chronique, en dehors des situations d\\x92urgence La posologie recommandée en traitement chronique est de 1 sachet par jour. Verser le contenu du sachet dans un grand verre. Ajouter de l\\x92eau. Une dissolution totale est obtenue rapidement. 4.3. Contre-indications · Hypersensibilité à la substance active (l\\x92acide acétylsalicylique) ou à l\\x92un des excipients mentionnés à la rubrique 6.1, ou aux autres anti-inflammatoires non stéroïdiens (réaction croisée). · Asthme ou antécédents d'asthme avec ou sans polypes nasaux induit par les salicylés ou les substances d'activité proche, notamment les anti-inflammatoires non stéroïdiens. · Ulcère gastroduodénal en évolution, antécédent d\\x92hémorragie gastrique ou de perforation après un traitement par l\\x92acide acétylsalicylique ou un autre anti-inflammatoire non stéroïdien. · Toute maladie hémorragique constitutionnelle ou acquise. · Patients atteints d\\x92une mastocytose, chez lesquels l\\x92utilisation de l\\x92acide acétylsalicylique peut entrainer des réactions d\\x92hypersensibilité sévères (y compris les chocs circulatoires avec bouffées vasomotrices, hypotension, tachycardie et des vomissements). · Risque hémorragique. · Insuffisance hépatique sévère. · Insuffisance rénale sévère (Clairance de la créatinine < 30ml/min). · Insuffisance cardiaque sévère non contrôlée. · Grossesse, à partir du début du 6ème mois (24 semaines d\\x92aménorrhée) pour des doses d\\x92aspirine supérieures à 100 mg par jour (voir rubrique 4.6) 4.4. Mises en garde spéciales et précautions d'emploi Risque de mort f\\x9ctale KARDEGIC 160 mg, poudre pour solution buvable en sachet expose à un risque de mort f\\x9ctale même après une seule prise en raison de sa toxicité cardio-pulmonaire (constriction du canal artériel et de la survenue d\\x92un oligoamnios voir rubrique 4.3). Effets chez l\\x92enfant à naitre KARDEGIC 160 mg, poudre pour solution buvable en sachet expose également le nouveau-né à un risque d\\x92atteinte rénale (insuffisance rénale), de fermeture prématurée du canal artériel et d\\x92hypertension pulmonaire. (Voir rubrique 4.6). KARDEGIC 160 mg, poudre pour solution buvable en sachet est contre-indiqué chez la femme enceinte à partir du début du 6ème mois de grossesse (24 semaines d'aménorrhée). En cas de grossesse planifiée ou au cours des 5 premiers mois (avant 24 semaines d'aménorrhée), KARDEGIC 160 mg, poudre pour solution buvable en sachet ne doit être prescrit qu\\x92en cas de nécessité absolue. En cas d\\x92association avec d\\x92autres médicaments, pour éviter un risque de surdosage, vérifier l\\x92absence d\\x92acide acétylsalicylique dans la composition des autres médicaments. Chez les patients recevant un traitement concomitant avec le nicorandil et les AINS incluant l\\x92acide acétylsalicylique, il y a un risque augmenté de complications graves telles que la survenue d\\x92ulcérations gastro-intestinales, de perforations et d\\x92hémorragies. Ainsi, il convient d\\x92être prudent si de l\\x92acide acétylsalicylique ou des AINS sont pris en même temps que le nicorandil (voir rubrique 4.5). La surveillance du traitement doit être renforcée dans les cas suivants : · antécédents d\\x92ulcère gastroduodénal, d\\x92hémorragie digestive ou de gastrite, · insuffisance rénale légère à modérée (l\\x92acide acétylsalicylique étant contre indiqué en cas d\\x92insuffisance rénale sévère, voir rubrique 4.3), · insuffisance hépatique légère à modérée (l\\x92acide acétylsalicylique étant contre indiqué en cas d\\x92insuffisance hépatique sévère, voir rubrique 4.3), · asthme : la survenue de crise d\\x92asthme, chez certains sujets, peut être liée à une allergie aux anti-inflammatoires non stéroïdiens ou à l\\x92acide acétylsalicylique. Dans ce cas, ce médicament est contre-indiqué (voir rubrique 4.3), · métrorragies ou ménorragies (risque d\\x92augmentation de l\\x92importance et de la durée des règles). Des hémorragies gastro-intestinales ou des ulcères/perforations peuvent se produire à n\\x92importe quel moment au cours du traitement sans qu\\x92il y ait nécessairement des symptômes préalables ou d\\x92antécédents. Le risque relatif augmente avec la dose, chez le sujet âgé, le sujet de faible poids corporel, les sujets ayant des antécédents d\\x92ulcères gastriques notamment en cas de complications de type hémorragie ou perforation et le malade soumis à un traitement anticoagulant ou antiagrégant plaquettaire (voir rubrique 4.5). En cas d\\x92hémorragie gastro-intestinale, interrompre immédiatement le traitement. Compte-tenu de l\\x92effet antiagrégant plaquettaire de l\\x92acide acétylsalicylique, apparaissant dès les très faibles doses et persistant plusieurs jours, il convient de prévenir le patient des risques hémorragiques pouvant survenir en cas de geste chirurgical même mineur (ex : extraction dentaire). La durée de l\\x92interruption du traitement avant l\\x92intervention doit être déterminée au cas par cas. Le traitement concomitant par la lévothyroxine et les salicylés doit être évité. Les salicylés peuvent inhiber la liaison des hormones thyroïdiennes aux protéines porteuses et ainsi produire une augmentation initiale temporaire des hormones thyroïdiennes libres, suivie d'une réduction globale du taux d'hormones thyroïdiennes totales. Par conséquent, en cas de prise concomitante de lévothyroxine et de salicylés, les taux d\\x92hormones thyroïdiennes doivent être surveillés (voir rubrique 4.5). Chez les patients hypertendus traités par AAS, la pression artérielle doit être bien contrôlée, compte-tenu de l\\x92augmentation du risque vasculaire cérébral hémorragique chez les patients hypertendus non contrôlés. Dans certains cas de forme grave de déficit en G6PD, des doses élevées d\\x92acide acétylsalicylique ont pu provoquer des hémolyses. L\\x92administration d\\x92acide acétylsalicylique en cas de déficit en G6PD doit se faire sous contrôle médical strict. Des syndromes de Reye, pathologies très rares mais présentant un risque vital, ont été observés chez des enfants avec des signes d\\x92infections virales (en particulier varicelle et épisodes d\\x92allure grippale) et recevant de l\\x92acide acétylsalicylique. KARDEGIC ne doit pas être administré aux enfants et adolescents (voir rubrique 4.2). L\\x92utilisation de ce médicament est déconseillée en cas d\\x92allaitement (voir rubrique 4.6). La prise concomitante d\\x92acide acétylsalicylique à des doses antiagrégantes plaquettaires est déconseillée avec (voir rubrique 4.5) : · l\\x92anagrélide, · les anticoagulants oraux, chez les patients ayant des antécédents d\\x92ulcère gastro-duodénal, · le clopidogrel (en dehors des indications validées pour cette association dans les syndromes coronariens aigus), · le défibrotide, · le nicorandil, · la ticlopidine, · le ticagrélor (en dehors des indications validées pour cette association dans les syndromes coronariens aigus), · le probénécide, · la lévothyroxine. . La prise d\\x92alcool peut augmenter le risque de lésions gastro-intestinales et prolonger le temps de saignement lors d\\x92une prise concomitante avec de l\\x92acide acétylsalicylique. Ainsi, les patients traités avec de l\\x92acide acétylsalicylique doivent faire preuve de prudence lors de la consommation de boissons alcoolisées jusqu\\x92à 36 heures suivant la prise du traitement. Excipients à effet notoire Ce médicament contient du lactose. Son utilisation est déconseillée chez les patients présentant une intolérance au galactose, un déficit en lactase de Lapp ou un syndrome de malabsorption du glucose et du galactose (maladies héréditaires rares). Ce médicament contient moins de 1 mmol (23 mg) de sodium par sachet, c\\x92est-à-dire qu\\x92il est essentiellement « sans sodium ». 4.5. Interactions avec d'autres médicaments et autres formes d'interactions Plusieurs substances sont impliquées dans des interactions, du fait de leurs propriétés antiagrégantes plaquettaires : l\\x92acide acétylsalicylique, le cilostazol, la ticlopidine et le clopidogrel, le tirofiban, l'eptifibatide et l'abciximab, l\\x92epoprostenol, l'iloprost, le trometamol, le prasugrel, le ticagrelor. L\\x92utilisation de plusieurs antiagrégants plaquettaires majore le risque de saignement, de même que leur association à tout autre médicament augmentant les risques de saignement par effet additif (héparine et molécules apparentées, anticoagulants oraux et autres thrombolytiques ). Ces associations doivent être prises en compte en maintenant une surveillance clinique régulière. Associations déconseillées · Anticoagulants oraux : Aspirine à des doses antiagrégantes et en cas d\\x92antécédent d\\x92ulcère gastro-duodénal : majoration du risque hémorragique. Nécessité d'un contrôle, le cas échéant, en particulier du temps de saignement. · Ticlopidine : majoration du risque hémorragique par addition des activités antiagrégantes plaquettaires. Si l\\x92association ne peut être évitée, surveillance clinique étroite. · Clopidogrel, en dehors des indications validées pour cette association dans les syndromes coronariens aigus : majoration du risque hémorragique par addition des activités antiagrégantes plaquettaires. · Ticagrélor, en dehors des indications validées pour cette association dans les syndromes coronariens aigus : majoration du risque hémorragique par addition des activités antiagrégantes plaquettaires. · Probénécide : diminution de l'effet uricosurique par compétition de l'élimination de l'acide urique au niveau des tubules rénaux. · Anagrélide : majoration des événements hémorragiques. · Défibrotide : risque hémorragique accru. · Nicorandil : Majoration du risque de complications gastrointestinales sévères (ulcération, perforation, hémorragie). · Acétazolamide : Augmentation du risque de toxicité de l\\x92acide acétylsalicylique (vomissements, tachycardie, hyperpnée, confusion mentale) ou de l\\x92acétazolamide (fatigue, léthargie, somnolence, confusion, acidose métabolique hyperchlorémique). · Lévothyroxine : les salicylés, en particulier à des doses supérieures à 2 g/jour, peuvent inhiber la liaison des hormones thyroïdiennes aux protéines porteuses et ainsi entraîner une augmentation initiale transitoire des hormones thyroïdiennes libres, suivie d'une diminution globale des taux d'hormones thyroïdiennes totales. Par conséquent, les taux d'hormones thyroïdiennes doivent être surveillés (voir rubrique 4.4). · Pémétrexed : en cas de fonction rénale faible à modérée (entre 45 ml/min et 80ml/min), risque de majoration de la toxicité du pémétrexed (diminution de sa clairance rénale par l'acide acétylsalicylique à doses anti-inflammatoires). Surveillance clinique étroite de la toxicité du pémétrexed. Associations faisant l'objet de précautions d\\x92emploi · Méthotrexate (aux doses > 20 mg/semaine) : Aspirine à des doses antiagrégantes : majoration de la toxicité, notamment hématologique, du méthotrexate (diminution de sa clairance rénale par l\\x92acide acétylsalicylique). Contrôle hebdomadaire de l\\x92hémogramme durant les premières semaines de l\\x92association. Surveillance accrue en cas d\\x92altération (même légère) de la fonction rénale, ainsi que chez le sujet âgé. · Cobimetinib : majoration du risque hémorragique. Surveillance clinique. · Topiques gastro-intestinaux, antiacide et adsorbants : diminution de l\\x92absorption digestive de l\\x92acide acétylsalicylique. Par mesure de précaution, il convient de prendre ces topiques ou antiacides à distance de tout autre médicament (plus de 2 heures, si possible). · Clopidogrel, dans les indications validées pour cette association dans les syndromes coronariens aigus : majoration du risque hémorragique par addition des activités antiagrégantes plaquettaires. Surveillance clinique. · Ibrutinib : augmentation du risque hémorragique. · Ticagrélor : dans les indications validées pour cette association dans les syndromes coronariens aigus : majoration du risque hémorragique par addition des activités antiagrégantes plaquettaires. Surveillance clinique. · Acide valproïque : Diminution possible de la liaison protéique de l'acide valproïque et inhibition du métabolisme de l'acide valproïque entraînant une augmentation des taux sériques d'acide valproïque total et libre. Surveillance clinique étroite des taux de valproate. · Ténofovir (fumarate de ténofovir disoproxil) : Augmentation possible du risque d'insuffisance rénale, en particulier chez les patients présentant des facteurs de risque de dysfonctionnement rénal. La fonction rénale doit être surveillée de manière adéquate. Associations à prendre en compte · Anticoagulants oraux : Aspirine à des doses antiagrégantes : majoration du risque hémorragique. · Thrombolytiques : augmentation du risque hémorragique. · Héparines (doses curatives et/ou sujet âgé) : Aspirine à des doses antiagrégantes : augmentation du risque hémorragique (inhibition de la fonction plaquettaire et agression de la muqueuse gastroduodénale par l\\x92acide acétylsalicylique). · Héparines (doses préventives) : l\\x92utilisation conjointe de médicaments agissant à divers niveaux de l\\x92hémostase majore le risque de saignement. Ainsi, chez le sujet de moins de 65 ans, l\\x92association de l\\x92héparine à doses préventives, ou de substances apparentées, à l\\x92acide acétylsalicylique, quelle que soit la dose, doit être prise en compte en maintenant une surveillance clinique et éventuellement biologique. · Anti-inflammatoires non stéroïdiens (AINS) : Aspirine à doses antiagrégantes : majoration du risque ulcérogène et hémorragique digestif. · Médicaments mixtes adrénergiques-sérotoninergiques : majoration du risque hémorragique. · Inhibiteurs sélectifs de la recapture de la sérotonine : majoration du risque hémorragique. · Antidiabétiques (en particulier sulfonylurées) et l\\x92insuline : Potentialisation de l\\x92effet antidiabétique. · Glucocorticoïdes (sauf hydrocortisone en traitement substitutif) : A des doses antalgiques ou antipyrétiques d\\x92acide acétylsalicylique (≥ 500 mg par prise et/ou < 3 g par jour) : majoration du risque hémorragique ; réduction des taux sanguins de salicylates pendant le traitement par corticostéroïdes et risque de surdosage en salicylates après le sevrage. · Métamizole : Réduction possible de l\\x92effet de l\\x92acide acétylsalicylique sur l\\x92agrégation plaquettaire lors d\\x92une prise concomitante. A utiliser avec prudence chez les patients prenant de faibles doses d\\x92acide acétylsalicylique en prévention cardiovasculaire. 4.6. Fertilité, grossesse et allaitement Grossesse Faibles doses, inférieures ou égales à 100 mg par jour : Les études cliniques montrent que des doses allant jusqu'à 100 mg/jour semblent être sûres dans le cas d\\x92utilisations obstétricales extrêmement limitées nécessitant une surveillance spécialisée. Doses comprises entre 100 et 500 mg par jour : L\\x92expérience clinique concernant l\\x92administration de doses comprises entre 100 mg et 500 mg par jour est insuffisante. En conséquence, les recommandations ci-dessous pour les doses supérieures à 500 mg par jour s\\x92appliquent à ces doses. Doses supérieures ou égales à 500 mg par jour : A partir du début du 6 ème mois de grossesse (24 semaines d'aménorrhée) : toute prise de KARDEGIC 160 mg, poudre pour solution buvable en sachet , même ponctuelle, est contre-indiquée . Une prise même unique à partir de 24 semaines d\\x92aménorrhée justifie un contrôle échographique cardiaque et rénal du f\\x9ctus et/ou du nouveau-né. Sauf nécessité absolue , KARDEGIC 160 mg, poudre pour solution buvable en sachet ne doit pas être prescrit chez une femme qui envisage une grossesse ou au cours des 5 premiers mois de grossesse (avant 24 semaines d\\x92aménorrhée). Le cas échéant, la dose devra être la plus faible possible et la durée du traitement la plus courte possible. Une prise prolongée est fortement déconseillée. En cas de prise à partir de la 20 ème semaine d\\x92aménorrhée, une surveillance cardiaque et rénale du f\\x9ctus pourrait s\\x92avérer nécessaire. En cas de survenue d'oligoamnios, ou de constriction du canal artériel, le traitement par KARDEGIC 160 mg, poudre pour solution buvable en sachet doit être interrompu. L\\x92inhibition de la synthèse des prostaglandines par les AINS peut affecter le déroulement de la grossesse et/ou le développement de l\\x92embryon ou du f\\x9ctus. Risques associés à l\\x92utilisation au cours du 1er trimestre Des études épidémiologiques suggèrent qu\\x92un traitement par un inhibiteur de la synthèse des prostaglandines au cours du 1er trimestre de grossesse est associé à une augmentation du risque de fausse-couche. Pour certains AINS, un risque augmenté de malformations cardiaques et de la paroi abdominale (gastroschisis) est également décrit. Le risque absolu de malformation cardiovasculaire f\\x9ctale est passé de moins de 1% à approximativement 1,5% en cas d\\x92exposition au 1 er trimestre. Le risque paraît augmenter en fonction de la dose et de la durée du traitement. Chez l\\x92animal, l\\x92administration d\\x92un inhibiteur de la synthèse des prostaglandines au cours de la phase d\\x92organogénèse provoque une perte pré et post-implantatoire accrue, une augmentation de la létalité embryo-f\\x9ctale et une incidence supérieure de certaines malformations, y compris cardiovasculaires. Risques associés à l\\x92utilisation au cours du 2 ème et 3 ème trimestre · A partir de la 12 ème semaine d\\x92aménorrhée La prise maternelle d\\x92un AINS expose le f\\x9ctus à un risque d\\x92atteinte fonctionnelle rénale : o In utero (mise en route de la diurèse f\\x9ctale): un oligoamnios peut survenir peu de temps après le début du traitement. Celui-ci est généralement réversible à l'arrêt du traitement. Il peut se compliquer d\\x92un anamnios en particulier lors d'une exposition prolongée à un AINS. o A la naissance : une insuffisance rénale (réversible ou non) peut être observée voire persister surtout en cas d'exposition tardive et prolongée avec un risque d'hyperkaliémie sévère retardée. · A partir de la 20ème semaine\", \"sévère retardée. · A partir de la 20ème semaine d\\x92aménorrhée : En plus de l\\x92atteinte fonctionnelle rénale (cf. supra), la prise maternelle d\\x92un AINS expose le f\\x9ctus à un risque de constriction du canal artériel (le plus souvent réversible à l\\x92arrêt du traitement). · A partir de la 24ème semaine d\\x92aménorrhée : Le risque de toxicité cardio-pulmonaire (fermeture prématurée du canal artériel et hypertension artérielle pulmonaire) devient plus important et peut conduire à une insuffisance cardiaque droite f\\x9ctale ou néonatale voire à une mort f\\x9ctale in utero . Ce risque est d'autant plus important et moins réversible que la prise est proche du terme. Cet effet existe même pour une prise ponctuelle En fin de grossesse (proche du terme), la prise d\\x92AINS expose également la mère et le nouveau-né à : - un allongement du temps de saignement du fait d\\x92une action anti-agrégante pouvant survenir même après administration de très faibles doses de médicament ; - une inhibition des contractions utérines entraînant un retard de terme ou un accouchement prolongé. Allaitement L'acide acétylsalicylique passant dans le lait maternel, ce médicament est déconseillé pendant l'allaitement. Fertilité Comme tous les AINS, l'utilisation de ce médicament peut temporairement altérer la fertilité féminine, en agissant sur l\\x92ovulation ; il est donc déconseillé chez les femmes souhaitant concevoir un enfant. Chez les femmes rencontrant des difficultés pour concevoir ou réalisant des tests de fertilité, l'arrêt du traitement doit être envisagé 4.7. Effets sur l'aptitude à conduire des véhicules et à utiliser des machines Aucun effet sur l\\x92aptitude à conduire des véhicules et à utiliser des machines n\\x92a été observé. 4.8. Effets indésirables La fréquence des effets indésirables ne peut être estimée. De ce fait, les fréquences sont référencées comme indéterminées. Affections hématologiques et du système lymphatique Effets hématologiques : · Syndromes hémorragiques (hématome, hémorragie urogénitale, épistaxis, gingivorragies, purpura...) avec augmentation du temps de saignement. Cette action persiste 4 à 8 jours après l'arrêt de l'aspirine. Elle peut créer un risque hémorragique en cas d'intervention chirurgicale. · Des hémorragies gastro-intestinales et intracrâniennes peuvent également survenir. Dans certains cas, le pronostic vital peut être engagé. Une hémorragie intracrânienne peut être fatale, en particulier chez les sujets âgés. · Thrombopénie, pancytopénie, bicytopénie, anémie aplasique, insuffisance médullaire, agranulocytose, neutropénie, leucopénie. · Anémie hémolytique chez les patients ayant un déficit en G6PD (voir rubrique 4.4). Affections du système immunitaire · Réactions d\\x92hypersensibilité, réactions anaphylactiques, asthme, bronchospasme, \\x9cdème de Quincke. Troubles du métabolisme et de la nutrition · L\\x92AAS à faible dose peut réduire l\\x92excrétion de l\\x92acide urique, ce qui peut aboutir à une crise de goutte chez des patients prédisposés. Affections du système nerveux central · Bourdonnements d\\x92oreille qui peuvent apparaître lors des traitements à long terme avec des doses élevées et qui sont habituellement la marque d\\x92un surdosage (voir rubrique 4.9). · Sensation de baisse de l\\x92acuité auditive qui constitue généralement le premier signe d\\x92un surdosage, voir rubrique 4.9, · Céphalées, sensation vertigineuse, qui peuvent apparaître lors des traitements à long terme avec des doses élevées. En cas de vertiges, le traitement doit être arrêté immédiatement. · Hémorragie intracrânienne pouvant être fatale, en particulier chez les sujets âgés. Affections cardiaques · Syndrome de Kounis dans un contexte de réaction d\\x92hypersensibilité à l\\x92acide acétylsalicylique. Affections vasculaires · Vascularites dont le purpura rhumatoïde de Henoch-Schönlein. · Hémorragies pouvant être fatales. Affections respiratoires, thoraciques et médiastinales · \\x8cdème pulmonaire non cardiogénique possible en cas d\\x92utilisation au long cours qui peut également apparaître dans le contexte d\\x92une réaction d\\x92hypersensibilité liée à l\\x92acide acétylsalicylique. · Bronchospasme et asthme. Affections gastro-intestinales · Troubles du tube digestif haut : des symptômes digestifs de type douleurs abdominales, dyspepsie, hyperacidité ont été rapportés. Des lésions telles qu\\x92une \\x9csophagite, une ulcération \\x9csophagienne, une gastrite érosive, une duodénite érosive, un ulcère gastrique ou duodénal voire une perforation digestive sont décrits, pouvant être à l\\x92origine d\\x92un saignement. Ce saignement digestif peut provoquer une anémie aiguë ou chronique. · Des troubles du tube digestif bas de type ulcères de l\\x92intestin grêle (jéjunum, iléon) et du gros intestin (côlon, rectum), colite et perforation intestinale ont également été décrits. · La toxicité digestive de l\\x92AAS est dose-dépendante et existe dès la dose 75 mg. La prise prolongée d\\x92aspirine peut induire une gastrite, des érosions gastroduodénales ou l\\x92extension de lésions ulcéreuses préexistantes. L\\x92hémorragie qui peut apparaître est aggravée par l\\x92action anti-thrombotique de l\\x92aspirine ; le saignement peut être asymptomatique (hématémèse et méléna sont rares) ; plus fréquemment on observe une anémie chronique. Ces réactions peuvent se produire chez les patients avec ou sans signes d'alerte ou d'antécédents gastro-intestinaux graves. · Pancréatite aiguë dans un contexte de réaction d\\x92hypersensibilité à l\\x92acide acétylsalicylique. Affections hépatobiliaires · Elévations des enzymes hépatiques, atteinte du foie principalement hépatocellulaire. · Hépatite chronique. Affections de la peau et du tissu sous-cutané · Urticaire, réactions cutanées. · Erythème pigmenté fixe. Affections du rein et des voies urinaires · Insuffisance rénale. Affections des organes reproducteurs et du sein · Hématospermie. Troubles généraux et anomalies au site d\\x92administration · Syndrome de Reye (en particulier chez les enfants et les adolescents avec des signes d\\x92infections virales (en particulier varicelle et épisodes d\\x92allure grippale) - voir rubrique 4.4). · Des \\x9cdèmes ont été rapportés pour des doses élevées (doses anti-inflammatoires) d\\x92acide acétylsalicylique. Déclaration des effets indésirables suspectés La déclaration des effets indésirables suspectés après autorisation du médicament est importante. Elle permet une surveillance continue du rapport bénéfice/risque du médicament. Les professionnels de santé déclarent tout effet indésirable suspecté via le système national de déclaration : Agence nationale de sécurité du médicament et des produits de santé (ANSM) et réseau des Centres Régionaux de Pharmacovigilance - Site internet : https://signalement.social-sante.gouv.fr/ 4.9. Surdosage Le surdosage est peu probable en raison de la faible quantité d\\x92acide acétylsalicylique présente dans KARDEGIC. Toutefois des cas d\\x92intoxication (surdosage accidentel) chez les très jeunes enfants ou le surdosage thérapeutique chez les sujets âgés peuvent se présenter comme décrits ci-dessous. Symptômes : · Intoxication modérée : bourdonnements d'oreille, sensation de baisse de l'acuité auditive, céphalées, vertiges sont la marque d'un surdosage et peuvent être contrôlés par réduction de la posologie. · Intoxication sévère : chez l'enfant, le surdosage peut être mortel à partir de 100 mg/kg en une seule prise. Les symptômes sont : fièvre, hyperventilation, cétose, alcalose respiratoire, acidose métabolique, coma, collapsus cardiovasculaire, insuffisance respiratoire, hypoglycémie importante. Un \\x9cdème pulmonaire non cardiogénique menaçant le pronostic vital peut survenir en cas de surdosage aigu et chronique avec l\\x92acide acétylsalicylique (voir rubrique 4.8). Conduite d'urgence : · transfert immédiat en milieu hospitalier spécialisé, · décontamination digestive et administration de charbon activé, · contrôle de l'équilibre acide base, · diurèse alcaline permettant d'obtenir un pH urinaire entre 7,5 et 8, · possibilité d'hémodialyse dans les intoxications graves, · traitement symptomatique. 5. PROPRIETES PHARMACOLOGIQUES 5.1. Propriétés pharmacodynamiques Classe pharmacothérapeutique : ANTITHROMBOTIQUE/INHIBITEUR DE L'AGREGATION PLAQUETTAIRE, HEPARINE EXCLUE (code ATC : B01AC06). L'aspirine est un inhibiteur de l'activation plaquettaire : en bloquant par acétylation la cyclo-oxygénase plaquettaire, elle inhibe la synthèse du thromboxane A2, substance activatrice physiologique libérée par les plaquettes, et qui jouerait un rôle dans les complications des lésions athéromateuses. Des doses répétées de 20 à 325-330 mg entraînent une inhibition de l'activité enzymatique de 30 à 95 %. Au-delà de 325-330 mg, l'activité inhibitrice n'augmente que très peu, et l'effet sur l'agrégation plaquettaire est à peu près identique. L\\x92effet inhibiteur ne s\\x92épuise pas au cours de traitements prolongés et l\\x92activité enzymatique reprend progressivement au fur et à mesure du renouvellement des plaquettes, 24 à 48 heures après arrêt du traitement. A la posologie recommandée, l\\x92aspirine réduit la synthèse de prostacycline endothéliale, mais la signification clinique de cette action est obscure et moins importante en pratique qu\\x92en théorie semble-t-il. L\\x92aspirine allonge le temps de saignement d\\x92environ 50 à 100 % en moyenne, mais des variations individuelles peuvent être observées. Aux faibles doses, un effet antiagrégant plaquettaire de l\\x92aspirine s\\x92observe après un délai de 48 à 72 heures, alors qu\\x92à plus fortes doses (300 à 330 mg) et avec une forme d\\x92absorption rapide, l\\x92effet antiagrégant plaquettaire apparaît plus rapidement, ce qui justifie l\\x92utilisation de plus fortes doses et de formes à absorption rapide dans les situations d\\x92urgence cardiologique (voir rubrique 4.2). Des données expérimentales suggèrent que l\\x92ibuprofène peut inhiber l\\x92effet antiagrégant plaquettaire d\\x92une faible dose d\\x92aspirine lorsqu\\x92ils sont pris de façon concomitante. Une étude réalisée avec une dose unique de 400 mg d\\x92ibuprofène pris 8 heures avant ou dans les 30 minutes après la prise de 81 mg d\\x92aspirine à libération immédiate a montré une diminution de l\\x92effet de l\\x92aspirine sur la formation de la thromboxane ou l\\x92agrégation plaquettaire. Toutefois, les limites de ces données ex vivo et les incertitudes quant à leur extrapolation en clinique, ne permettent pas d\\x92émettre de conclusion formelle pour ce qui est de l\\x92usage régulier de l\\x92ibuprofène ; par ailleurs, en ce qui concerne l\\x92ibuprofène utilisé de façon occasionnelle, la survenue d\\x92un effet cliniquement pertinent apparaît peu probable (voir rubrique 4.5). Six études de prévention primaire (aspirine versus placebo) ont été effectuées chez des personnes à risque cardiovasculaire généralement faible à modéré. La méta-analyse de ces 6 études a montré une diminution significative des événements cardiovasculaires (de l\\x92ordre de 3 pour 1000) au prix d\\x92une tendance à l\\x92augmentation des accidents hémorragiques graves (estimés à 2 pour 1000). Cependant, les populations des études incluses dans la méta-analyse sont trop hétérogènes pour permettre de déterminer chez quels patients l\\x92aspirine a un rapport bénéfice risque favorable en prévention primaire. Le bénéfice éventuel du traitement par l\\x92aspirine en prévention primaire chez les sujets à haut risque devrait donc être mis en balance avec l\\x92augmentation du risque hémorragique, en particulier chez le sujet âgé où ce risque hémorragique est augmenté. Une étude randomisée (Etude CLIPS), en double aveugle, d\\x92une durée de 2 ans, a comparé l\\x92efficacité de l\\x92aspirine (à la dose de 100 mg) associée à de fortes doses d\\x92antioxydant (600 mg de vitamine E associée à 250 mg de vitamine C et 20 mg de béta-carotène) à un placébo chez des patients présentant une artériopathie oblitérante des membres inférieurs (AOMI) de stade I ou II. Le critère de jugement principal (critère combiné) était l\\x92incidence des événements vasculaires fatals et non fatals (IDM, AVC, embolie pulmonaire), ainsi que les ischémies des membres inférieurs. 366 patients (185 patients dans le groupe aspirine et 181 sous placebo) ont été inclus. Les résultats montrent que l\\x92aspirine réduit significativement le risque d\\x92accidents vasculaires de 58 % [p=0,013 ou HR=0,42 (IC 95 % : 0,21-0,83)]. La méta-analyse de l\\x92Antithrombotic Trialists\\x92 Collaboration de 2002 a évalué l\\x92effet d\\x92un traitement antiagrégant plaquettaire comparé à celui de l\\x92absence d\\x92un tel traitement dans 195 essais randomisés rassemblant 135 640 patients à haut risque vasculaire. Les résultats montrent sous traitement AAP une diminution significative (p < 0,0001) d\\x92environ 22 % du risque d\\x92événements vasculaires graves (infarctus du myocarde [IDM] non mortel, AVC non mortel ou décès d\\x92origine vasculaire) et une diminution significative (p < 0,0001) de toutes les composantes de ce critère de jugement, dans toutes les catégories de patients concernés (antécédents d\\x92IDM, IDM aigu, antécédents d\\x92AVC ou d\\x92AIT, AVC, autres patients à haut risque). Une mise à jour de la méta-analyse de l\\x92ATC 2002, restreinte aux essais évaluant l\\x92efficacité de l\\x92aspirine seule a regroupé 46 études ayant inclus 87654 patients à haut risque vasculaire ayant une pathologie ischémique artérielle confirmée (maladie coronarienne, cérébrovasculaire, AOMI). Les résultats de cette méta-analyse montrent que l\\x92aspirine apporte un bénéfice sur la survenue d\\x92événements vasculaires (21 %, p < 0,0001), d\\x92infarctus non mortel (40 %, p < 0,0001), d\\x92AVC non mortel (22 %, p < 0,0001) et de mortalité toutes causes (14 %, p < 0,0001). Le risque de saignement majeur est augmenté significativement par l\\x92aspirine de 87 % (p < 0,0001). Dans la catégorie des patients présentant une AOMI (7 études - dont l\\x92étude CLIPS \\x96 incluant 1710 patients), l\\x92aspirine a réduit significativement le risque d\\x92événement vasculaire de 50 % (p = 0,01) et d\\x92AVC non mortel de 74 %. Les différences sur les autres critères de jugement n\\x92étaient pas significatives. 16 études randomisées de prévention des accidents vasculaires cérébraux par une thérapie antithrombotique ont été réalisées chez 9874 patients ayant une fibrillation auriculaire. Les résultats de cette méta-analyse ont montré que l\\x92aspirine était moins efficace que la warfarine mais néanmoins plus efficace que le placebo (réduction des accidents cérébrovasculaires de 22 % pour l\\x92aspirine [IC 95 % : 2 %-38 %] contre 62 % pour la warfarine [IC 95 % : 48 %-72 %]). Le traitement par aspirine est à privilégier chez les patients à faible risque thromboembolique*, pour lesquels un traitement par antivitamine K serait non indiqué, et chez les patients ayant une contre-indication aux antivitamines K ou lorsque le risque de saignement par antivitamine K paraît excessif. *Selon les recommandations internationales, sont à haut risque thromboembolique les patients ayant un ou plusieurs facteurs de risque suivants : antécédent d\\x92accident cérébrovasculaire, antécédent d\\x92accident ischémique transitoire ou antécédent d\\x92embolie, sténose mitrale, prothèse valvulaire ; et à faible risque thromboembolique ceux qui ne présentent aucun facteur de risque ou qui n\\x92ont qu\\x92un seul facteur de risque modéré tels que l\\x92âge ≥ 75 ans, l\\x92hypertension, l\\x92insuffisance cardiaque, une fraction d\\x92éjection ≤ 35 % et le diabète. 5.2. Propriétés pharmacocinétiques L\\x92acétylsalicylate de lysine se dissociant instantanément et totalement dans l\\x92eau, l\\x92absorption se fait rapidement sous forme d\\x92acide acétylsalicylique au niveau gastro-intestinal. L\\x92acide acétylsalicylique est rapidement hydrolysé dans le plasma en acide salicylique ; le taux sanguin maximum est atteint en 30 à 40 minutes selon que le sujet est à jeun ou non. Les salicylates plasmatiques sont en grande partie liés aux protéines plasmatiques et sont transformées au niveau hépatique (conjugaison et hydroxylation) en métabolites actifs. L\\x92ensemble des métabolites, de même que l\\x92acide salicylique, sont éliminés par voie rénale. La clairance augmente avec le pH urinaire. Le caractère saturable de la glycuroconjugaison sur la fonction acide de l\\x92acide salicylique, et la glycuroconjugaison sur la fonction phénol, est responsable d\\x92une cinétique d\\x92accumulation dont il y a lieu de tenir compte lors de traitements prolongés à posologies élevées : la demi-vie d\\x92élimination de l\\x92acide salicylique est dose-dépendante. 5.3. Données de sécurité préclinique Sans objet. 6. DONNEES PHARMACEUTIQUES 6.1. Liste des excipients Glycine, arôme mandarine (huile essentielle de zeste de mandarine, jus concentré d\\x92orange, huile essentielle d\\x92orange, lactose, maltodextrine, gomme arabique, butylhydroxyanisol), glycyrrhizate d\\x92ammonium. 6.2. Incompatibilités Sans objet. 6.3. Durée de conservation 2 ans. 6.4. Précautions particulières de conservation A conserver à une température ne dépassant pas 25°C. Conserver les sachets dans l\\x92emballage extérieur, à l\\x92abri de l\\x92humidité. 6.5. Nature et contenu de l'emballage extérieur 327,4 mg en sachet-dose (Papier/Aluminium/PE), boîte de 30 ou 100. Toutes les présentations peuvent ne pas être commercialisées. 6.6. Précautions particulières d\\x92élimination et de manipulation Pas d\\x92exigences particulières. Tout médicament non utilisé ou déchet doit être éliminé conformément à la réglementation en vigueur. 7. TITULAIRE DE L\\x92AUTORISATION DE MISE SUR LE MARCHE SANOFI WINTHROP INDUSTRIE 82 AVENUE RASPAIL 94250 GENTILLY 8. NUMERO(S) D\\x92AUTORISATION DE MISE SUR LE MARCHE · 34009 3324737 9 : 327,4 mg en sachet-dose (Papier/Aluminium/PE), boîte de 30. · 34009 5567591 4 : 327,4 mg en sachet-dose (Papier/Aluminium/PE), boîte de 100. 9. DATE DE PREMIERE AUTORISATION/DE RENOUVELLEMENT DE L\\x92AUTORISATION [à compléter ultérieurement par le titulaire] 10. DATE DE MISE A JOUR DU TEXTE [à compléter ultérieurement par le titulaire] 11. DOSIMETRIE Sans objet. 12. INSTRUCTIONS POUR LA PREPARATION DES RADIOPHARMACEUTIQUES Sans objet. CONDITIONS DE PRESCRIPTION ET DE DELIVRANCE Médicament non soumis à prescription médicale. Retour en haut de la page Plan du site | Accessibilité | Contact | Téléchargement | Declaration de confidentialité | Service-Public.fr | Legifrance | Gouvernement.fr\", 'Fiche info - SERESTA 10 mg, comprimé - Base de données publique des médicaments Base de données publique des médicaments Visiter [medicaments.gouv.fr] Accueil | Glossaire | Aide Dernière mise à jour le 03/03/2025 SERESTA 10 mg, comprimé Date de l\\'autorisation : 22/10/1986 Cliquez sur un pictogramme pour aller directement à la rubrique le concernant. Pour plus d\\'information sur les pictogrammes, consultez l\\'aide . Indications thérapeutiques Classe pharmacothérapeutique - ANXIOLYTIQUES. Code ATC : N05B04 Ce médicament est apparenté aux benzodiazépines Ce médicament est préconisé dans le traitement de l\\'anxiété lorsque celle-ci s\\'accompagne de troubles gênants, ou en prévention et/ou traitement des manifestations liées à un sevrage alcoolique. Groupe(s) générique(s) Ce médicament appartient au(x) groupe(s) générique(s) suivants : OXAZEPAM 10 mg - SERESTA 10 mg, comprimé Composition en substances actives Comprimé (Composition pour un comprimé) > oxazépam 10 mg Présentations > plaquette(s) thermoformée(s) PVC-Aluminium de 30 comprimé(s) Code CIP : 358 875-5 ou 34009 358 875 5 9 Déclaration de commercialisation : 02/01/2003 Cette présentation est agréée aux collectivités En pharmacie de ville : Prix hors honoraire de dispensation : 1,25 € Honoraire de dispensation : 1,02 € Prix honoraire compris : 2,27 € Taux de remboursement : 65% > plaquette(s) thermoformée(s) PVC-Aluminium de 100 comprimé(s) Code CIP : 578 961-8 ou 34009 578 961 8 8 Déclaration de commercialisation : 15/11/2011 Cette présentation est agréée aux collectivités Prix libre, médicament non remboursable ( cliquez ici pour en savoir plus sur les médicaments non remboursables ) Documents de bon usage du médicament Quelle place pour les benzodiazépines dans l\\x92anxiété ? Auteur : Haute autorité de santé Type : Fiche Bon Usage du Médicament Date de mise à jour : Juillet 2018 Quelle place pour les benzodiazépines dans l\\x92anxiété ? Auteur : Haute autorité de santé Type : Fiche Bon Usage du Médicament Date de mise à jour : Juillet 2018 Quelle place pour les benzodiazépines dans l\\x92anxiété ? Auteur : Haute autorité de santé Type : Fiche Bon Usage du Médicament Date de mise à jour : Juillet 2018 Arrêt des benzodiazépines et médicaments apparentés : démarche du médecin traitant en ambulatoire Auteur : Haute autorité de santé Type : Fiche mémo Date de mise à jour : Juin 2015 Arrêt des benzodiazépines et médicaments apparentés : démarche du médecin traitant en ambulatoire Auteur : Haute autorité de santé Type : Fiche mémo Date de mise à jour : Juin 2015 Arrêt des benzodiazépines et médicaments apparentés : démarche du médecin traitant en ambulatoire Auteur : Haute autorité de santé Type : Fiche mémo Date de mise à jour : Juin 2015 Service médical rendu (SMR) Les libellés affichés ci-dessous ne sont que des résumés ou extraits issus des avis rendus par la Commission de la Transparence. Seul l\\'avis complet de la Commission de la Transparence fait référence. Cet avis est consultable à partir du lien \"Avis du jj/mm/aaaa\" ou encore sur demande auprès de la HAS ( plus d\\'informations dans l\\'aide ). Les avis et synthèses d\\'avis contiennent un paragraphe sur la place du médicament dans la stratégie thérapeutique. Liste des avis de SMR rendus par la commission de la transparence pour SERESTA 10 mg, comprimé Valeur du SMR Avis Motif de l\\'évaluation Résumé de l\\'avis Important Avis du 07/09/2016 Renouvellement d\\'inscription (CT) Le service médical rendu de SERESTA reste important dans les indications : Traitement symptomatique des manifestations anxieuses sévères et/ou invalidantes, Prévention et traitement du delirium tremens et des autres manifestations du sevrage alcoolique. Important Avis du 07/09/2016 Renouvellement d\\'inscription (CT) Le service médical rendu de SERESTA reste important dans les indications : Traitement symptomatique des manifestations anxieuses sévères et/ou invalidantes, Prévention et traitement du delirium tremens et des autres manifestations du sevrage alcoolique. Important Avis du 07/09/2016 Renouvellement d\\'inscription (CT) Le service médical rendu de SERESTA reste important dans les indications : Traitement symptomatique des manifestations anxieuses sévères et/ou invalidantes, Prévention et traitement du delirium tremens et des autres manifestations du sevrage alcoolique. Amélioration du service médical rendu (ASMR) Les libellés affichés ci-dessous ne sont que des résumés ou extraits issus des avis rendus par la Commission de la Transparence. Seul l\\'avis complet de la Commission de la Transparence fait référence. Cet avis est consultable à partir du lien \"Avis du jj/mm/aaaa\" ou encore sur demande auprès de la HAS ( plus d\\'informations dans l\\'aide ). Les avis et synthèses d\\'avis contiennent un paragraphe sur la place du médicament dans la stratégie thérapeutique. Liste des avis d\\'ASMR rendus par la commission de la transparence pour SERESTA 10 mg, comprimé Valeur de l\\'ASMR Avis Motif de l\\'évaluation Résumé de l\\'avis V (Inexistant) Avis du 05/10/2011 Inscription (CT) Cette spécialité est un complément de gamme qui n\\x92apporte pas d\\x92amélioration du service médical rendu (ASMR V). V (Inexistant) Avis du 05/10/2011 Inscription (CT) Cette spécialité est un complément de gamme qui n\\x92apporte pas d\\x92amélioration du service médical rendu (ASMR V). V (Inexistant) Avis du 05/10/2011 Inscription (CT) Cette spécialité est un complément de gamme qui n\\x92apporte pas d\\x92amélioration du service médical rendu (ASMR V). Autres informations (cliquer pour afficher) Titulaire de l\\'autorisation : NEURAXPHARM France Conditions de prescription et de délivrance : liste I prescription limitée à 12 semaines Statut de l\\'autorisation : Valide Type de procédure : Procédure nationale Code CIS : 6 826 997 5 Retour en haut de la page Plan du site | Accessibilité | Contact | Téléchargement | Declaration de confidentialité | Service-Public.fr | Legifrance | Gouvernement.fr', 'Fiche info - KARDEGIC 160 mg, poudre pour solution buvable en sachet - Base de données publique des médicaments Base de données publique des médicaments Visiter [medicaments.gouv.fr] Accueil | Glossaire | Aide Dernière mise à jour le 03/03/2025 KARDEGIC 160 mg, poudre pour solution buvable en sachet Date de l\\'autorisation : 21/02/1990 Cliquez sur un pictogramme pour aller directement à la rubrique le concernant. Pour plus d\\'information sur les pictogrammes, consultez l\\'aide . Indications thérapeutiques Classe pharmacothérapeutique : ANTI-THROMBOTIQUE/INHIBITEUR DE L\\'AGREGATION PLAQUETTAIRE, HEPARINE EXCLUE. Ce médicament contient de l\\x92aspirine. KARDEGIC 160 mg, poudre pour solution buvable en sachet appartient à la famille des inhibiteurs de l\\x92agrégation plaquettaire. KARDEGIC 160 mg, poudre pour solution buvable en sachet agit sur les plaquettes présentes dans le sang et permet de fluidifier le sang. Indications thérapeutiques : KARDEGIC 160 mg, poudre pour solution buvable en sachet est utilisé pour prévenir les récidives d\\x92accidents vasculaires cérébraux ou cardiaques provoqués par des caillots dans les artères du cerveau ou du c\\x9cur. Votre médecin peut décider d\\x92associer ce médicament à d\\x92autres traitements s\\x92il le juge nécessaire. Ce médicament est réservé à l\\x92adulte. Vous ne devez pas débuter un traitement par KARDEGIC 160 mg, poudre pour solution buvable en sachet sans l\\x92accord de votre médecin. Groupe(s) générique(s) Ce médicament n\\'appartient à aucun groupe générique Composition en substances actives Poudre (Composition pour un sachet de 327,4 mg) > acide acétylsalicylique 160 mg sous forme de : acétylsalicylate de DL-lysine 288 mg Présentations > 30 sachet(s) papier aluminium polyéthylène de 327,4 mg Code CIP : 332 473-7 ou 34009 332 473 7 9 Déclaration de commercialisation : 19/02/1993 Cette présentation est agréée aux collectivités En pharmacie de ville : Prix hors honoraire de dispensation : 1,62 € Honoraire de dispensation : 1,02 € Prix honoraire compris : 2,64 € Taux de remboursement : 65% Les indications ouvrant droit au remboursement par l\\'Assurance Maladie sont disponibles en cliquant ici Ce médicament peut être pris en charge ou remboursé par l\\'Assurance Maladie dans les cas suivants : - Prévention, après un premier accident ischémique myocardique ou cérébral lié à l¿athérosclérose, d\\'une récidive. ; JOURNAL OFFICIEL ; 01/08/93 Service médical rendu (SMR) Les libellés affichés ci-dessous ne sont que des résumés ou extraits issus des avis rendus par la Commission de la Transparence. Seul l\\'avis complet de la Commission de la Transparence fait référence. Cet avis est consultable à partir du lien \"Avis du jj/mm/aaaa\" ou encore sur demande auprès de la HAS ( plus d\\'informations dans l\\'aide ). Les avis et synthèses d\\'avis contiennent un paragraphe sur la place du médicament dans la stratégie thérapeutique. Liste des avis de SMR rendus par la commission de la transparence pour KARDEGIC 160 mg, poudre pour solution buvable en sachet Valeur du SMR Avis Motif de l\\'évaluation Résumé de l\\'avis Modéré Avis du 24/03/2021 Modification des conditions d\\'inscription (CT) Le service médical rendu par KARDEGIC (acide acétylsalicylique), poudre pour solution buvable en sachets-dose, est modéré dans la prévention des complications cardiovasculaires et cérébrovasculaires liées à l\\x92athérosclérose chez les patients à haut risque vasculaire atteints d\\x92une AOMI confirmée. Modéré Avis du 24/03/2021 Modification des conditions d\\'inscription (CT) Le service médical rendu par KARDEGIC (acide acétylsalicylique), poudre pour solution buvable en sachets-dose, est modéré dans la prévention des complications cardiovasculaires et cérébrovasculaires liées à l\\x92athérosclérose chez les patients à haut risque vasculaire atteints d\\x92une AOMI confirmée. Modéré Avis du 24/03/2021 Modification des conditions d\\'inscription (CT) Le service médical rendu par KARDEGIC (acide acétylsalicylique), poudre pour solution buvable en sachets-dose, est modéré dans la prévention des complications cardiovasculaires et cérébrovasculaires liées à l\\x92athérosclérose chez les patients à haut risque vasculaire atteints d\\x92une AOMI confirmée. Important Avis du 11/01/2017 Renouvellement d\\'inscription (CT) Le service médical rendu par les spécialités KARDEGIC reste important dans les indications de l\\x92AMM. Important Avis du 11/01/2017 Renouvellement d\\'inscription (CT) Le service médical rendu par les spécialités KARDEGIC reste important dans les indications de l\\x92AMM. Important Avis du 11/01/2017 Renouvellement d\\'inscription (CT) Le service médical rendu par les spécialités KARDEGIC reste important dans les indications de l\\x92AMM. Amélioration du service médical rendu (ASMR) Les libellés affichés ci-dessous ne sont que des résumés ou extraits issus des avis rendus par la Commission de la Transparence. Seul l\\'avis complet de la Commission de la Transparence fait référence. Cet avis est consultable à partir du lien \"Avis du jj/mm/aaaa\" ou encore sur demande auprès de la HAS ( plus d\\'informations dans l\\'aide ). Les avis et synthèses d\\'avis contiennent un paragraphe sur la place du médicament dans la stratégie thérapeutique. Liste des avis d\\'ASMR rendus par la commission de la transparence pour KARDEGIC 160 mg, poudre pour solution buvable en sachet Valeur de l\\'ASMR Avis Motif de l\\'évaluation Résumé de l\\'avis V (Inexistant) Avis du 24/03/2021 Modification des conditions d\\'inscription (CT) Compte-tenu : \\x95 De la démonstration dans une méta-analyse de la supériorité de l\\x92acide acétylsalicylique par rapport au placebo en termes de réduction du risque d\\x92événements vasculaires majeurs, critère combinant IDM non mortel, AVC non mortel ou décès d\\x92origine vasculaire (OR=0,50, IC95% [0,29-0,88]), considéré comme cliniquement pertinent, Mais : \\x95 des faiblesses méthodologiques de cette méta-analyse au regard notamment des faibles effectifs des études incluses, \\x95 Des incertitudes sur la tolérance hémorragique dans cette indication, peu documentée, \\x95 De l\\x92absence de démonstration d\\x92un bénéfice en comparaison aux alternatives disponibles, notamment par rapport au clopidogrel, la Commission de la Transparence considère que KARDEGIC (acide acétylsalicylique) n\\x92apporte pas d\\x92amélioration du service médical rendu (ASMR V) dans la stratégie de prise en charge de l\\x92AOMI confirmée. V (Inexistant) Avis du 24/03/2021 Modification des conditions d\\'inscription (CT) Compte-tenu : \\x95 De la démonstration dans une méta-analyse de la supériorité de l\\x92acide acétylsalicylique par rapport au placebo en termes de réduction du risque d\\x92événements vasculaires majeurs, critère combinant IDM non mortel, AVC non mortel ou décès d\\x92origine vasculaire (OR=0,50, IC95% [0,29-0,88]), considéré comme cliniquement pertinent, Mais : \\x95 des faiblesses méthodologiques de cette méta-analyse au regard notamment des faibles effectifs des études incluses, \\x95 Des incertitudes sur la tolérance hémorragique dans cette indication, peu documentée, \\x95 De l\\x92absence de démonstration d\\x92un bénéfice en comparaison aux alternatives disponibles, notamment par rapport au clopidogrel, la Commission de la Transparence considère que KARDEGIC (acide acétylsalicylique) n\\x92apporte pas d\\x92amélioration du service médical rendu (ASMR V) dans la stratégie de prise en charge de l\\x92AOMI confirmée. V (Inexistant) Avis du 24/03/2021 Modification des conditions d\\'inscription (CT) Compte-tenu : \\x95 De la démonstration dans une méta-analyse de la supériorité de l\\x92acide acétylsalicylique par rapport au placebo en termes de réduction du risque d\\x92événements vasculaires majeurs, critère combinant IDM non mortel, AVC non mortel ou décès d\\x92origine vasculaire (OR=0,50, IC95% [0,29-0,88]), considéré comme cliniquement pertinent, Mais : \\x95 des faiblesses méthodologiques de cette méta-analyse au regard notamment des faibles effectifs des études incluses, \\x95 Des incertitudes sur la tolérance hémorragique dans cette indication, peu documentée, \\x95 De l\\x92absence de démonstration d\\x92un bénéfice en comparaison aux alternatives disponibles, notamment par rapport au clopidogrel, la Commission de la Transparence considère que KARDEGIC (acide acétylsalicylique) n\\x92apporte pas d\\x92amélioration du service médical rendu (ASMR V) dans la stratégie de prise en charge de l\\x92AOMI confirmée. Autres informations (cliquer pour afficher) Titulaire de l\\'autorisation : SANOFI WINTHROP INDUSTRIE Conditions de prescription et de délivrance : Aucune Statut de l\\'autorisation : Valide Type de procédure : Procédure nationale Code CIS : 6 134 844 1 Retour en haut de la page Plan du site | Accessibilité | Contact | Téléchargement | Declaration de confidentialité | Service-Public.fr | Legifrance | Gouvernement.fr', 'Fiche info - DOLIPRANE 500 mg, comprimé - Base de données publique des médicaments Base de données publique des médicaments Visiter [medicaments.gouv.fr] Accueil | Glossaire | Aide Dernière mise à jour le 03/03/2025 DOLIPRANE 500 mg, comprimé Date de l\\'autorisation : 26/04/1996 Cliquez sur un pictogramme pour aller directement à la rubrique le concernant. Pour plus d\\'information sur les pictogrammes, consultez l\\'aide . Informations importantes Les informations importantes disponibles pour ce médicament sont les suivantes : Bon usage du paracétamol et des anti-inflammatoires non stéroïdiens (AINS) : ces médicaments ne pourront plus être présentés en libre accès - Point d\\'Information Paracétamol, anti-inflammatoires non stéroïdiens (AINS) et alpha-amylase : accessibles uniquement sur demande aux pharmaciens à compter du 15 janvier 2020 - Point d\\'Information Savez-vous bien utiliser le paracétamol contre la douleur et la fièvre ? Plan hivernal : point de situation sur l\\'approvisionnement de certains médicaments majeurs de l\\'hiver Indications thérapeutiques Classe pharmacothérapeutique - code ATC : N02BE01. DOLIPRANE 500 mg, comprimé contient du paracétamol. Le paracétamol est un antalgique (calme la douleur) et un antipyrétique (fait baisser la fièvre). Ce médicament est indiqué chez l\\x92adulte et l\\x92enfant à partir de 27 kg (environ 8 ans) pour faire baisser la fièvre et/ou soulager les douleurs légères à modérées (par exemple : maux de tête, états grippaux, douleurs dentaires, courbatures, règles douloureuses, poussées douloureuses de l\\x92arthrose). Lire attentivement le paragraphe « Posologie » de la rubrique 3. Pour les enfants de moins de 27 kg, il existe d\\x92autres présentations de paracétamol : demandez conseil à votre médecin ou à votre pharmacien. Groupe(s) générique(s) Ce médicament n\\'appartient à aucun groupe générique Composition en substances actives Comprimé (Composition pour un comprimé) > paracétamol 500 mg Présentations > plaquette(s) thermoformée(s) PVC-Aluminium de 16 comprimé(s) Code CIP : 323 201-8 ou 34009 323 201 8 9 Déclaration de commercialisation : 19/02/1981 Cette présentation est agréée aux collectivités En pharmacie de ville : Prix hors honoraire de dispensation : 1,16 € Honoraire de dispensation : 1,02 € Prix honoraire compris : 2,18 € Taux de remboursement : 65% > 10 plaquette(s) thermoformée(s) papier aluminium polyéthylène de 10 comprimé(s) Code CIP : 554 733-5 ou 34009 554 733 5 0 Déclaration de commercialisation : 19/05/1984 Cette présentation est agréée aux collectivités Prix libre, médicament non remboursable ( cliquez ici pour en savoir plus sur les médicaments non remboursables ) Documents de bon usage du médicament Prise en charge de la fièvre chez l\\x92enfant Auteur : Haute autorité de santé Type : Fiche mémo Date de mise à jour : Octobre 2016 Prise en charge de la fièvre chez l\\x92enfant Auteur : Haute autorité de santé Type : Fiche mémo Date de mise à jour : Octobre 2016 Prise en charge de la fièvre chez l\\x92enfant Auteur : Haute autorité de santé Type : Fiche mémo Date de mise à jour : Octobre 2016 Prise en charge médicamenteuse de la douleur chez l\\'enfant : alternatives à la codéine Auteur : Haute autorité de santé Type : Fiche mémo Date de mise à jour : Février 2016 Prise en charge médicamenteuse de la douleur chez l\\'enfant : alternatives à la codéine Auteur : Haute autorité de santé Type : Fiche mémo Date de mise à jour : Février 2016 Prise en charge médicamenteuse de la douleur chez l\\'enfant : alternatives à la codéine Auteur : Haute autorité de santé Type : Fiche mémo Date de mise à jour : Février 2016 Service médical rendu (SMR) Les libellés affichés ci-dessous ne sont que des résumés ou extraits issus des avis rendus par la Commission de la Transparence. Seul l\\'avis complet de la Commission de la Transparence fait référence. Cet avis est consultable à partir du lien \"Avis du jj/mm/aaaa\" ou encore sur demande auprès de la HAS ( plus d\\'informations dans l\\'aide ). Les avis et synthèses d\\'avis contiennent un paragraphe sur la place du médicament dans la stratégie thérapeutique. Liste des avis de SMR rendus par la commission de la transparence pour DOLIPRANE 500 mg, comprimé Valeur du SMR Avis Motif de l\\'évaluation Résumé de l\\'avis Important Avis du 01/04/2015 Renouvellement d\\'inscription (CT) Le service médical rendu par les spécialités DOLIPRANE, GELUPRANE et PARACETAMOL ZENTIVA reste important dans les indications de l\\x92AMM. Important Avis du 01/04/2015 Renouvellement d\\'inscription (CT) Le service médical rendu par les spécialités DOLIPRANE, GELUPRANE et PARACETAMOL ZENTIVA reste important dans les indications de l\\x92AMM. Important Avis du 01/04/2015 Renouvellement d\\'inscription (CT) Le service médical rendu par les spécialités DOLIPRANE, GELUPRANE et PARACETAMOL ZENTIVA reste important dans les indications de l\\x92AMM. Amélioration du service médical rendu (ASMR) Pas d\\'ASMR disponible pour ce médicament ( plus d\\'informations dans l\\'aide ) Autres informations (cliquer pour afficher) Titulaire de l\\'autorisation : OPELLA HEALTHCARE FRANCE SAS Conditions de prescription et de délivrance : Aucune Statut de l\\'autorisation : Valide Type de procédure : Procédure nationale Code CIS : 6 336 833 2 Retour en haut de la page Plan du site | Accessibilité | Contact | Téléchargement | Declaration de confidentialité | Service-Public.fr | Legifrance | Gouvernement.fr']\n"
     ]
    }
   ],
   "source": [
    "text_lines = []\n",
    "\n",
    "for file in files:\n",
    "    with open(file, 'r', encoding='ISO-8859-1') as f:\n",
    "        print(f\"Processing: {file}\")\n",
    "        raw_html = f.read()\n",
    "\n",
    "        # Clean HTML to plain text\n",
    "        soup = BeautifulSoup(raw_html, \"html.parser\")\n",
    "        clean_text = soup.get_text(separator=\" \", strip=True)\n",
    "\n",
    "        # Optional: remove excess whitespace\n",
    "        clean_text = \" \".join(clean_text.split())\n",
    "\n",
    "        # Split cleaned text\n",
    "        text_splitter = RecursiveCharacterTextSplitter(chunk_size=20000, chunk_overlap=50)\n",
    "        chunks = text_splitter.split_text(clean_text)\n",
    "\n",
    "        text_lines.extend(chunks)\n",
    "\n",
    "        \n",
    "print(text_lines[:5])  # Print first 5 chunks for verification\n",
    "\n",
    "        \n",
    "        "
   ]
  },
  {
   "cell_type": "markdown",
   "metadata": {},
   "source": [
    "2. Embedding a sentence"
   ]
  },
  {
   "cell_type": "code",
   "execution_count": 187,
   "metadata": {},
   "outputs": [],
   "source": [
    "from sentence_transformers import SentenceTransformer"
   ]
  },
  {
   "cell_type": "code",
   "execution_count": 203,
   "metadata": {},
   "outputs": [
    {
     "name": "stdout",
     "output_type": "stream",
     "text": [
      "Embedding for first chunk: [[-5.64096728e-03 -5.37636578e-02 -3.59106101e-02 -6.33561388e-02\n",
      "  -6.85769618e-02  2.65338700e-02  2.50280909e-02  1.67792171e-01\n",
      "   4.04125340e-02 -2.17751637e-02  3.17669958e-02 -9.73141007e-03\n",
      "   4.97239605e-02  3.42365075e-03 -5.91514409e-02 -1.56180356e-02\n",
      "   4.91707250e-02 -1.04245031e-02  2.26925686e-02  4.52948399e-02\n",
      "   3.71564068e-02  6.50669038e-02 -2.88937651e-02  4.87636961e-02\n",
      "  -2.92462744e-02  1.01817204e-02  5.29631600e-03 -5.91232404e-02\n",
      "   3.49166468e-02 -1.95771102e-02  6.55516684e-02  5.14251105e-02\n",
      "   5.42769879e-02 -8.20764452e-02  5.46876751e-02  1.22944042e-01\n",
      "  -1.63360253e-01 -5.73268998e-03 -6.01159818e-02  5.27237616e-02\n",
      "  -9.47566144e-03 -4.92370799e-02 -5.86613342e-02 -5.09079359e-02\n",
      "   6.56111017e-02 -1.10057771e-01 -4.71003912e-02 -3.43009233e-02\n",
      "  -5.52962869e-02  9.18113142e-02 -8.92752931e-02 -4.62643569e-03\n",
      "  -5.10504358e-02  3.11939456e-02  7.87817966e-03 -8.50793645e-02\n",
      "  -1.40313864e-01 -1.28896246e-02 -6.03171848e-02  3.93165983e-02\n",
      "  -2.53847502e-02  5.97687699e-02 -6.04009181e-02 -6.17656820e-02\n",
      "  -6.66907988e-03  1.49760749e-02  3.68280448e-02 -4.68857251e-02\n",
      "   4.32534888e-02  9.55167506e-03 -1.94962341e-02 -7.47688413e-02\n",
      "   4.36329171e-02  8.26821774e-02  3.39629613e-02  2.29794774e-02\n",
      "   5.78477699e-03 -3.07170041e-02 -1.27866073e-02 -1.00866690e-01\n",
      "   6.19210750e-02  4.95820232e-02 -1.57204662e-02  7.60385841e-02\n",
      "   2.28412561e-02  1.19614210e-02  2.38807239e-02  2.49666162e-02\n",
      "   6.67226687e-03 -2.86891833e-02  1.43586457e-01  4.54489775e-02\n",
      "  -8.98131654e-02 -5.24159484e-02  3.34227644e-02 -4.31926809e-02\n",
      "  -1.49160102e-02 -5.15150800e-02  5.33342063e-02 -2.55846488e-03\n",
      "  -2.91230157e-02  2.85260305e-02 -4.10235934e-02 -5.41132241e-02\n",
      "  -1.10394001e-01 -5.93022816e-02  5.30965328e-02 -2.01520845e-02\n",
      "   6.35527000e-02  2.00015772e-02 -4.83171344e-02  3.28027755e-02\n",
      "  -4.15899195e-02 -4.76268455e-02 -3.27035366e-03  1.96804944e-02\n",
      "  -5.23964642e-03 -9.47926641e-02  5.07326797e-02 -4.20963205e-02\n",
      "   3.02977581e-02 -4.36485037e-02  8.71060267e-02 -5.55482134e-02\n",
      "   6.08628907e-04 -2.85002030e-03  8.69349018e-02 -1.38723964e-33\n",
      "  -4.86853719e-02 -1.01670725e-02  2.20827889e-02  7.11552128e-02\n",
      "   4.36131135e-02 -1.92321315e-02 -5.56536838e-02 -3.66274826e-02\n",
      "   7.32472315e-02 -1.06512703e-01 -9.10875723e-02 -3.11251660e-03\n",
      "  -6.29159659e-02  7.01050758e-02 -4.34476472e-02 -4.64241691e-02\n",
      "   6.64762482e-02  2.85108779e-02  6.11850619e-02 -4.15186733e-02\n",
      "  -3.61802522e-03 -2.58308090e-02  1.28659494e-02  9.46924388e-02\n",
      "   7.62555329e-03  4.25154530e-02  7.74484500e-02  1.28057217e-02\n",
      "  -5.12988903e-02 -1.22129982e-02  6.01608157e-02 -3.00950389e-02\n",
      "  -3.19006592e-02 -4.55559120e-02 -4.36068140e-02  2.79627442e-02\n",
      "   7.18207564e-03 -4.33697784e-03  5.75837344e-02  1.68155525e-02\n",
      "  -4.09669317e-02  9.22929421e-02  7.03297406e-02  6.63518086e-02\n",
      "   4.33286950e-02 -1.77465323e-02 -8.91909748e-02  2.05831807e-02\n",
      "   6.10860512e-02  8.83032195e-03 -3.13065387e-02 -1.35667566e-02\n",
      "   2.82442733e-03  7.01323804e-03 -8.13875571e-02  5.15586510e-02\n",
      "  -8.90436098e-02  6.45705760e-02  2.28973422e-02  1.18078226e-02\n",
      "   1.88759845e-02 -1.90284364e-02  2.16890424e-02 -2.52483841e-02\n",
      "   5.28099053e-02 -5.38300676e-03 -1.28073156e-01 -6.01009205e-02\n",
      "   3.96501534e-02  6.99132215e-03 -8.18688646e-02  1.54209649e-02\n",
      "   5.83716221e-02  1.37041146e-02  3.20757926e-02  4.39437386e-03\n",
      "  -1.08213602e-02  7.67542720e-02  2.71769166e-02  2.63012070e-02\n",
      "  -2.81940456e-02 -1.25584947e-02 -4.96084690e-02  4.33454774e-02\n",
      "  -3.71191502e-02 -1.20814759e-02  1.06509412e-02  2.12623775e-02\n",
      "  -4.57145162e-02 -1.15732092e-03  1.32782878e-02  7.16920942e-03\n",
      "   9.86287929e-03  2.85828523e-02  2.41073873e-02 -3.23700618e-33\n",
      "   4.42760624e-02 -1.16493274e-02  3.38933207e-02  2.80051455e-02\n",
      "   5.81282079e-02  4.03000936e-02  2.93631442e-02 -3.69073264e-02\n",
      "   5.22882566e-02 -8.42501596e-03  9.35110897e-02  5.52982837e-02\n",
      "  -1.37676289e-02 -2.63153128e-02 -9.89140049e-02  8.90300795e-02\n",
      "  -4.89264429e-02  5.90027608e-02 -1.23840004e-01  1.27632078e-02\n",
      "  -4.06418666e-02  8.37877244e-02  6.48894347e-04 -6.13134960e-03\n",
      "   5.67236282e-02  5.91810793e-02  1.61206108e-02 -4.56114076e-02\n",
      "  -1.56411454e-02  3.31683387e-03  4.50608917e-02 -3.14789601e-02\n",
      "  -6.64636493e-02 -4.85165156e-02 -2.86141671e-02  4.45726234e-03\n",
      "   7.07480088e-02 -2.71272641e-02 -1.09704249e-01  3.87977250e-02\n",
      "   5.88240921e-02  3.61839198e-02  5.27088046e-02 -7.98794702e-02\n",
      "   6.25726059e-02 -4.48934771e-02  2.61297300e-02 -9.12442803e-02\n",
      "   5.30637577e-02 -2.14142445e-02  7.40760118e-02  3.75618935e-02\n",
      "  -2.13986207e-02 -4.54419330e-02  1.60948783e-02  3.32877110e-03\n",
      "  -4.29989472e-02 -2.03146972e-02 -1.12979300e-01 -8.03009719e-02\n",
      "   2.95820776e-02  3.50263640e-02 -6.83121523e-03 -4.35177274e-02\n",
      "  -7.48860277e-03  2.95505673e-03  2.16926187e-02  4.86544520e-03\n",
      "  -1.33398536e-03 -7.09713027e-02 -4.50269273e-03 -4.24399003e-02\n",
      "   4.56915013e-02 -4.41846577e-03  3.09243537e-02 -3.99510711e-02\n",
      "  -4.67919670e-02 -3.48632634e-02 -1.75736030e-03 -1.16908588e-02\n",
      "  -4.04579975e-02 -4.58450243e-02 -5.13824634e-02 -4.27827947e-02\n",
      "  -7.52116591e-02 -7.73704499e-02 -5.35713369e-03 -2.82453205e-02\n",
      "  -1.55735966e-02  1.45071317e-02 -9.87634584e-02 -4.15366925e-02\n",
      "  -2.63737682e-02  1.62673853e-02  9.82325077e-02 -6.61903456e-08\n",
      "   1.63931195e-02 -8.02066848e-02 -3.77042219e-02  5.62435482e-03\n",
      "  -2.98494729e-03 -6.89975768e-02 -6.72189742e-02 -1.32974947e-03\n",
      "  -4.43869531e-02 -2.04386618e-02 -5.29018976e-02  7.78060555e-02\n",
      "  -6.18338585e-02 -1.56424064e-02 -5.70252165e-02 -3.14698108e-02\n",
      "  -2.22730283e-02  7.62859806e-02 -7.31024072e-02 -1.05469592e-01\n",
      "  -3.20125073e-02  2.68633221e-03 -4.16905917e-02 -5.48764914e-02\n",
      "   3.31964791e-02  1.05712807e-03 -1.50068868e-02 -9.34502576e-03\n",
      "  -1.65330637e-02  2.56446045e-04  2.52824295e-02  2.39773169e-02\n",
      "   2.76776049e-02 -5.56277744e-02  4.92124408e-02  1.44819086e-02\n",
      "   2.67256275e-02  5.64864613e-02 -7.06255389e-03  1.18326038e-01\n",
      "  -1.55258151e-02 -8.98117870e-02 -3.10916584e-02  5.09717539e-02\n",
      "  -3.05721676e-03  5.21061476e-04 -3.67943011e-02  1.06804028e-01\n",
      "   1.26804570e-02 -1.78413205e-02 -1.47890989e-02  1.73063315e-02\n",
      "   4.47267853e-03 -4.18297648e-02 -9.09763947e-02  4.34199944e-02\n",
      "   9.55554750e-03 -1.16721271e-02  8.50887038e-03 -1.15692176e-01\n",
      "   3.27133797e-02  2.02646330e-02  5.51041886e-02 -4.41826023e-02]]\n"
     ]
    }
   ],
   "source": [
    "embedding_model = SentenceTransformer(\"all-MiniLM-L6-v2\") \n",
    "s = text_lines[0]\n",
    "e = embedding_model.encode([s])\n"
   ]
  },
  {
   "cell_type": "markdown",
   "metadata": {},
   "source": [
    "3. Creating a Milvus data collection\n"
   ]
  },
  {
   "cell_type": "code",
   "execution_count": 189,
   "metadata": {},
   "outputs": [],
   "source": [
    "from pymilvus import MilvusClient"
   ]
  },
  {
   "cell_type": "code",
   "execution_count": 190,
   "metadata": {},
   "outputs": [],
   "source": [
    "embedding_model = SentenceTransformer(\"all-MiniLM-L6-v2\") \n",
    "\n",
    "def emb_text (text_lines):\n",
    "    embeddings = embedding_model.encode(text_lines, batch_size=32, show_progress_bar=False)\n",
    "    return embeddings"
   ]
  },
  {
   "cell_type": "code",
   "execution_count": 191,
   "metadata": {},
   "outputs": [],
   "source": [
    "milvus_client = MilvusClient(uri=\"./my_milvus_db.db\")\n",
    "collection_name = \"rag_collection\"\n",
    "milvus_client.create_collection(\n",
    " collection_name=collection_name,\n",
    " dimension= 384, # The size of the embedding\n",
    " metric_type=\"IP\", # Inner product distance\n",
    " consistency_level=\"Strong\", # Strong consistency level\n",
    ")\n"
   ]
  },
  {
   "cell_type": "code",
   "execution_count": 192,
   "metadata": {},
   "outputs": [],
   "source": [
    "data = []\n",
    "# In the following example, emb_text is a function that needs to be written, based on\n",
    "# an embedding model\n",
    "for i, line in enumerate(text_lines):\n",
    "    data.append({\"id\": i, \"vector\": emb_text(line), \"text\": line})\n"
   ]
  },
  {
   "cell_type": "code",
   "execution_count": 193,
   "metadata": {},
   "outputs": [],
   "source": [
    "insert_res = milvus_client.insert(collection_name=collection_name, data=data)"
   ]
  },
  {
   "cell_type": "markdown",
   "metadata": {},
   "source": [
    "4. Retrieving data for a query"
   ]
  },
  {
   "cell_type": "code",
   "execution_count": 206,
   "metadata": {},
   "outputs": [
    {
     "name": "stdout",
     "output_type": "stream",
     "text": [
      "data: ['[{\\'id\\': 1616, \\'distance\\': 0.5525888204574585, \\'entity\\': {\\'text\\': \\'Européen Sans objet. La dernière date à laquelle cette notice a été révisée est : [à compléter ultérieurement par le titulaire] {mois AAAA}. Autres Des informations détaillées sur ce médicament sont disponibles sur le site Internet de l\\\\x92ANSM (France). CONSEIL D\\\\x92EDUCATION SANITAIRE : \"QUE FAIRE EN CAS DE FIEVRE\" : La température normale du corps est variable d\\\\\\'un individu à l\\\\\\'autre et comprise entre 36,5°C et 37,5°C. Une élévation de plus de 0,8°C est considérée comme une fièvre. Chez l\\\\\\'adulte et chez l\\\\\\'enfant de plus de 20 kg (environ 6 ans): si les troubles qu\\\\\\'elle entraîne sont trop gênants, vous pouvez prendre un médicament qui contient de l\\\\\\'ibuprofène en respectant les posologies indiquées. Avec ce médicament, la fièvre doit baisser rapidement. Néanmoins : · si d\\\\\\'autres signes apparaissent (comme une éruption cutanée), · si la fièvre persiste plus de 3 jours ou si elle s\\\\\\'aggrave, · si les maux de tête deviennent violents, ou en cas de vomissements, CONSULTEZ IMMEDIATEMENT VOTRE\\'}}, {\\'id\\': 1617, \\'distance\\': 0.5462767481803894, \\'entity\\': {\\'text\\': \\'de vomissements, CONSULTEZ IMMEDIATEMENT VOTRE MEDECIN. \"QUE FAIRE EN CAS DE DOULEUR\" : · En l\\\\\\'absence d\\\\\\'amélioration au bout de 5 jours de traitement, · Si la douleur revient régulièrement, · Si elle s\\\\\\'accompagne de fièvre, · Si elle vous réveille la nuit, CONSULTEZ IMMEDIATEMENT VOTRE MEDECIN. Retour en haut de la page Plan du site | Accessibilité | Contact | Téléchargement | Declaration de confidentialité | Service-Public.fr | Legifrance | Gouvernement.fr\\'}}, {\\'id\\': 162, \\'distance\\': 0.5164653658866882, \\'entity\\': {\\'text\\': \"la fièvre avec un médicament en dessous de 38,5°C. Ce médicament est réservé à l\\\\x92adulte et à l\\'enfant à partir de 50 kg (environ 15 ans). Si les troubles que la fièvre entraîne sont trop gênants, vous pouvez prendre ce médicament qui contient du paracétamol en respectant les posologies indiquées. Pour éviter tout risque de déshydratation, pensez à boire fréquemment. Avec ce médicament, la fièvre doit baisser rapidement. Néanmoins : · si d\\'autres signes inhabituels apparaissent, · si la fièvre persiste plus de 3 jours ou si elle s\\'aggrave, · si les maux de tête deviennent violents, ou en cas de vomissements, CONSULTEZ IMMÉDIATEMENT VOTRE MÉDECIN. QUE FAIRE EN CAS DE DOULEUR : L\\'intensité de la perception de la douleur et la capacité à lui résister varient d\\'une personne à l\\'autre. · S\\'il n\\'y a pas d\\'amélioration au bout de 5 jours de traitement, · si la douleur est violente, inattendue et survient de façon brutale (notamment une douleur forte dans la poitrine) et/ou au contraire\"}}, {\\'id\\': 4995, \\'distance\\': 0.5091710686683655, \\'entity\\': {\\'text\\': \\'considéré comme probable en cas d\\\\x92utilisation occasionnelle d\\\\x92ibuprofène (voir rubrique 4.5).</p>\\'}}]']\n"
     ]
    }
   ],
   "source": [
    "question = \"Que faire en cas de fievre\"\n",
    "search_res = milvus_client.search(\n",
    " collection_name=collection_name,\n",
    " data=[\n",
    " emb_text(question)\n",
    " ],\n",
    " limit=5, # Return top 3 results\n",
    " search_params={\"metric_type\": \"IP\", \"params\": {}}, # Inner product distance\n",
    " output_fields=[\"text\"], # Return the text field\n",
    ")\n",
    "\n",
    "print(search_res)"
   ]
  },
  {
   "cell_type": "code",
   "execution_count": 222,
   "metadata": {},
   "outputs": [],
   "source": [
    "import re"
   ]
  },
  {
   "cell_type": "code",
   "execution_count": 224,
   "metadata": {},
   "outputs": [
    {
     "name": "stdout",
     "output_type": "stream",
     "text": [
      "['Européen Sans objet. La dernière date à laquelle cette notice a été révisée est : [à compléter ultérieurement par le titulaire] {mois AAAA}. Autres Des informations détaillées sur ce médicament sont disponibles sur le site Internet de l\\x92ANSM (France). CONSEIL D\\x92EDUCATION SANITAIRE : \"QUE FAIRE EN CAS DE FIEVRE\" : La température normale du corps est variable d\\'un individu à l\\'autre et comprise entre 36,5°C et 37,5°C. Une élévation de plus de 0,8°C est considérée comme une fièvre. Chez l\\'adulte et chez l\\'enfant de plus de 20 kg (environ 6 ans): si les troubles qu\\'elle entraîne sont trop gênants, vous pouvez prendre un médicament qui contient de l\\'ibuprofène en respectant les posologies indiquées. Avec ce médicament, la fièvre doit baisser rapidement. Néanmoins : · si d\\'autres signes apparaissent (comme une éruption cutanée), · si la fièvre persiste plus de 3 jours ou si elle s\\'aggrave, · si les maux de tête deviennent violents, ou en cas de vomissements, CONSULTEZ IMMEDIATEMENT VOTRE', 'de vomissements, CONSULTEZ IMMEDIATEMENT VOTRE MEDECIN. \"QUE FAIRE EN CAS DE DOULEUR\" : · En l\\'absence d\\'amélioration au bout de 5 jours de traitement, · Si la douleur revient régulièrement, · Si elle s\\'accompagne de fièvre, · Si elle vous réveille la nuit, CONSULTEZ IMMEDIATEMENT VOTRE MEDECIN. Retour en haut de la page Plan du site | Accessibilité | Contact | Téléchargement | Declaration de confidentialité | Service-Public.fr | Legifrance | Gouvernement.fr', \"la fièvre avec un médicament en dessous de 38,5°C. Ce médicament est réservé à l\\x92adulte et à l'enfant à partir de 50 kg (environ 15 ans). Si les troubles que la fièvre entraîne sont trop gênants, vous pouvez prendre ce médicament qui contient du paracétamol en respectant les posologies indiquées. Pour éviter tout risque de déshydratation, pensez à boire fréquemment. Avec ce médicament, la fièvre doit baisser rapidement. Néanmoins : · si d'autres signes inhabituels apparaissent, · si la fièvre persiste plus de 3 jours ou si elle s'aggrave, · si les maux de tête deviennent violents, ou en cas de vomissements, CONSULTEZ IMMÉDIATEMENT VOTRE MÉDECIN. QUE FAIRE EN CAS DE DOULEUR : L'intensité de la perception de la douleur et la capacité à lui résister varient d'une personne à l'autre. · S'il n'y a pas d'amélioration au bout de 5 jours de traitement, · si la douleur est violente, inattendue et survient de façon brutale (notamment une douleur forte dans la poitrine) et/ou au contraire\", 'considéré comme probable en cas d\\x92utilisation occasionnelle d\\x92ibuprofène (voir rubrique 4.5).</p>']\n"
     ]
    }
   ],
   "source": [
    "context = [result['entity']['text'] for result in search_res[0]]\n",
    "print(context)\n",
    "context_str = \" \".join(context)  # turn list into a single string\n",
    "context = re.sub(r\"{.*?}\", \"\", context_str)\n",
    "\n"
   ]
  },
  {
   "cell_type": "markdown",
   "metadata": {},
   "source": [
    "5. Create a prompt "
   ]
  },
  {
   "cell_type": "code",
   "execution_count": 225,
   "metadata": {},
   "outputs": [
    {
     "data": {
      "application/vnd.jupyter.widget-view+json": {
       "model_id": "4cfd270645a1493993a4dddc229588b5",
       "version_major": 2,
       "version_minor": 0
      },
      "text/plain": [
       "VBox(children=(HTML(value='<center> <img\\nsrc=https://huggingface.co/front/assets/huggingface_logo-noborder.sv…"
      ]
     },
     "metadata": {},
     "output_type": "display_data"
    }
   ],
   "source": [
    "from huggingface_hub import notebook_login\n",
    "notebook_login()\n",
    "\n",
    "from transformers import AutoTokenizer, AutoModelForCausalLM"
   ]
  },
  {
   "cell_type": "code",
   "execution_count": 234,
   "metadata": {},
   "outputs": [],
   "source": [
    "model_name = \"gpt2\"\n",
    "\n",
    "tokenizer = AutoTokenizer.from_pretrained(model_name)\n",
    "model = AutoModelForCausalLM.from_pretrained(model_name)"
   ]
  },
  {
   "cell_type": "code",
   "execution_count": 227,
   "metadata": {},
   "outputs": [],
   "source": [
    "PROMPT = \"\"\"\n",
    "Utilise les informations dans <context> pour répondre à la question dans <question>.\n",
    "<context>\n",
    "{context}\n",
    "</context>\n",
    "<question>\n",
    "{question}\n",
    "</question>\" \\\n",
    "\"\"\""
   ]
  },
  {
   "cell_type": "code",
   "execution_count": 228,
   "metadata": {},
   "outputs": [
    {
     "name": "stdout",
     "output_type": "stream",
     "text": [
      "\n",
      "Utilise les informations dans <context> pour répondre à la question dans <question>.\n",
      "<context>\n",
      "Européen Sans objet. La dernière date à laquelle cette notice a été révisée est : [à compléter ultérieurement par le titulaire] . Autres Des informations détaillées sur ce médicament sont disponibles sur le site Internet de lANSM (France). CONSEIL DEDUCATION SANITAIRE : \"QUE FAIRE EN CAS DE FIEVRE\" : La température normale du corps est variable d'un individu à l'autre et comprise entre 36,5°C et 37,5°C. Une élévation de plus de 0,8°C est considérée comme une fièvre. Chez l'adulte et chez l'enfant de plus de 20 kg (environ 6 ans): si les troubles qu'elle entraîne sont trop gênants, vous pouvez prendre un médicament qui contient de l'ibuprofène en respectant les posologies indiquées. Avec ce médicament, la fièvre doit baisser rapidement. Néanmoins : · si d'autres signes apparaissent (comme une éruption cutanée), · si la fièvre persiste plus de 3 jours ou si elle s'aggrave, · si les maux de tête deviennent violents, ou en cas de vomissements, CONSULTEZ IMMEDIATEMENT VOTRE de vomissements, CONSULTEZ IMMEDIATEMENT VOTRE MEDECIN. \"QUE FAIRE EN CAS DE DOULEUR\" : · En l'absence d'amélioration au bout de 5 jours de traitement, · Si la douleur revient régulièrement, · Si elle s'accompagne de fièvre, · Si elle vous réveille la nuit, CONSULTEZ IMMEDIATEMENT VOTRE MEDECIN. Retour en haut de la page Plan du site | Accessibilité | Contact | Téléchargement | Declaration de confidentialité | Service-Public.fr | Legifrance | Gouvernement.fr la fièvre avec un médicament en dessous de 38,5°C. Ce médicament est réservé à ladulte et à l'enfant à partir de 50 kg (environ 15 ans). Si les troubles que la fièvre entraîne sont trop gênants, vous pouvez prendre ce médicament qui contient du paracétamol en respectant les posologies indiquées. Pour éviter tout risque de déshydratation, pensez à boire fréquemment. Avec ce médicament, la fièvre doit baisser rapidement. Néanmoins : · si d'autres signes inhabituels apparaissent, · si la fièvre persiste plus de 3 jours ou si elle s'aggrave, · si les maux de tête deviennent violents, ou en cas de vomissements, CONSULTEZ IMMÉDIATEMENT VOTRE MÉDECIN. QUE FAIRE EN CAS DE DOULEUR : L'intensité de la perception de la douleur et la capacité à lui résister varient d'une personne à l'autre. · S'il n'y a pas d'amélioration au bout de 5 jours de traitement, · si la douleur est violente, inattendue et survient de façon brutale (notamment une douleur forte dans la poitrine) et/ou au contraire considéré comme probable en cas dutilisation occasionnelle dibuprofène (voir rubrique 4.5).</p>\n",
      "</context>\n",
      "<question>\n",
      "Que faire en cas de fievre\n",
      "</question>\" \n"
     ]
    }
   ],
   "source": [
    "PROMPT = PROMPT.format(question=question, context=context)\n",
    "print(PROMPT)"
   ]
  },
  {
   "cell_type": "code",
   "execution_count": 235,
   "metadata": {},
   "outputs": [],
   "source": [
    "from transformers import AutoModelForCausalLM, AutoTokenizer\n",
    "import torch\n",
    "\n",
    "model_name = \"gpt2\" \n",
    "device = torch.device(\"mps\" if torch.backends.mps.is_available() else \"cuda\" if torch.cuda.is_available() else \"cpu\")\n",
    "tokenizer = AutoTokenizer.from_pretrained(model_name)\n",
    "model = AutoModelForCausalLM.from_pretrained(model_name, torch_dtype=torch.float16, device_map=None).to(device)\n",
    "\n"
   ]
  },
  {
   "cell_type": "code",
   "execution_count": 236,
   "metadata": {},
   "outputs": [
    {
     "name": "stderr",
     "output_type": "stream",
     "text": [
      "Setting `pad_token_id` to `eos_token_id`:50256 for open-end generation.\n"
     ]
    },
    {
     "name": "stdout",
     "output_type": "stream",
     "text": [
      "était en ce n'est pas de fievre,\n",
      "<context>\n",
      "<context>\n",
      "<context>\n",
      "<context>\n",
      "<context>\n",
      "<context>\n",
      "<context>\n",
      "<context>\n",
      "<context>\n",
      "<context>\n",
      "<context>\n",
      "<context>\n",
      "<context>\n",
      "<context>\n",
      "<context>\n",
      "<context>\n",
      "<context>\n",
      "<context>\n",
      "<context>\n",
      "<context><context><context><\n"
     ]
    }
   ],
   "source": [
    "inputs = tokenizer(PROMPT.format(question=question, context=context), return_tensors=\"pt\").to(device)\n",
    "output_ids = model.generate(**inputs, max_new_tokens=100)\n",
    "\n",
    "\n",
    "response = tokenizer.decode(output_ids[0][inputs.input_ids.shape[1]:], skip_special_tokens=True)\n",
    "print(response)"
   ]
  },
  {
   "cell_type": "code",
   "execution_count": null,
   "metadata": {},
   "outputs": [],
   "source": []
  },
  {
   "cell_type": "code",
   "execution_count": null,
   "metadata": {},
   "outputs": [],
   "source": []
  }
 ],
 "metadata": {
  "kernelspec": {
   "display_name": "deeplearning",
   "language": "python",
   "name": "python3"
  },
  "language_info": {
   "codemirror_mode": {
    "name": "ipython",
    "version": 3
   },
   "file_extension": ".py",
   "mimetype": "text/x-python",
   "name": "python",
   "nbconvert_exporter": "python",
   "pygments_lexer": "ipython3",
   "version": "3.11.11"
  }
 },
 "nbformat": 4,
 "nbformat_minor": 2
}
